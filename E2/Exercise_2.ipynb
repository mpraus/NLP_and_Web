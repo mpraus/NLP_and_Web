{
 "cells": [
  {
   "cell_type": "markdown",
   "metadata": {},
   "source": [
    "# Exercise 2#"
   ]
  },
  {
   "cell_type": "markdown",
   "metadata": {},
   "source": [
    "## Task 1 ##\n"
   ]
  },
  {
   "cell_type": "markdown",
   "metadata": {},
   "source": [
    "a) Tokenize the sentences in fileyelp_polarity.txt, removing punctuation."
   ]
  },
  {
   "cell_type": "code",
   "execution_count": 30,
   "metadata": {
    "scrolled": true
   },
   "outputs": [
    {
     "data": {
      "text/html": [
       "<div>\n",
       "<style scoped>\n",
       "    .dataframe tbody tr th:only-of-type {\n",
       "        vertical-align: middle;\n",
       "    }\n",
       "\n",
       "    .dataframe tbody tr th {\n",
       "        vertical-align: top;\n",
       "    }\n",
       "\n",
       "    .dataframe thead th {\n",
       "        text-align: right;\n",
       "    }\n",
       "</style>\n",
       "<table border=\"1\" class=\"dataframe\">\n",
       "  <thead>\n",
       "    <tr style=\"text-align: right;\">\n",
       "      <th></th>\n",
       "      <th>0</th>\n",
       "      <th>1</th>\n",
       "      <th>tokens</th>\n",
       "    </tr>\n",
       "  </thead>\n",
       "  <tbody>\n",
       "    <tr>\n",
       "      <th>0</th>\n",
       "      <td>Wow... Loved this place.</td>\n",
       "      <td>1</td>\n",
       "      <td>[wow, loved, this, place]</td>\n",
       "    </tr>\n",
       "    <tr>\n",
       "      <th>1</th>\n",
       "      <td>Crust is not good.</td>\n",
       "      <td>0</td>\n",
       "      <td>[crust, is, not, good]</td>\n",
       "    </tr>\n",
       "    <tr>\n",
       "      <th>2</th>\n",
       "      <td>Not tasty and the texture was just nasty.</td>\n",
       "      <td>0</td>\n",
       "      <td>[not, tasty, and, the, texture, was, just, nasty]</td>\n",
       "    </tr>\n",
       "    <tr>\n",
       "      <th>3</th>\n",
       "      <td>Stopped by during the late May bank holiday of...</td>\n",
       "      <td>1</td>\n",
       "      <td>[stopped, by, during, the, late, may, bank, ho...</td>\n",
       "    </tr>\n",
       "    <tr>\n",
       "      <th>4</th>\n",
       "      <td>The selection on the menu was great and so wer...</td>\n",
       "      <td>1</td>\n",
       "      <td>[the, selection, on, the, menu, was, great, an...</td>\n",
       "    </tr>\n",
       "    <tr>\n",
       "      <th>...</th>\n",
       "      <td>...</td>\n",
       "      <td>...</td>\n",
       "      <td>...</td>\n",
       "    </tr>\n",
       "    <tr>\n",
       "      <th>995</th>\n",
       "      <td>I think food should have flavor and texture an...</td>\n",
       "      <td>0</td>\n",
       "      <td>[i, think, food, should, have, flavor, and, te...</td>\n",
       "    </tr>\n",
       "    <tr>\n",
       "      <th>996</th>\n",
       "      <td>Appetite instantly gone.</td>\n",
       "      <td>0</td>\n",
       "      <td>[appetite, instantly, gone]</td>\n",
       "    </tr>\n",
       "    <tr>\n",
       "      <th>997</th>\n",
       "      <td>Overall I was not impressed and would not go b...</td>\n",
       "      <td>0</td>\n",
       "      <td>[overall, i, was, not, impressed, and, would, ...</td>\n",
       "    </tr>\n",
       "    <tr>\n",
       "      <th>998</th>\n",
       "      <td>The whole experience was underwhelming, and I ...</td>\n",
       "      <td>0</td>\n",
       "      <td>[the, whole, experience, was, underwhelming, a...</td>\n",
       "    </tr>\n",
       "    <tr>\n",
       "      <th>999</th>\n",
       "      <td>Then, as if I hadn't wasted enough of my life ...</td>\n",
       "      <td>0</td>\n",
       "      <td>[then, as, if, i, hadnt, wasted, enough, of, m...</td>\n",
       "    </tr>\n",
       "  </tbody>\n",
       "</table>\n",
       "<p>1000 rows × 3 columns</p>\n",
       "</div>"
      ],
      "text/plain": [
       "                                                     0  1  \\\n",
       "0                             Wow... Loved this place.  1   \n",
       "1                                   Crust is not good.  0   \n",
       "2            Not tasty and the texture was just nasty.  0   \n",
       "3    Stopped by during the late May bank holiday of...  1   \n",
       "4    The selection on the menu was great and so wer...  1   \n",
       "..                                                 ... ..   \n",
       "995  I think food should have flavor and texture an...  0   \n",
       "996                           Appetite instantly gone.  0   \n",
       "997  Overall I was not impressed and would not go b...  0   \n",
       "998  The whole experience was underwhelming, and I ...  0   \n",
       "999  Then, as if I hadn't wasted enough of my life ...  0   \n",
       "\n",
       "                                                tokens  \n",
       "0                            [wow, loved, this, place]  \n",
       "1                               [crust, is, not, good]  \n",
       "2    [not, tasty, and, the, texture, was, just, nasty]  \n",
       "3    [stopped, by, during, the, late, may, bank, ho...  \n",
       "4    [the, selection, on, the, menu, was, great, an...  \n",
       "..                                                 ...  \n",
       "995  [i, think, food, should, have, flavor, and, te...  \n",
       "996                        [appetite, instantly, gone]  \n",
       "997  [overall, i, was, not, impressed, and, would, ...  \n",
       "998  [the, whole, experience, was, underwhelming, a...  \n",
       "999  [then, as, if, i, hadnt, wasted, enough, of, m...  \n",
       "\n",
       "[1000 rows x 3 columns]"
      ]
     },
     "metadata": {},
     "output_type": "display_data"
    }
   ],
   "source": [
    "import string\n",
    "import collections, functools, operator \n",
    "import pandas as pd\n",
    "import numpy as np\n",
    "\n",
    "def read_file(filename):\n",
    "    df = pd.read_csv(filename, sep=\"\\t\", header=None)\n",
    "    df = df.assign(tokens =df[0].apply(lambda x : x.translate(str.maketrans('', '', string.punctuation)).lower().split()))\n",
    "    return df\n",
    "\n",
    "df = read_file(\"yelp_polarity.txt\")\n",
    "display(df)"
   ]
  },
  {
   "cell_type": "markdown",
   "metadata": {},
   "source": [
    "The file is read using pandas and saved in the dataframe df. A function is then applied to all of the sentences using the apply() funciton. The lambda-function used first removes punctuation, then applies lower() and split()."
   ]
  },
  {
   "cell_type": "markdown",
   "metadata": {},
   "source": [
    "b) Calculate token and bigram counts"
   ]
  },
  {
   "cell_type": "code",
   "execution_count": 31,
   "metadata": {},
   "outputs": [
    {
     "data": {
      "text/html": [
       "<div>\n",
       "<style scoped>\n",
       "    .dataframe tbody tr th:only-of-type {\n",
       "        vertical-align: middle;\n",
       "    }\n",
       "\n",
       "    .dataframe tbody tr th {\n",
       "        vertical-align: top;\n",
       "    }\n",
       "\n",
       "    .dataframe thead th {\n",
       "        text-align: right;\n",
       "    }\n",
       "</style>\n",
       "<table border=\"1\" class=\"dataframe\">\n",
       "  <thead>\n",
       "    <tr style=\"text-align: right;\">\n",
       "      <th></th>\n",
       "      <th>0</th>\n",
       "      <th>1</th>\n",
       "      <th>tokens</th>\n",
       "      <th>bigrams</th>\n",
       "      <th>token_count</th>\n",
       "      <th>bigram_count</th>\n",
       "    </tr>\n",
       "  </thead>\n",
       "  <tbody>\n",
       "    <tr>\n",
       "      <th>0</th>\n",
       "      <td>Wow... Loved this place.</td>\n",
       "      <td>1</td>\n",
       "      <td>[wow, loved, this, place]</td>\n",
       "      <td>{'this place': None, 'wow loved': None, 'loved...</td>\n",
       "      <td>{'place': 1, 'loved': 1, 'this': 1, 'wow': 1}</td>\n",
       "      <td>{'this place': 1, 'wow loved': 1, 'loved this'...</td>\n",
       "    </tr>\n",
       "    <tr>\n",
       "      <th>1</th>\n",
       "      <td>Crust is not good.</td>\n",
       "      <td>0</td>\n",
       "      <td>[crust, is, not, good]</td>\n",
       "      <td>{'crust is': None, 'is not': None, 'not good':...</td>\n",
       "      <td>{'crust': 1, 'is': 1, 'good': 1, 'not': 1}</td>\n",
       "      <td>{'crust is': 1, 'is not': 1, 'not good': 1}</td>\n",
       "    </tr>\n",
       "    <tr>\n",
       "      <th>2</th>\n",
       "      <td>Not tasty and the texture was just nasty.</td>\n",
       "      <td>0</td>\n",
       "      <td>[not, tasty, and, the, texture, was, just, nasty]</td>\n",
       "      <td>{'tasty and': None, 'just nasty': None, 'not t...</td>\n",
       "      <td>{'nasty': 1, 'texture': 1, 'the': 1, 'tasty': ...</td>\n",
       "      <td>{'tasty and': 1, 'just nasty': 1, 'texture was...</td>\n",
       "    </tr>\n",
       "    <tr>\n",
       "      <th>3</th>\n",
       "      <td>Stopped by during the late May bank holiday of...</td>\n",
       "      <td>1</td>\n",
       "      <td>[stopped, by, during, the, late, may, bank, ho...</td>\n",
       "      <td>{'the late': None, 'and loved': None, 'loved i...</td>\n",
       "      <td>{'recommendation': 1, 'holiday': 1, 'the': 1, ...</td>\n",
       "      <td>{'the late': 1, 'and loved': 1, 'by during': 1...</td>\n",
       "    </tr>\n",
       "    <tr>\n",
       "      <th>4</th>\n",
       "      <td>The selection on the menu was great and so wer...</td>\n",
       "      <td>1</td>\n",
       "      <td>[the, selection, on, the, menu, was, great, an...</td>\n",
       "      <td>{'on the': None, 'was great': None, 'great and...</td>\n",
       "      <td>{'on': 1, 'were': 1, 'selection': 1, 'menu': 1...</td>\n",
       "      <td>{'on the': 1, 'and so': 1, 'great and': 1, 'me...</td>\n",
       "    </tr>\n",
       "    <tr>\n",
       "      <th>...</th>\n",
       "      <td>...</td>\n",
       "      <td>...</td>\n",
       "      <td>...</td>\n",
       "      <td>...</td>\n",
       "      <td>...</td>\n",
       "      <td>...</td>\n",
       "    </tr>\n",
       "    <tr>\n",
       "      <th>995</th>\n",
       "      <td>I think food should have flavor and texture an...</td>\n",
       "      <td>0</td>\n",
       "      <td>[i, think, food, should, have, flavor, and, te...</td>\n",
       "      <td>{'both were': None, 'should have': None, 'and ...</td>\n",
       "      <td>{'texture': 1, 'lacking': 1, 'flavor': 1, 'i':...</td>\n",
       "      <td>{'have flavor': 1, 'should have': 1, 'and both...</td>\n",
       "    </tr>\n",
       "    <tr>\n",
       "      <th>996</th>\n",
       "      <td>Appetite instantly gone.</td>\n",
       "      <td>0</td>\n",
       "      <td>[appetite, instantly, gone]</td>\n",
       "      <td>{'instantly gone': None, 'appetite instantly':...</td>\n",
       "      <td>{'appetite': 1, 'gone': 1, 'instantly': 1}</td>\n",
       "      <td>{'instantly gone': 1, 'appetite instantly': 1}</td>\n",
       "    </tr>\n",
       "    <tr>\n",
       "      <th>997</th>\n",
       "      <td>Overall I was not impressed and would not go b...</td>\n",
       "      <td>0</td>\n",
       "      <td>[overall, i, was, not, impressed, and, would, ...</td>\n",
       "      <td>{'go back': None, 'was not': None, 'not go': N...</td>\n",
       "      <td>{'back': 1, 'i': 1, 'would': 1, 'overall': 1, ...</td>\n",
       "      <td>{'go back': 1, 'was not': 1, 'not impressed': ...</td>\n",
       "    </tr>\n",
       "    <tr>\n",
       "      <th>998</th>\n",
       "      <td>The whole experience was underwhelming, and I ...</td>\n",
       "      <td>0</td>\n",
       "      <td>[the, whole, experience, was, underwhelming, a...</td>\n",
       "      <td>{'and i': None, 'experience was': None, 'well ...</td>\n",
       "      <td>{'next': 1, 'the': 1, 'underwhelming': 1, 'exp...</td>\n",
       "      <td>{'and i': 1, 'experience was': 1, 'well just':...</td>\n",
       "    </tr>\n",
       "    <tr>\n",
       "      <th>999</th>\n",
       "      <td>Then, as if I hadn't wasted enough of my life ...</td>\n",
       "      <td>0</td>\n",
       "      <td>[then, as, if, i, hadnt, wasted, enough, of, m...</td>\n",
       "      <td>{'the time': None, 'to bring': None, 'salt in'...</td>\n",
       "      <td>{'check': 1, 'then': 1, 'bring': 1, 'enough': ...</td>\n",
       "      <td>{'the time': 1, 'to bring': 1, 'if i': 1, 'the...</td>\n",
       "    </tr>\n",
       "  </tbody>\n",
       "</table>\n",
       "<p>1000 rows × 6 columns</p>\n",
       "</div>"
      ],
      "text/plain": [
       "                                                     0  1  \\\n",
       "0                             Wow... Loved this place.  1   \n",
       "1                                   Crust is not good.  0   \n",
       "2            Not tasty and the texture was just nasty.  0   \n",
       "3    Stopped by during the late May bank holiday of...  1   \n",
       "4    The selection on the menu was great and so wer...  1   \n",
       "..                                                 ... ..   \n",
       "995  I think food should have flavor and texture an...  0   \n",
       "996                           Appetite instantly gone.  0   \n",
       "997  Overall I was not impressed and would not go b...  0   \n",
       "998  The whole experience was underwhelming, and I ...  0   \n",
       "999  Then, as if I hadn't wasted enough of my life ...  0   \n",
       "\n",
       "                                                tokens  \\\n",
       "0                            [wow, loved, this, place]   \n",
       "1                               [crust, is, not, good]   \n",
       "2    [not, tasty, and, the, texture, was, just, nasty]   \n",
       "3    [stopped, by, during, the, late, may, bank, ho...   \n",
       "4    [the, selection, on, the, menu, was, great, an...   \n",
       "..                                                 ...   \n",
       "995  [i, think, food, should, have, flavor, and, te...   \n",
       "996                        [appetite, instantly, gone]   \n",
       "997  [overall, i, was, not, impressed, and, would, ...   \n",
       "998  [the, whole, experience, was, underwhelming, a...   \n",
       "999  [then, as, if, i, hadnt, wasted, enough, of, m...   \n",
       "\n",
       "                                               bigrams  \\\n",
       "0    {'this place': None, 'wow loved': None, 'loved...   \n",
       "1    {'crust is': None, 'is not': None, 'not good':...   \n",
       "2    {'tasty and': None, 'just nasty': None, 'not t...   \n",
       "3    {'the late': None, 'and loved': None, 'loved i...   \n",
       "4    {'on the': None, 'was great': None, 'great and...   \n",
       "..                                                 ...   \n",
       "995  {'both were': None, 'should have': None, 'and ...   \n",
       "996  {'instantly gone': None, 'appetite instantly':...   \n",
       "997  {'go back': None, 'was not': None, 'not go': N...   \n",
       "998  {'and i': None, 'experience was': None, 'well ...   \n",
       "999  {'the time': None, 'to bring': None, 'salt in'...   \n",
       "\n",
       "                                           token_count  \\\n",
       "0        {'place': 1, 'loved': 1, 'this': 1, 'wow': 1}   \n",
       "1           {'crust': 1, 'is': 1, 'good': 1, 'not': 1}   \n",
       "2    {'nasty': 1, 'texture': 1, 'the': 1, 'tasty': ...   \n",
       "3    {'recommendation': 1, 'holiday': 1, 'the': 1, ...   \n",
       "4    {'on': 1, 'were': 1, 'selection': 1, 'menu': 1...   \n",
       "..                                                 ...   \n",
       "995  {'texture': 1, 'lacking': 1, 'flavor': 1, 'i':...   \n",
       "996         {'appetite': 1, 'gone': 1, 'instantly': 1}   \n",
       "997  {'back': 1, 'i': 1, 'would': 1, 'overall': 1, ...   \n",
       "998  {'next': 1, 'the': 1, 'underwhelming': 1, 'exp...   \n",
       "999  {'check': 1, 'then': 1, 'bring': 1, 'enough': ...   \n",
       "\n",
       "                                          bigram_count  \n",
       "0    {'this place': 1, 'wow loved': 1, 'loved this'...  \n",
       "1          {'crust is': 1, 'is not': 1, 'not good': 1}  \n",
       "2    {'tasty and': 1, 'just nasty': 1, 'texture was...  \n",
       "3    {'the late': 1, 'and loved': 1, 'by during': 1...  \n",
       "4    {'on the': 1, 'and so': 1, 'great and': 1, 'me...  \n",
       "..                                                 ...  \n",
       "995  {'have flavor': 1, 'should have': 1, 'and both...  \n",
       "996     {'instantly gone': 1, 'appetite instantly': 1}  \n",
       "997  {'go back': 1, 'was not': 1, 'not impressed': ...  \n",
       "998  {'and i': 1, 'experience was': 1, 'well just':...  \n",
       "999  {'the time': 1, 'to bring': 1, 'if i': 1, 'the...  \n",
       "\n",
       "[1000 rows x 6 columns]"
      ]
     },
     "metadata": {},
     "output_type": "display_data"
    }
   ],
   "source": [
    "def tokens_to_token_freq(tokens):\n",
    "    dictionary = dict.fromkeys(tokens)\n",
    "    for i in list(dictionary):\n",
    "        count = 0\n",
    "        for j in tokens:\n",
    "            if j==i:\n",
    "                count += 1\n",
    "        dictionary[i] = count\n",
    "    return dictionary\n",
    "\n",
    "def bigram_list(sent):\n",
    "    bigrams=[]\n",
    "    for i in range(0, len(sent) - 1):\n",
    "        bigrams.append(sent[i] + ' ' + sent[i + 1])\n",
    "    return bigrams\n",
    "\n",
    "df = df.assign(bigrams = df[\"tokens\"].apply(lambda x : dict.fromkeys(bigram_list(x))))\n",
    "df = df.assign(token_count = df[\"tokens\"].apply(lambda x : tokens_to_token_freq(x)))\n",
    "df = df.assign(bigram_count = df[\"bigrams\"].apply(lambda x : tokens_to_token_freq(x)))\n",
    "display(df)"
   ]
  },
  {
   "cell_type": "markdown",
   "metadata": {},
   "source": [
    "c) Print the 10 most frequent bigrams and their frequency"
   ]
  },
  {
   "cell_type": "code",
   "execution_count": 34,
   "metadata": {},
   "outputs": [
    {
     "name": "stdout",
     "output_type": "stream",
     "text": [
      "[('on the', 23), ('the service', 24), ('service was', 26), ('and i', 27), ('of the', 29), ('food was', 32), ('and the', 38), ('it was', 41), ('the food', 47), ('this place', 72)]\n"
     ]
    }
   ],
   "source": [
    "def frequency(column):\n",
    "    frequency = dict(functools.reduce(operator.add, \n",
    "         map(collections.Counter, column)))\n",
    "    frequency = sorted(frequency.items(), key=lambda x: x[1])\n",
    "    return(list(frequency))\n",
    "\n",
    "bigrams = frequency(df[\"bigram_count\"])\n",
    "print(bigrams[len(bigrams) - 10 : ])"
   ]
  },
  {
   "cell_type": "markdown",
   "metadata": {},
   "source": [
    "d.) Print a bigram matrix from the 10 most frequent tokens"
   ]
  },
  {
   "cell_type": "code",
   "execution_count": 100,
   "metadata": {},
   "outputs": [
    {
     "name": "stdout",
     "output_type": "stream",
     "text": [
      "[[ 0.  1.  4.  0.  0. 10.  0.  0.  0. 29.]\n",
      " [ 0.  0.  0. 10.  2.  1. 41.  2.  3.  0.]\n",
      " [ 0.  0.  0. 20.  1.  0. 10.  0.  0.  0.]\n",
      " [ 1.  0.  0.  0.  1. 16.  1.  0.  0. 10.]\n",
      " [ 0.  1.  2.  0.  0.  3.  0.  0.  1. 11.]\n",
      " [ 0.  0.  0.  0.  0.  0.  0.  0.  0.  0.]\n",
      " [ 0.  0.  0.  0.  0. 21.  0.  0.  0. 13.]\n",
      " [ 0.  0.  0.  0.  0.  0. 19.  0.  0.  0.]\n",
      " [ 0. 17.  4.  0.  0.  3.  5. 27.  0. 38.]\n",
      " [ 0.  0.  0.  0.  0.  0.  0.  0.  0.  0.]]\n"
     ]
    }
   ],
   "source": [
    "token_frequency = frequency(df[\"token_count\"])\n",
    "\n",
    "def bigram_matrix(token_list, bigram_frequencies):\n",
    "    matrix = np.zeros((len(token_list), len(token_list)))\n",
    "    for i in range(0, len(matrix)):\n",
    "        for j in range(0, len(matrix)):\n",
    "            key_str = token_list[i][0] + \" \" + token_list[j][0]\n",
    "            bigram_frequencies = dict(bigram_frequencies)\n",
    "            if key_str in bigram_frequencies:\n",
    "                matrix[i, j] = bigram_frequencies[key_str]          \n",
    "    return matrix\n",
    "\n",
    "print(bigram_matrix(token_frequency[len(token_frequency) - 10 : ], bigrams))"
   ]
  },
  {
   "cell_type": "markdown",
   "metadata": {},
   "source": [
    "## Task 2"
   ]
  },
  {
   "cell_type": "markdown",
   "metadata": {},
   "source": [
    "Using the code of Task 1:\n",
    "\n",
    "a.) Extract top 20 most frequent bigrams of all positive and negative documents in folder polarity\n",
    "\n",
    "\n"
   ]
  },
  {
   "cell_type": "code",
   "execution_count": null,
   "metadata": {},
   "outputs": [],
   "source": []
  },
  {
   "cell_type": "markdown",
   "metadata": {},
   "source": [
    "b.) Calculate their probability as aforementioned"
   ]
  },
  {
   "cell_type": "code",
   "execution_count": null,
   "metadata": {},
   "outputs": [],
   "source": []
  },
  {
   "cell_type": "markdown",
   "metadata": {},
   "source": [
    "c.) Write a script to save in a file the most probably bigrams of both classes and their probabilites separated by tabs"
   ]
  },
  {
   "cell_type": "code",
   "execution_count": null,
   "metadata": {},
   "outputs": [],
   "source": []
  },
  {
   "cell_type": "markdown",
   "metadata": {},
   "source": [
    "d.) Compare the output of both classes and write an analysis of your obersvations"
   ]
  },
  {
   "cell_type": "code",
   "execution_count": null,
   "metadata": {},
   "outputs": [],
   "source": []
  }
 ],
 "metadata": {
  "kernelspec": {
   "display_name": "Python 3",
   "language": "python",
   "name": "python3"
  },
  "language_info": {
   "codemirror_mode": {
    "name": "ipython",
    "version": 3
   },
   "file_extension": ".py",
   "mimetype": "text/x-python",
   "name": "python",
   "nbconvert_exporter": "python",
   "pygments_lexer": "ipython3",
   "version": "3.5.3"
  }
 },
 "nbformat": 4,
 "nbformat_minor": 2
}
