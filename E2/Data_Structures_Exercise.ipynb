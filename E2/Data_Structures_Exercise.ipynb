{
 "cells": [
  {
   "cell_type": "markdown",
   "metadata": {},
   "source": [
    "# Python - Data Structures and Functions\n",
    "Some tasks are based on tasks on https://www.practicepython.org/.<br>\n",
    "For better readability and encapsulation of our code, we can define functions, that perform specific instructions. We can call functions with inputs and functions may return an output, but don't have to. A function can be defined with the keyword *def* followed by the name of the function."
   ]
  },
  {
   "cell_type": "code",
   "execution_count": 1,
   "metadata": {},
   "outputs": [],
   "source": [
    "# Function without input and without output\n",
    "def hello_world():\n",
    "    print('Hello World!')\n",
    "    \n",
    "# Function with input, but without output\n",
    "def print_my_input(my_input):\n",
    "    print(my_input)\n",
    "\n",
    "# Function with input and output\n",
    "def add(value1, value2):\n",
    "    return value1 + value2"
   ]
  },
  {
   "cell_type": "markdown",
   "metadata": {},
   "source": [
    "Defined functions can be called by typing the function name:"
   ]
  },
  {
   "cell_type": "code",
   "execution_count": 2,
   "metadata": {},
   "outputs": [
    {
     "name": "stdout",
     "output_type": "stream",
     "text": [
      "Hello World!\n",
      "Hello World!\n",
      "4\n"
     ]
    }
   ],
   "source": [
    "hello_world()\n",
    "print_my_input('Hello World!')\n",
    "print(add(1, 3))"
   ]
  },
  {
   "cell_type": "markdown",
   "metadata": {},
   "source": [
    "In python you can create list of items (arrays). We knew lists as the output of `string.split()` and from our previous exercise, but let's look deeper into them."
   ]
  },
  {
   "cell_type": "code",
   "execution_count": 3,
   "metadata": {},
   "outputs": [
    {
     "name": "stdout",
     "output_type": "stream",
     "text": [
      "These are my students: ['John', 'Mary', 'Ana', 'Tim', 'Bill']\n",
      "Here are their grades: [1, 1.7, 3.0, 1, 'Not in class']\n"
     ]
    }
   ],
   "source": [
    "students = [\"John\", \"Mary\", \"Ana\", \"Tim\", \"Bill\"]\n",
    "grades = [1, 1.7, 3.0, 1, \"Not in class\"]\n",
    "print(\"These are my students:\", students)\n",
    "print(\"Here are their grades:\", grades)"
   ]
  },
  {
   "cell_type": "markdown",
   "metadata": {},
   "source": [
    "Lists can be indexed analogue to strings"
   ]
  },
  {
   "cell_type": "code",
   "execution_count": 4,
   "metadata": {},
   "outputs": [
    {
     "name": "stdout",
     "output_type": "stream",
     "text": [
      "This is the first student: John\n",
      "And this is their grade: 1\n"
     ]
    }
   ],
   "source": [
    "print(\"This is the first student:\", students[0])\n",
    "print(\"And this is their grade:\", grades[0])"
   ]
  },
  {
   "cell_type": "markdown",
   "metadata": {},
   "source": [
    "Lists in Python are like magic they may contain all kinds of objects together e.g. float, integers, strings even lists inside lists as we had in our previous exercise submission."
   ]
  },
  {
   "cell_type": "markdown",
   "metadata": {},
   "source": [
    "__Task 1__: Consider the following list of numbers.<br>\n",
    "1. Iterate over the list and print each number less than 15.\n",
    "2. Instead of iterating over the list, create another list and print the list as a whole.\n",
    "3. Try to use only one line for the creation of the list in subtask 2. (Hint: List Comprehension)"
   ]
  },
  {
   "cell_type": "code",
   "execution_count": 5,
   "metadata": {},
   "outputs": [
    {
     "name": "stdout",
     "output_type": "stream",
     "text": [
      "[3, 7, 10, 8, 12, 5, 13, 9]\n"
     ]
    }
   ],
   "source": [
    "list_of_numbers = [3, 7, 10, 23, 8, 15, 34, 12, 16, 5, 45, 63, 13, 9]\n",
    "\n",
    "# Code\n",
    "lst = [num for num in list_of_numbers if num < 15]\n",
    "print(lst)"
   ]
  },
  {
   "cell_type": "markdown",
   "metadata": {},
   "source": [
    "__Task 2__: Write a function, that expects two lists (of possibly unequal lengths) as input and that returns the intersection of both lists without duplicates (Hint: *set()*). The result of the function executed on the lists [1, 2, 3] and [1, 3, 5, 6, 3] should be [1, 3]."
   ]
  },
  {
   "cell_type": "code",
   "execution_count": 6,
   "metadata": {},
   "outputs": [
    {
     "name": "stdout",
     "output_type": "stream",
     "text": [
      "{1, 3}\n"
     ]
    }
   ],
   "source": [
    "def lst_intersection(l1, l2):\n",
    "    return set(l1).intersection(set(l2))\n",
    "print(lst_intersection([1,2,3], [1,3,5,6,3]))"
   ]
  },
  {
   "cell_type": "markdown",
   "metadata": {},
   "source": [
    "You can also create dictionaries (Map/HashMap in Java).\n",
    "Using this structure you can link elements. We call them keys and values.\n",
    "### Important!\n",
    "Keys must be unique. Otherwise you will overwrite the value of that key"
   ]
  },
  {
   "cell_type": "code",
   "execution_count": 7,
   "metadata": {},
   "outputs": [
    {
     "name": "stdout",
     "output_type": "stream",
     "text": [
      "{'a': 1, 'b': 2, 'c': 3}\n",
      "{'a': [1, 2, 3, 5], 'b': 2, 'c': 3}\n"
     ]
    }
   ],
   "source": [
    "dictionary = {}\n",
    "dictionary[\"a\"] = 1\n",
    "dictionary[\"b\"] = 2\n",
    "dictionary[\"c\"] = 3\n",
    "print(dictionary)\n",
    "\n",
    "dictionary[\"a\"] = [1, 2, 3, 5]\n",
    "print(dictionary)"
   ]
  },
  {
   "cell_type": "markdown",
   "metadata": {},
   "source": [
    "Again, it is possible to mix different structure types into a dictionary."
   ]
  },
  {
   "cell_type": "code",
   "execution_count": 8,
   "metadata": {},
   "outputs": [
    {
     "name": "stdout",
     "output_type": "stream",
     "text": [
      "{'d': {'a': [1, 2, 3, 5], 'b': 2, 'c': 3}, 'e': 5, 'f': 6}\n"
     ]
    }
   ],
   "source": [
    "my_dictionary = {}\n",
    "my_dictionary[\"d\"] = dictionary\n",
    "my_dictionary[\"e\"] = 5\n",
    "my_dictionary[\"f\"] = 6\n",
    "print(my_dictionary)"
   ]
  },
  {
   "cell_type": "code",
   "execution_count": 9,
   "metadata": {},
   "outputs": [
    {
     "name": "stdout",
     "output_type": "stream",
     "text": [
      "[1, 2, 3, 5]\n"
     ]
    }
   ],
   "source": [
    "print(my_dictionary[\"d\"][\"a\"])"
   ]
  },
  {
   "cell_type": "code",
   "execution_count": 10,
   "metadata": {},
   "outputs": [
    {
     "name": "stdout",
     "output_type": "stream",
     "text": [
      "5\n"
     ]
    }
   ],
   "source": [
    "my_number = my_dictionary[\"e\"]\n",
    "print(my_number)"
   ]
  },
  {
   "cell_type": "markdown",
   "metadata": {},
   "source": [
    "__Task 3__: Consider the long word from practice class 1. Use a dictionary to store the number of characters in this word, i.e. output_dict['a'] should contain the number of characters 'a' in the word. Encapsulate your code in a function, so that you can use it again and on other words."
   ]
  },
  {
   "cell_type": "code",
   "execution_count": 11,
   "metadata": {},
   "outputs": [
    {
     "name": "stdout",
     "output_type": "stream",
     "text": [
      "{'a': 45}\n"
     ]
    }
   ],
   "source": [
    "long_word = 'pneumonoultramicroscopicsilicovolcanoconiosis'\n",
    "def word_len_dict(word):\n",
    "    output_dict = {}\n",
    "    output_dict[\"a\"] = len(word)\n",
    "    return output_dict\n",
    "print(word_len_dict(long_word))"
   ]
  },
  {
   "cell_type": "markdown",
   "metadata": {},
   "source": [
    "## Now is the turn for some Numpy insides\n",
    "Numpy is a python library for mathematical purposes and with good support for vectors and matrices. A library can be loaded into your file using the *import* instruction. We can define an abbreviation for used libraries, so that we do not need to type the full name."
   ]
  },
  {
   "cell_type": "code",
   "execution_count": 12,
   "metadata": {},
   "outputs": [
    {
     "name": "stdout",
     "output_type": "stream",
     "text": [
      "[ 0  1  2  3  4  5  6  7  8  9 10 11 12 13 14]\n"
     ]
    }
   ],
   "source": [
    "import numpy as np\n",
    "\n",
    "a = np.arange(15)\n",
    "print(a)"
   ]
  },
  {
   "cell_type": "code",
   "execution_count": 13,
   "metadata": {},
   "outputs": [
    {
     "name": "stdout",
     "output_type": "stream",
     "text": [
      "[[ 0  1  2]\n",
      " [ 3  4  5]\n",
      " [ 6  7  8]\n",
      " [ 9 10 11]\n",
      " [12 13 14]]\n"
     ]
    }
   ],
   "source": [
    "a = a.reshape(5,3)\n",
    "print(a)"
   ]
  },
  {
   "cell_type": "markdown",
   "metadata": {},
   "source": [
    "__Task 4__: Define numpy arrays, containing 10 Zeros, 10 Ones and 10 Fives. (Note: There are more than one solutions)"
   ]
  },
  {
   "cell_type": "code",
   "execution_count": 14,
   "metadata": {},
   "outputs": [
    {
     "name": "stdout",
     "output_type": "stream",
     "text": [
      "[0. 0. 0. 0. 0. 0. 0. 0. 0. 0.]\n",
      "[1. 1. 1. 1. 1. 1. 1. 1. 1. 1.]\n",
      "[5 5 5 5 5 5 5 5 5 5]\n"
     ]
    }
   ],
   "source": [
    "b = np.zeros(10)\n",
    "print(b)\n",
    "\n",
    "c = np.ones(10)\n",
    "print(c)\n",
    "\n",
    "d = np.array([5, 5, 5, 5, 5, 5, 5, 5, 5 ,5])\n",
    "print(d)"
   ]
  },
  {
   "cell_type": "markdown",
   "metadata": {},
   "source": [
    "### A Numpy array has different attributes like shape, size, dimensions, type\n",
    "\n",
    "__Question__: What is actually the difference between them? Discuss this with your neighbor."
   ]
  },
  {
   "cell_type": "code",
   "execution_count": 15,
   "metadata": {},
   "outputs": [
    {
     "name": "stdout",
     "output_type": "stream",
     "text": [
      "shape of a is: (5, 3)\n",
      "size of a is: 15\n",
      "dimensions in a: 2\n",
      "type of a is: int64\n"
     ]
    }
   ],
   "source": [
    "print(\"shape of a is:\", a.shape)\n",
    "print(\"size of a is:\", a.size)\n",
    "print(\"dimensions in a:\", a.ndim)\n",
    "print(\"type of a is:\", a.dtype)"
   ]
  },
  {
   "cell_type": "markdown",
   "metadata": {},
   "source": [
    "We can also use the ordinary mathematical operations on vectors, i.e. Numpy-arrays."
   ]
  },
  {
   "cell_type": "code",
   "execution_count": 16,
   "metadata": {},
   "outputs": [],
   "source": [
    "a = np.array([10, 20, 30, 40])\n",
    "b = np.arange(4)"
   ]
  },
  {
   "cell_type": "code",
   "execution_count": 17,
   "metadata": {},
   "outputs": [
    {
     "name": "stdout",
     "output_type": "stream",
     "text": [
      "[10 20 30 40]\n",
      "[0 1 2 3]\n"
     ]
    }
   ],
   "source": [
    "print(a)\n",
    "print(b)"
   ]
  },
  {
   "cell_type": "code",
   "execution_count": 18,
   "metadata": {},
   "outputs": [
    {
     "name": "stdout",
     "output_type": "stream",
     "text": [
      "[10 21 32 43]\n"
     ]
    }
   ],
   "source": [
    "print(a + b)"
   ]
  },
  {
   "cell_type": "code",
   "execution_count": 19,
   "metadata": {},
   "outputs": [
    {
     "name": "stdout",
     "output_type": "stream",
     "text": [
      "[10 19 28 37]\n"
     ]
    }
   ],
   "source": [
    "print(a - b)"
   ]
  },
  {
   "cell_type": "markdown",
   "metadata": {},
   "source": [
    "__Question__: What is the difference between the following instructions? Discuss this with your neighbor."
   ]
  },
  {
   "cell_type": "code",
   "execution_count": 20,
   "metadata": {},
   "outputs": [
    {
     "name": "stdout",
     "output_type": "stream",
     "text": [
      "[20 40 60 80]\n",
      "[  0  20  60 120]\n",
      "200\n"
     ]
    }
   ],
   "source": [
    "print(a * 2)\n",
    "print(a * b)\n",
    "print(a.dot(b))"
   ]
  },
  {
   "cell_type": "code",
   "execution_count": 21,
   "metadata": {},
   "outputs": [
    {
     "name": "stdout",
     "output_type": "stream",
     "text": [
      "[0. 0. 0. 0.]\n"
     ]
    }
   ],
   "source": [
    "c = np.zeros(4)\n",
    "print(c)"
   ]
  },
  {
   "cell_type": "markdown",
   "metadata": {},
   "source": [
    "__Task 5__: Define one function, that expects a numpy-matrix and results the sum of all elements in this matrix, the sum of each columns as well as the sum of each row (each as vector). The result for<br>\n",
    "[[1, 2, 3],<br>\n",
    "[4, 5, 6],<br>\n",
    "[7, 8, 9]]<br>\n",
    "should be 45, [12, 15, 18], [6, 15, 24]. (Hint: *np.sum()*)"
   ]
  },
  {
   "cell_type": "code",
   "execution_count": 22,
   "metadata": {},
   "outputs": [
    {
     "name": "stdout",
     "output_type": "stream",
     "text": [
      "(45, [12, 15, 18], [6, 15, 24])\n"
     ]
    }
   ],
   "source": [
    "def matrix_fun(arr1):\n",
    "    return np.sum(arr1), np.sum(arr1, axis =0).tolist(), np.sum(arr1, axis=1).tolist()\n",
    "\n",
    "print(matrix_fun(np.array([[1, 2, 3],\n",
    "[4, 5, 6],\n",
    "[7, 8, 9]])))"
   ]
  },
  {
   "cell_type": "markdown",
   "metadata": {},
   "source": [
    "### Imagine we have two different arrays and we want to compare them\n",
    "\n",
    "__Question__: How could we compare two arrays? The following two arrays may help with your thoughts. Discuss this with your neighbor."
   ]
  },
  {
   "cell_type": "code",
   "execution_count": 23,
   "metadata": {},
   "outputs": [
    {
     "name": "stdout",
     "output_type": "stream",
     "text": [
      "[0. 0. 1. 0. 1. 0. 0. 0. 1. 0.]\n",
      "[1. 1. 1. 1. 1. 1. 1. 1. 1. 1.]\n"
     ]
    }
   ],
   "source": [
    "first_array = np.zeros(10)\n",
    "first_array[2]= 1\n",
    "first_array[4]= 1\n",
    "first_array[8]= 1\n",
    "\n",
    "second_array = np.ones(10)\n",
    "\n",
    "print(first_array)\n",
    "print(second_array)"
   ]
  },
  {
   "cell_type": "markdown",
   "metadata": {},
   "source": [
    "After creating an array, we can still assign values to specific positions in the array:"
   ]
  },
  {
   "cell_type": "code",
   "execution_count": 24,
   "metadata": {},
   "outputs": [
    {
     "name": "stdout",
     "output_type": "stream",
     "text": [
      "[[0. 0. 1. 0. 1.]\n",
      " [0. 0. 0. 1. 0.]]\n",
      "[[0. 0. 1. 0. 1.]\n",
      " [0. 0. 0. 1. 5.]]\n"
     ]
    }
   ],
   "source": [
    "first_array = first_array.reshape(2,5)\n",
    "print(first_array)\n",
    "\n",
    "first_array[1][4] = 5\n",
    "print(first_array)"
   ]
  },
  {
   "cell_type": "markdown",
   "metadata": {},
   "source": [
    "We can also assign whole columns:"
   ]
  },
  {
   "cell_type": "code",
   "execution_count": 25,
   "metadata": {},
   "outputs": [
    {
     "name": "stdout",
     "output_type": "stream",
     "text": [
      "[[0. 0. 1. 3. 1.]\n",
      " [0. 0. 0. 3. 5.]]\n"
     ]
    }
   ],
   "source": [
    "first_array[:,3] = 3\n",
    "print(first_array)\n"
   ]
  },
  {
   "cell_type": "markdown",
   "metadata": {},
   "source": [
    "__Task 6__: We want the first row of 'first_array' to contain '2'."
   ]
  },
  {
   "cell_type": "code",
   "execution_count": 26,
   "metadata": {},
   "outputs": [
    {
     "name": "stdout",
     "output_type": "stream",
     "text": [
      "[[2. 2. 2. 2. 2.]\n",
      " [0. 0. 0. 3. 5.]]\n"
     ]
    }
   ],
   "source": [
    "first_array[0] = 2\n",
    "print(first_array)"
   ]
  },
  {
   "cell_type": "markdown",
   "metadata": {},
   "source": [
    "__Task 7__: Compute the following matrix multiplications: A \\* B and B \\* A. What is the result of using the ordinary multiplication operator and what do we have to change for using the multiplication operator? (Hint: *array.reshape()*) "
   ]
  },
  {
   "cell_type": "code",
   "execution_count": 27,
   "metadata": {},
   "outputs": [
    {
     "name": "stdout",
     "output_type": "stream",
     "text": [
      "[[2. 2. 2. 2. 2.]\n",
      " [0. 0. 0. 3. 5.]]\n",
      "[[2. 2. 2. 2. 2.]\n",
      " [0. 0. 0. 3. 5.]]\n"
     ]
    }
   ],
   "source": [
    "A = first_array\n",
    "B = second_array\n",
    "B = B.reshape(first_array.shape)\n",
    "print(B*A)\n",
    "print(A*B)\n",
    "\n",
    "# Code"
   ]
  },
  {
   "cell_type": "markdown",
   "metadata": {},
   "source": [
    "# Text Processing\n",
    "\n",
    "Now let's go into how to extract information from a text. Your task in this section is to understand what is going on, as you will need that in the homework exercise.\n",
    "\n",
    "First we will import some packages that we need for our task and here we go!"
   ]
  },
  {
   "cell_type": "code",
   "execution_count": 28,
   "metadata": {},
   "outputs": [],
   "source": [
    "import pandas as pd\n",
    "import numpy as np\n",
    "from sklearn.feature_extraction.text import CountVectorizer"
   ]
  },
  {
   "cell_type": "markdown",
   "metadata": {},
   "source": [
    "Normally models do not process text but a numerical version of it. Therefore we need to vectorize our data. There are several ways of doing it, you might remember that from our previous presentation. Here are a couple of them:\n",
    "\n",
    "**Bag of words**: \n",
    "Let's imagine that we have four documents:\n",
    "\n",
    " 1. I like to eat pizza every day\n",
    " 2. I like to eat pasta every day\n",
    " 3. I do not like pizza\n",
    " 4. I do my homework every day\n",
    " \n",
    "__Task 8__: We want to list all words, that our documents consists of (i.e. the vocabulary).\n",
    "You can check the string function `split` and the method `sorted`"
   ]
  },
  {
   "cell_type": "code",
   "execution_count": 29,
   "metadata": {},
   "outputs": [
    {
     "name": "stdout",
     "output_type": "stream",
     "text": [
      "['I', 'day', 'do', 'eat', 'every', 'homework', 'like', 'my', 'not', 'pasta', 'pizza', 'to']\n"
     ]
    }
   ],
   "source": [
    "sents = [\n",
    "    \"I like to eat pizza every day\",\n",
    "    \"I like to eat pasta every day\",\n",
    "    \"I do not like pizza\",\n",
    "    \"I do my homework every day\"\n",
    "]\n",
    "\n",
    "bag_of_words = []\n",
    "for sent in sents:\n",
    "    bag_of_words += sent.split()\n",
    "\n",
    "print(sorted(set(bag_of_words)))\n"
   ]
  },
  {
   "cell_type": "markdown",
   "metadata": {},
   "source": [
    "Having the list, we can now write manually our bag of words for each document:\n",
    "\n",
    "1. [1, 1, 0, 0, 0, 1, 0, 0, 1, 0, 1]\n",
    "2. [1, 0, 0, 0, 0, 1, 0, 1, 1, 0, 1]\n",
    "3. [1, 1, 0, 0, 1, 0, 0, 0, 1, 1, 0]\n",
    "4. [1, 0, 1, 1, 0, 0, 1, 0, 1, 0, 1]\n",
    "\n",
    "And tada!! This are the vectors that we would feed in our model."
   ]
  },
  {
   "cell_type": "code",
   "execution_count": 30,
   "metadata": {},
   "outputs": [],
   "source": [
    "corpus = [\n",
    "    'This is the first document.',\n",
    "    'This document is the second document.',\n",
    "    'And this is the third one.',\n",
    "    'Is this the first document?']"
   ]
  },
  {
   "cell_type": "code",
   "execution_count": 31,
   "metadata": {},
   "outputs": [
    {
     "name": "stdout",
     "output_type": "stream",
     "text": [
      "['and', 'document', 'first', 'is', 'one', 'second', 'the', 'third', 'this']\n"
     ]
    }
   ],
   "source": [
    "count_vectorizer = CountVectorizer()\n",
    "X = count_vectorizer.fit_transform(corpus)\n",
    "print(count_vectorizer.get_feature_names())"
   ]
  },
  {
   "cell_type": "code",
   "execution_count": 32,
   "metadata": {},
   "outputs": [
    {
     "name": "stdout",
     "output_type": "stream",
     "text": [
      "[[0 1 1 1 0 0 1 0 1]\n",
      " [0 2 0 1 0 1 1 0 1]\n",
      " [1 0 0 1 1 0 1 1 1]\n",
      " [0 1 1 1 0 0 1 0 1]]\n"
     ]
    }
   ],
   "source": [
    "print(X.toarray())  "
   ]
  },
  {
   "cell_type": "markdown",
   "metadata": {},
   "source": [
    "## Reading and Writing Files\n",
    "\n",
    "There are several ways of processing files, the most common one is using the `open()` function."
   ]
  },
  {
   "cell_type": "code",
   "execution_count": 33,
   "metadata": {},
   "outputs": [
    {
     "name": "stdout",
     "output_type": "stream",
     "text": [
      "Wow... Loved this place.\t1\n",
      "\n",
      "Crust is not good.\t0\n",
      "\n",
      "Not tasty and the texture was just nasty.\t0\n",
      "\n",
      "Stopped by during the late May bank holiday off Rick Steve recommendation and loved it.\t1\n",
      "\n",
      "The selection on the menu was great and so were the prices.\t1\n",
      "\n"
     ]
    }
   ],
   "source": [
    "my_file = open(\"yelp_polarity.txt\",\"r\")\n",
    "\n",
    "line_counter = 0\n",
    "\n",
    "for line in my_file:\n",
    "    print(line)\n",
    "    line_counter += 1\n",
    "    if line_counter >= 5:\n",
    "        break\n",
    "\n",
    "my_file.close()\n"
   ]
  },
  {
   "cell_type": "markdown",
   "metadata": {},
   "source": [
    "**Note**: when handling very big text files, keeping the whole data in the buffer would be counterproductive and inefficient, therefore it is important to learn how to read one line at a time."
   ]
  },
  {
   "cell_type": "code",
   "execution_count": 34,
   "metadata": {},
   "outputs": [
    {
     "name": "stdout",
     "output_type": "stream",
     "text": [
      "Wow... Loved this place.\t1\n",
      "\n",
      "Crust is not good.\t0\n",
      "\n",
      "Not tasty and the texture was just nasty.\t0\n",
      "\n",
      "Stopped by during the late May bank holiday off Rick Steve recommendation and loved it.\t1\n",
      "\n",
      "The selection on the menu was great and so were the prices.\t1\n",
      "\n"
     ]
    }
   ],
   "source": [
    "with open(\"yelp_polarity.txt\") as my_file:\n",
    "    line_counter = 0\n",
    "\n",
    "    for line in my_file:\n",
    "        print(line)\n",
    "        line_counter += 1\n",
    "        if line_counter >= 5:\n",
    "            break\n",
    "    "
   ]
  },
  {
   "cell_type": "markdown",
   "metadata": {},
   "source": [
    "If you have cvs format files, you can read them with Pandas, this is a useful way of doing analysis on your data."
   ]
  },
  {
   "cell_type": "code",
   "execution_count": 35,
   "metadata": {},
   "outputs": [],
   "source": [
    "dataframe = pd.read_csv(\"yelp_polarity.txt\", sep=\"\\t\", header=None)"
   ]
  },
  {
   "cell_type": "code",
   "execution_count": 36,
   "metadata": {},
   "outputs": [
    {
     "data": {
      "text/html": [
       "<div>\n",
       "<style scoped>\n",
       "    .dataframe tbody tr th:only-of-type {\n",
       "        vertical-align: middle;\n",
       "    }\n",
       "\n",
       "    .dataframe tbody tr th {\n",
       "        vertical-align: top;\n",
       "    }\n",
       "\n",
       "    .dataframe thead th {\n",
       "        text-align: right;\n",
       "    }\n",
       "</style>\n",
       "<table border=\"1\" class=\"dataframe\">\n",
       "  <thead>\n",
       "    <tr style=\"text-align: right;\">\n",
       "      <th></th>\n",
       "      <th>0</th>\n",
       "      <th>1</th>\n",
       "    </tr>\n",
       "  </thead>\n",
       "  <tbody>\n",
       "    <tr>\n",
       "      <th>0</th>\n",
       "      <td>Wow... Loved this place.</td>\n",
       "      <td>1</td>\n",
       "    </tr>\n",
       "    <tr>\n",
       "      <th>1</th>\n",
       "      <td>Crust is not good.</td>\n",
       "      <td>0</td>\n",
       "    </tr>\n",
       "    <tr>\n",
       "      <th>2</th>\n",
       "      <td>Not tasty and the texture was just nasty.</td>\n",
       "      <td>0</td>\n",
       "    </tr>\n",
       "    <tr>\n",
       "      <th>3</th>\n",
       "      <td>Stopped by during the late May bank holiday of...</td>\n",
       "      <td>1</td>\n",
       "    </tr>\n",
       "    <tr>\n",
       "      <th>4</th>\n",
       "      <td>The selection on the menu was great and so wer...</td>\n",
       "      <td>1</td>\n",
       "    </tr>\n",
       "    <tr>\n",
       "      <th>...</th>\n",
       "      <td>...</td>\n",
       "      <td>...</td>\n",
       "    </tr>\n",
       "    <tr>\n",
       "      <th>995</th>\n",
       "      <td>I think food should have flavor and texture an...</td>\n",
       "      <td>0</td>\n",
       "    </tr>\n",
       "    <tr>\n",
       "      <th>996</th>\n",
       "      <td>Appetite instantly gone.</td>\n",
       "      <td>0</td>\n",
       "    </tr>\n",
       "    <tr>\n",
       "      <th>997</th>\n",
       "      <td>Overall I was not impressed and would not go b...</td>\n",
       "      <td>0</td>\n",
       "    </tr>\n",
       "    <tr>\n",
       "      <th>998</th>\n",
       "      <td>The whole experience was underwhelming, and I ...</td>\n",
       "      <td>0</td>\n",
       "    </tr>\n",
       "    <tr>\n",
       "      <th>999</th>\n",
       "      <td>Then, as if I hadn't wasted enough of my life ...</td>\n",
       "      <td>0</td>\n",
       "    </tr>\n",
       "  </tbody>\n",
       "</table>\n",
       "<p>1000 rows × 2 columns</p>\n",
       "</div>"
      ],
      "text/plain": [
       "                                                     0  1\n",
       "0                             Wow... Loved this place.  1\n",
       "1                                   Crust is not good.  0\n",
       "2            Not tasty and the texture was just nasty.  0\n",
       "3    Stopped by during the late May bank holiday of...  1\n",
       "4    The selection on the menu was great and so wer...  1\n",
       "..                                                 ... ..\n",
       "995  I think food should have flavor and texture an...  0\n",
       "996                           Appetite instantly gone.  0\n",
       "997  Overall I was not impressed and would not go b...  0\n",
       "998  The whole experience was underwhelming, and I ...  0\n",
       "999  Then, as if I hadn't wasted enough of my life ...  0\n",
       "\n",
       "[1000 rows x 2 columns]"
      ]
     },
     "metadata": {},
     "output_type": "display_data"
    }
   ],
   "source": [
    "for i in range"
   ]
  },
  {
   "cell_type": "markdown",
   "metadata": {},
   "source": [
    "__Task 9__: Now it's your turn to explore data using Pandas. How many classes do we have in this file and how many samples per class? Remember that the question mark (?) can be always very useful when you don't know the functions. Check the function `groupby` and `describe`"
   ]
  },
  {
   "cell_type": "code",
   "execution_count": 50,
   "metadata": {},
   "outputs": [
    {
     "name": "stdout",
     "output_type": "stream",
     "text": [
      "     0\n",
      "1     \n",
      "0  500\n",
      "1  500\n"
     ]
    }
   ],
   "source": [
    "# Code\n",
    "print(dataframe.groupby(dataframe[1]).count())"
   ]
  },
  {
   "cell_type": "code",
   "execution_count": null,
   "metadata": {},
   "outputs": [],
   "source": []
  }
 ],
 "metadata": {
  "kernelspec": {
   "display_name": "Python 3",
   "language": "python",
   "name": "python3"
  },
  "language_info": {
   "codemirror_mode": {
    "name": "ipython",
    "version": 3
   },
   "file_extension": ".py",
   "mimetype": "text/x-python",
   "name": "python",
   "nbconvert_exporter": "python",
   "pygments_lexer": "ipython3",
   "version": "3.7.4"
  }
 },
 "nbformat": 4,
 "nbformat_minor": 2
}
