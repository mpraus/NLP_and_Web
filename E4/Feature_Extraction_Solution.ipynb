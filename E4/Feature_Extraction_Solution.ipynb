{
 "cells": [
  {
   "cell_type": "markdown",
   "metadata": {},
   "source": [
    "# Feature Extraction"
   ]
  },
  {
   "cell_type": "markdown",
   "metadata": {},
   "source": [
    "Until now, we have seen, how to tokenize a document, extract attributes from its tokens and even how to create a bag of words. In our second lab, we used the `CountVectorizer` from `scikit-learn` in order to create a matrix that counts words in a document. Do you remember how that works? \n",
    "\n",
    "The process of vectorizing a text is performed given the fact that most algorithms are not designed to handle raw text. Therefore, we need to represent each text document in a mathematical form, so that calculations can be done. There are several ways for vectorizing text, the easiest one is the bag of words approach, where we create a vocabulary with all the words in our document collection. The idea is to create a matrix to represent which words of my vocabulary are present in each document."
   ]
  },
  {
   "cell_type": "code",
   "execution_count": 1,
   "metadata": {},
   "outputs": [],
   "source": [
    "import pandas as pd\n",
    "import numpy as np\n",
    "import spacy\n",
    "from sklearn.feature_extraction.text import CountVectorizer, TfidfVectorizer\n",
    "from sklearn.model_selection import train_test_split\n",
    "from sklearn import svm\n",
    "from sklearn import naive_bayes"
   ]
  },
  {
   "cell_type": "markdown",
   "metadata": {},
   "source": [
    "**Question**\n",
    "Use the text provided below to create a bag of words using the `CountVectorizer` function as we did in a previous session. \n",
    "\n",
    "**Steps** \n",
    "Print your vocabulary and print the array form of your vectorizer"
   ]
  },
  {
   "cell_type": "code",
   "execution_count": 2,
   "metadata": {},
   "outputs": [],
   "source": [
    "docs = ['Elon Musk wants to build a Gigafactory',\n",
    "        'UK is too risky after the Brexit for a Gigafactory',\n",
    "        'Tesla wants to build a Gigafactory in Berlin',\n",
    "        'Brexit has made it too risky for Tesla to put a Gigafactory in the UK.']"
   ]
  },
  {
   "cell_type": "code",
   "execution_count": 3,
   "metadata": {},
   "outputs": [
    {
     "name": "stdout",
     "output_type": "stream",
     "text": [
      "['after', 'berlin', 'brexit', 'build', 'elon', 'for', 'gigafactory', 'has', 'in', 'is', 'it', 'made', 'musk', 'put', 'risky', 'tesla', 'the', 'to', 'too', 'uk', 'wants']\n"
     ]
    }
   ],
   "source": [
    "count_vectorizer = CountVectorizer()\n",
    "X = count_vectorizer.fit_transform(docs)\n",
    "print(count_vectorizer.get_feature_names())"
   ]
  },
  {
   "cell_type": "code",
   "execution_count": 4,
   "metadata": {},
   "outputs": [
    {
     "name": "stdout",
     "output_type": "stream",
     "text": [
      "[[0 0 0 1 1 0 1 0 0 0 0 0 1 0 0 0 0 1 0 0 1]\n",
      " [1 0 1 0 0 1 1 0 0 1 0 0 0 0 1 0 1 0 1 1 0]\n",
      " [0 1 0 1 0 0 1 0 1 0 0 0 0 0 0 1 0 1 0 0 1]\n",
      " [0 0 1 0 0 1 1 1 1 0 1 1 0 1 1 1 1 1 1 1 0]]\n"
     ]
    }
   ],
   "source": [
    "print(X.toarray())"
   ]
  },
  {
   "cell_type": "markdown",
   "metadata": {},
   "source": [
    "However we also know that counting is not the only way of representing text with numbers. We can also penalize tokens that occurr very often. Why?\n",
    "\n",
    "Because in general, very frequent token sometimes are not as relevant as tokens that appear less often. For instance, if we want to retrieve documents that are relevant for a query: _The President Donald Trump_, one idea would be to retrieve all document containing all the words in the query. However, since our search retrieved still many documents, we might want to count the times that query words appear in the selected documents. But, _the_ and _president_, may still have many occurrences. Therefore, we should focus on documents that contain rather _donald trump_. But how do we get there? Calculating term frequency–inverse document frequency (tf-idf)."
   ]
  },
  {
   "cell_type": "markdown",
   "metadata": {},
   "source": [
    "**Tf-Idf**: term frequency of a token, multiplied by the inverse document frequency (log[number of documents containing a token]).\n",
    "\n",
    "- Tf: Term frequency: $\\frac{freq(term)}{\\# terms \\in doc} $\n",
    "- Idf: Inverse document frequency: $\\log\\frac{|D|}{\\# d : term \\in doc}$\n",
    "\n",
    "Notice that we calculate the tf-idf for each term in each document. Let's calculate them for _Elon_ and _Gigafactory_ in the first document.\n",
    "\n",
    "**Examples:**\n",
    "- Tf-Idf(Elon) = $\\frac{1}{7}*\\log(\\frac{4}{1}) = 0.14*0.6  = 0.084$\n",
    "- Tf-Idf(Gigafactory) = $\\frac{1}{7}*\\log(\\frac{4}{4}) = 0 $"
   ]
  },
  {
   "cell_type": "markdown",
   "metadata": {},
   "source": [
    "**Question**\n",
    "Use the same data and the `TfidfVectorizer`, create a matrix and explore several attributes as input for the vectorizer. \n",
    "\n",
    "**Steps** \n",
    "Use the `?` to explore the function of the vectorizer and refer to [this link](https://scikit-learn.org/stable/modules/generated/sklearn.feature_extraction.text.TfidfVectorizer.html#sklearn.feature_extraction.text.TfidfVectorizer) for more options about the vectorizer. Increase the range of ngrams and observe the matrix. Can you see any difference?"
   ]
  },
  {
   "cell_type": "code",
   "execution_count": 5,
   "metadata": {},
   "outputs": [
    {
     "name": "stdout",
     "output_type": "stream",
     "text": [
      "<bound method CountVectorizer.get_feature_names of TfidfVectorizer(analyzer='word', binary=False, decode_error='strict',\n",
      "                dtype=<class 'numpy.float64'>, encoding='utf-8',\n",
      "                input='content', lowercase=True, max_df=1.0, max_features=None,\n",
      "                min_df=1, ngram_range=(1, 1), norm='l2', preprocessor=None,\n",
      "                smooth_idf=True, stop_words=None, strip_accents=None,\n",
      "                sublinear_tf=False, token_pattern='(?u)\\\\b\\\\w\\\\w+\\\\b',\n",
      "                tokenizer=None, use_idf=True, vocabulary=None)>\n",
      "[[0.         0.         0.         0.39806    0.50488863 0.\n",
      "  0.26347183 0.         0.         0.         0.         0.\n",
      "  0.50488863 0.         0.         0.         0.         0.32226387\n",
      "  0.         0.         0.39806   ]\n",
      " [0.40818453 0.         0.32181737 0.         0.         0.32181737\n",
      "  0.21300762 0.         0.         0.40818453 0.         0.\n",
      "  0.         0.         0.32181737 0.         0.32181737 0.\n",
      "  0.32181737 0.32181737 0.        ]\n",
      " [0.         0.48993129 0.         0.38626746 0.         0.\n",
      "  0.25566647 0.         0.38626746 0.         0.         0.\n",
      "  0.         0.         0.         0.38626746 0.         0.3127168\n",
      "  0.         0.         0.38626746]\n",
      " [0.         0.         0.25376616 0.         0.         0.25376616\n",
      "  0.16796522 0.3218702  0.25376616 0.         0.3218702  0.3218702\n",
      "  0.         0.3218702  0.25376616 0.25376616 0.25376616 0.20544558\n",
      "  0.25376616 0.25376616 0.        ]]\n"
     ]
    }
   ],
   "source": [
    "vectorizer = TfidfVectorizer(ngram_range=(1, 1),)\n",
    "train_tfidf_matrix = vectorizer.fit_transform(docs)\n",
    "\n",
    "print(vectorizer.get_feature_names)\n",
    "print(train_tfidf_matrix.toarray())"
   ]
  },
  {
   "cell_type": "markdown",
   "metadata": {},
   "source": [
    "Let's explore these vectorizers with real data. You probably remember our data of reviews on Yelp. Let's use it to compare both vectorizers."
   ]
  },
  {
   "cell_type": "code",
   "execution_count": 6,
   "metadata": {},
   "outputs": [
    {
     "data": {
      "text/html": [
       "<div>\n",
       "<style scoped>\n",
       "    .dataframe tbody tr th:only-of-type {\n",
       "        vertical-align: middle;\n",
       "    }\n",
       "\n",
       "    .dataframe tbody tr th {\n",
       "        vertical-align: top;\n",
       "    }\n",
       "\n",
       "    .dataframe thead th {\n",
       "        text-align: right;\n",
       "    }\n",
       "</style>\n",
       "<table border=\"1\" class=\"dataframe\">\n",
       "  <thead>\n",
       "    <tr style=\"text-align: right;\">\n",
       "      <th></th>\n",
       "      <th>0</th>\n",
       "      <th>1</th>\n",
       "    </tr>\n",
       "  </thead>\n",
       "  <tbody>\n",
       "    <tr>\n",
       "      <th>0</th>\n",
       "      <td>Wow... Loved this place.</td>\n",
       "      <td>1</td>\n",
       "    </tr>\n",
       "    <tr>\n",
       "      <th>1</th>\n",
       "      <td>Crust is not good.</td>\n",
       "      <td>0</td>\n",
       "    </tr>\n",
       "    <tr>\n",
       "      <th>2</th>\n",
       "      <td>Not tasty and the texture was just nasty.</td>\n",
       "      <td>0</td>\n",
       "    </tr>\n",
       "    <tr>\n",
       "      <th>3</th>\n",
       "      <td>Stopped by during the late May bank holiday of...</td>\n",
       "      <td>1</td>\n",
       "    </tr>\n",
       "    <tr>\n",
       "      <th>4</th>\n",
       "      <td>The selection on the menu was great and so wer...</td>\n",
       "      <td>1</td>\n",
       "    </tr>\n",
       "    <tr>\n",
       "      <th>...</th>\n",
       "      <td>...</td>\n",
       "      <td>...</td>\n",
       "    </tr>\n",
       "    <tr>\n",
       "      <th>995</th>\n",
       "      <td>I think food should have flavor and texture an...</td>\n",
       "      <td>0</td>\n",
       "    </tr>\n",
       "    <tr>\n",
       "      <th>996</th>\n",
       "      <td>Appetite instantly gone.</td>\n",
       "      <td>0</td>\n",
       "    </tr>\n",
       "    <tr>\n",
       "      <th>997</th>\n",
       "      <td>Overall I was not impressed and would not go b...</td>\n",
       "      <td>0</td>\n",
       "    </tr>\n",
       "    <tr>\n",
       "      <th>998</th>\n",
       "      <td>The whole experience was underwhelming, and I ...</td>\n",
       "      <td>0</td>\n",
       "    </tr>\n",
       "    <tr>\n",
       "      <th>999</th>\n",
       "      <td>Then, as if I hadn't wasted enough of my life ...</td>\n",
       "      <td>0</td>\n",
       "    </tr>\n",
       "  </tbody>\n",
       "</table>\n",
       "<p>1000 rows × 2 columns</p>\n",
       "</div>"
      ],
      "text/plain": [
       "                                                     0  1\n",
       "0                             Wow... Loved this place.  1\n",
       "1                                   Crust is not good.  0\n",
       "2            Not tasty and the texture was just nasty.  0\n",
       "3    Stopped by during the late May bank holiday of...  1\n",
       "4    The selection on the menu was great and so wer...  1\n",
       "..                                                 ... ..\n",
       "995  I think food should have flavor and texture an...  0\n",
       "996                           Appetite instantly gone.  0\n",
       "997  Overall I was not impressed and would not go b...  0\n",
       "998  The whole experience was underwhelming, and I ...  0\n",
       "999  Then, as if I hadn't wasted enough of my life ...  0\n",
       "\n",
       "[1000 rows x 2 columns]"
      ]
     },
     "metadata": {},
     "output_type": "display_data"
    }
   ],
   "source": [
    "data = pd.read_csv(\"yelp_polarity.txt\", sep=\"\\t\", header=None)\n",
    "display(data)"
   ]
  },
  {
   "cell_type": "markdown",
   "metadata": {},
   "source": [
    "### Training a classifier\n",
    "\n",
    "In order to train any model, you need to split your data. The reason for this is that you want to test the performance of your classifier at the end. And this can't be done on the same data you train. Therefore, you need to keep a small set of data that you never use until you test. Let's create our train and test sets:"
   ]
  },
  {
   "cell_type": "code",
   "execution_count": 7,
   "metadata": {},
   "outputs": [],
   "source": [
    "text_train, text_test, label_train, label_test = train_test_split(data[0], data[1], \n",
    "                                                                  test_size=0.20, \n",
    "                                                                  random_state=1234, shuffle=True)"
   ]
  },
  {
   "cell_type": "markdown",
   "metadata": {},
   "source": [
    "**Question**\n",
    "Use only the train set to generate again a feature matrix using the `CountVectorizer`. This one will be used to train our classifier\n",
    "\n",
    "**Hint:** Please notice that you need to instantiate again a new vectorizer."
   ]
  },
  {
   "cell_type": "code",
   "execution_count": 8,
   "metadata": {},
   "outputs": [],
   "source": [
    "polarity_count_vectorizer = CountVectorizer()\n",
    "polarity_bow_matrix = polarity_count_vectorizer.fit_transform(text_train)"
   ]
  },
  {
   "cell_type": "markdown",
   "metadata": {},
   "source": [
    "Yay!!! Finally we're ready to train our first model. In order to do so, we need to input the train features and their labels. In this case we will use a support vector machine (svm). If you haven't heard anything about SVMs yet, don't worry, this won't be difficult, we will use the one provided by sklearn so you don't have to implement it by yourself. They treat each documents as a vector. \n",
    "\n",
    "Imagine all your documents are sample point in a scatter plot. The job of SVMs is to draw a line (hyperplane) in the middle of two classes so that the hyperplane is the widest gap between both of them. "
   ]
  },
  {
   "cell_type": "markdown",
   "metadata": {},
   "source": [
    "Let's instantiate our classifier"
   ]
  },
  {
   "cell_type": "code",
   "execution_count": 9,
   "metadata": {},
   "outputs": [],
   "source": [
    "classifier = svm.LinearSVC()"
   ]
  },
  {
   "cell_type": "markdown",
   "metadata": {},
   "source": [
    "Now it's time to train..."
   ]
  },
  {
   "cell_type": "code",
   "execution_count": 10,
   "metadata": {
    "scrolled": true
   },
   "outputs": [
    {
     "data": {
      "text/plain": [
       "LinearSVC(C=1.0, class_weight=None, dual=True, fit_intercept=True,\n",
       "          intercept_scaling=1, loss='squared_hinge', max_iter=1000,\n",
       "          multi_class='ovr', penalty='l2', random_state=None, tol=0.0001,\n",
       "          verbose=0)"
      ]
     },
     "execution_count": 10,
     "metadata": {},
     "output_type": "execute_result"
    }
   ],
   "source": [
    "classifier.fit(polarity_bow_matrix, label_train)"
   ]
  },
  {
   "cell_type": "markdown",
   "metadata": {},
   "source": [
    "And after training we can test... But first, we need to convert our test data into numerical features. Now is your turn to test"
   ]
  },
  {
   "cell_type": "markdown",
   "metadata": {},
   "source": [
    "**Question**\n",
    "Vectorize your test set, in the same way we did with the train data. After vectorizing use the method `predict()` and put your test_matrix in the parentesis. This method returns a class prediction for each document in the matrix. \n",
    "\n",
    "Use NumPy to compare the original labels with the ones predicted by our model.\n",
    "\n",
    "**Hint:** Check np.sum and np.equal"
   ]
  },
  {
   "cell_type": "code",
   "execution_count": 11,
   "metadata": {},
   "outputs": [],
   "source": [
    "test_tfidf_matrix = polarity_count_vectorizer.transform(text_test)"
   ]
  },
  {
   "cell_type": "code",
   "execution_count": 12,
   "metadata": {},
   "outputs": [],
   "source": [
    "test = classifier.predict(test_tfidf_matrix)"
   ]
  },
  {
   "cell_type": "code",
   "execution_count": 13,
   "metadata": {},
   "outputs": [],
   "source": [
    "correct_answers = np.sum(np.equal(test, label_test))"
   ]
  },
  {
   "cell_type": "code",
   "execution_count": 14,
   "metadata": {},
   "outputs": [],
   "source": [
    "accuracy = correct_answers / (len(test)*1.0) * 100"
   ]
  },
  {
   "cell_type": "code",
   "execution_count": 15,
   "metadata": {},
   "outputs": [
    {
     "name": "stdout",
     "output_type": "stream",
     "text": [
      "85.5\n"
     ]
    }
   ],
   "source": [
    "print(accuracy)"
   ]
  },
  {
   "cell_type": "markdown",
   "metadata": {},
   "source": [
    "## Using word vectors from spaCy"
   ]
  },
  {
   "cell_type": "markdown",
   "metadata": {},
   "source": [
    "spaCy offers pretrained vectors for each token. They come inside the models that we load. However, the small model doesn't include vectors. Let's look at what happen..."
   ]
  },
  {
   "cell_type": "code",
   "execution_count": 16,
   "metadata": {},
   "outputs": [],
   "source": [
    "import spacy\n",
    "\n",
    "from spacy.lang.en import English\n",
    "nlp = English()\n",
    "\n",
    "nlp = spacy.load('en_core_web_sm')"
   ]
  },
  {
   "cell_type": "code",
   "execution_count": 17,
   "metadata": {},
   "outputs": [
    {
     "name": "stdout",
     "output_type": "stream",
     "text": [
      "We True 25.470768 True\n",
      "did True 24.383423 True\n",
      "n't True 25.47984 True\n",
      "want True 21.264833 True\n",
      "to True 24.335705 True\n",
      "eat True 26.564693 True\n",
      ". True 23.005432 True\n"
     ]
    }
   ],
   "source": [
    "raw = \"We didn't want to eat.\"\n",
    "\n",
    "tokens = nlp(raw)\n",
    "for token in tokens:\n",
    "    print(token.text, token.has_vector, token.vector_norm, token.is_oov) # oov = Out of Vocabulary"
   ]
  },
  {
   "cell_type": "code",
   "execution_count": 18,
   "metadata": {},
   "outputs": [
    {
     "name": "stdout",
     "output_type": "stream",
     "text": [
      "We We 1.0\n",
      "We did 0.020710269\n",
      "We n't 0.09818799\n",
      "We want 0.10925827\n",
      "We to -0.034209188\n",
      "We eat -0.011708566\n",
      "We . -0.112583846\n",
      "did We 0.020710269\n",
      "did did 1.0\n",
      "did n't 0.11590298\n",
      "did want 0.16977178\n",
      "did to 0.023720885\n",
      "did eat 0.0140754245\n",
      "did . -0.097842164\n",
      "n't We 0.09818799\n",
      "n't did 0.11590298\n",
      "n't n't 1.0\n",
      "n't want 0.09714964\n",
      "n't to 0.06225885\n",
      "n't eat 0.08804651\n",
      "n't . -0.13261506\n",
      "want We 0.10925827\n",
      "want did 0.16977178\n",
      "want n't 0.09714964\n",
      "want want 1.0\n",
      "want to 0.07914053\n"
     ]
    },
    {
     "name": "stderr",
     "output_type": "stream",
     "text": [
      "/usr/lib/python3.5/runpy.py:193: ModelsWarning: [W007] The model you're using has no word vectors loaded, so the result of the Token.similarity method will be based on the tagger, parser and NER, which may not give useful similarity judgements. This may happen if you're using one of the small models, e.g. `en_core_web_sm`, which don't ship with word vectors and only use context-sensitive tensors. You can always add your own word vectors, or use one of the larger models instead if available.\n",
      "  \"__main__\", mod_spec)\n",
      "/usr/lib/python3.5/runpy.py:193: ModelsWarning: [W007] The model you're using has no word vectors loaded, so the result of the Token.similarity method will be based on the tagger, parser and NER, which may not give useful similarity judgements. This may happen if you're using one of the small models, e.g. `en_core_web_sm`, which don't ship with word vectors and only use context-sensitive tensors. You can always add your own word vectors, or use one of the larger models instead if available.\n",
      "  \"__main__\", mod_spec)\n",
      "/usr/lib/python3.5/runpy.py:193: ModelsWarning: [W007] The model you're using has no word vectors loaded, so the result of the Token.similarity method will be based on the tagger, parser and NER, which may not give useful similarity judgements. This may happen if you're using one of the small models, e.g. `en_core_web_sm`, which don't ship with word vectors and only use context-sensitive tensors. You can always add your own word vectors, or use one of the larger models instead if available.\n",
      "  \"__main__\", mod_spec)\n",
      "/usr/lib/python3.5/runpy.py:193: ModelsWarning: [W007] The model you're using has no word vectors loaded, so the result of the Token.similarity method will be based on the tagger, parser and NER, which may not give useful similarity judgements. This may happen if you're using one of the small models, e.g. `en_core_web_sm`, which don't ship with word vectors and only use context-sensitive tensors. You can always add your own word vectors, or use one of the larger models instead if available.\n",
      "  \"__main__\", mod_spec)\n",
      "/usr/lib/python3.5/runpy.py:193: ModelsWarning: [W007] The model you're using has no word vectors loaded, so the result of the Token.similarity method will be based on the tagger, parser and NER, which may not give useful similarity judgements. This may happen if you're using one of the small models, e.g. `en_core_web_sm`, which don't ship with word vectors and only use context-sensitive tensors. You can always add your own word vectors, or use one of the larger models instead if available.\n",
      "  \"__main__\", mod_spec)\n",
      "/usr/lib/python3.5/runpy.py:193: ModelsWarning: [W007] The model you're using has no word vectors loaded, so the result of the Token.similarity method will be based on the tagger, parser and NER, which may not give useful similarity judgements. This may happen if you're using one of the small models, e.g. `en_core_web_sm`, which don't ship with word vectors and only use context-sensitive tensors. You can always add your own word vectors, or use one of the larger models instead if available.\n",
      "  \"__main__\", mod_spec)\n",
      "/usr/lib/python3.5/runpy.py:193: ModelsWarning: [W007] The model you're using has no word vectors loaded, so the result of the Token.similarity method will be based on the tagger, parser and NER, which may not give useful similarity judgements. This may happen if you're using one of the small models, e.g. `en_core_web_sm`, which don't ship with word vectors and only use context-sensitive tensors. You can always add your own word vectors, or use one of the larger models instead if available.\n",
      "  \"__main__\", mod_spec)\n",
      "/usr/lib/python3.5/runpy.py:193: ModelsWarning: [W007] The model you're using has no word vectors loaded, so the result of the Token.similarity method will be based on the tagger, parser and NER, which may not give useful similarity judgements. This may happen if you're using one of the small models, e.g. `en_core_web_sm`, which don't ship with word vectors and only use context-sensitive tensors. You can always add your own word vectors, or use one of the larger models instead if available.\n",
      "  \"__main__\", mod_spec)\n",
      "/usr/lib/python3.5/runpy.py:193: ModelsWarning: [W007] The model you're using has no word vectors loaded, so the result of the Token.similarity method will be based on the tagger, parser and NER, which may not give useful similarity judgements. This may happen if you're using one of the small models, e.g. `en_core_web_sm`, which don't ship with word vectors and only use context-sensitive tensors. You can always add your own word vectors, or use one of the larger models instead if available.\n",
      "  \"__main__\", mod_spec)\n",
      "/usr/lib/python3.5/runpy.py:193: ModelsWarning: [W007] The model you're using has no word vectors loaded, so the result of the Token.similarity method will be based on the tagger, parser and NER, which may not give useful similarity judgements. This may happen if you're using one of the small models, e.g. `en_core_web_sm`, which don't ship with word vectors and only use context-sensitive tensors. You can always add your own word vectors, or use one of the larger models instead if available.\n",
      "  \"__main__\", mod_spec)\n",
      "/usr/lib/python3.5/runpy.py:193: ModelsWarning: [W007] The model you're using has no word vectors loaded, so the result of the Token.similarity method will be based on the tagger, parser and NER, which may not give useful similarity judgements. This may happen if you're using one of the small models, e.g. `en_core_web_sm`, which don't ship with word vectors and only use context-sensitive tensors. You can always add your own word vectors, or use one of the larger models instead if available.\n",
      "  \"__main__\", mod_spec)\n",
      "/usr/lib/python3.5/runpy.py:193: ModelsWarning: [W007] The model you're using has no word vectors loaded, so the result of the Token.similarity method will be based on the tagger, parser and NER, which may not give useful similarity judgements. This may happen if you're using one of the small models, e.g. `en_core_web_sm`, which don't ship with word vectors and only use context-sensitive tensors. You can always add your own word vectors, or use one of the larger models instead if available.\n",
      "  \"__main__\", mod_spec)\n",
      "/usr/lib/python3.5/runpy.py:193: ModelsWarning: [W007] The model you're using has no word vectors loaded, so the result of the Token.similarity method will be based on the tagger, parser and NER, which may not give useful similarity judgements. This may happen if you're using one of the small models, e.g. `en_core_web_sm`, which don't ship with word vectors and only use context-sensitive tensors. You can always add your own word vectors, or use one of the larger models instead if available.\n",
      "  \"__main__\", mod_spec)\n",
      "/usr/lib/python3.5/runpy.py:193: ModelsWarning: [W007] The model you're using has no word vectors loaded, so the result of the Token.similarity method will be based on the tagger, parser and NER, which may not give useful similarity judgements. This may happen if you're using one of the small models, e.g. `en_core_web_sm`, which don't ship with word vectors and only use context-sensitive tensors. You can always add your own word vectors, or use one of the larger models instead if available.\n",
      "  \"__main__\", mod_spec)\n",
      "/usr/lib/python3.5/runpy.py:193: ModelsWarning: [W007] The model you're using has no word vectors loaded, so the result of the Token.similarity method will be based on the tagger, parser and NER, which may not give useful similarity judgements. This may happen if you're using one of the small models, e.g. `en_core_web_sm`, which don't ship with word vectors and only use context-sensitive tensors. You can always add your own word vectors, or use one of the larger models instead if available.\n",
      "  \"__main__\", mod_spec)\n",
      "/usr/lib/python3.5/runpy.py:193: ModelsWarning: [W007] The model you're using has no word vectors loaded, so the result of the Token.similarity method will be based on the tagger, parser and NER, which may not give useful similarity judgements. This may happen if you're using one of the small models, e.g. `en_core_web_sm`, which don't ship with word vectors and only use context-sensitive tensors. You can always add your own word vectors, or use one of the larger models instead if available.\n",
      "  \"__main__\", mod_spec)\n",
      "/usr/lib/python3.5/runpy.py:193: ModelsWarning: [W007] The model you're using has no word vectors loaded, so the result of the Token.similarity method will be based on the tagger, parser and NER, which may not give useful similarity judgements. This may happen if you're using one of the small models, e.g. `en_core_web_sm`, which don't ship with word vectors and only use context-sensitive tensors. You can always add your own word vectors, or use one of the larger models instead if available.\n",
      "  \"__main__\", mod_spec)\n",
      "/usr/lib/python3.5/runpy.py:193: ModelsWarning: [W007] The model you're using has no word vectors loaded, so the result of the Token.similarity method will be based on the tagger, parser and NER, which may not give useful similarity judgements. This may happen if you're using one of the small models, e.g. `en_core_web_sm`, which don't ship with word vectors and only use context-sensitive tensors. You can always add your own word vectors, or use one of the larger models instead if available.\n",
      "  \"__main__\", mod_spec)\n",
      "/usr/lib/python3.5/runpy.py:193: ModelsWarning: [W007] The model you're using has no word vectors loaded, so the result of the Token.similarity method will be based on the tagger, parser and NER, which may not give useful similarity judgements. This may happen if you're using one of the small models, e.g. `en_core_web_sm`, which don't ship with word vectors and only use context-sensitive tensors. You can always add your own word vectors, or use one of the larger models instead if available.\n",
      "  \"__main__\", mod_spec)\n",
      "/usr/lib/python3.5/runpy.py:193: ModelsWarning: [W007] The model you're using has no word vectors loaded, so the result of the Token.similarity method will be based on the tagger, parser and NER, which may not give useful similarity judgements. This may happen if you're using one of the small models, e.g. `en_core_web_sm`, which don't ship with word vectors and only use context-sensitive tensors. You can always add your own word vectors, or use one of the larger models instead if available.\n",
      "  \"__main__\", mod_spec)\n",
      "/usr/lib/python3.5/runpy.py:193: ModelsWarning: [W007] The model you're using has no word vectors loaded, so the result of the Token.similarity method will be based on the tagger, parser and NER, which may not give useful similarity judgements. This may happen if you're using one of the small models, e.g. `en_core_web_sm`, which don't ship with word vectors and only use context-sensitive tensors. You can always add your own word vectors, or use one of the larger models instead if available.\n",
      "  \"__main__\", mod_spec)\n",
      "/usr/lib/python3.5/runpy.py:193: ModelsWarning: [W007] The model you're using has no word vectors loaded, so the result of the Token.similarity method will be based on the tagger, parser and NER, which may not give useful similarity judgements. This may happen if you're using one of the small models, e.g. `en_core_web_sm`, which don't ship with word vectors and only use context-sensitive tensors. You can always add your own word vectors, or use one of the larger models instead if available.\n",
      "  \"__main__\", mod_spec)\n",
      "/usr/lib/python3.5/runpy.py:193: ModelsWarning: [W007] The model you're using has no word vectors loaded, so the result of the Token.similarity method will be based on the tagger, parser and NER, which may not give useful similarity judgements. This may happen if you're using one of the small models, e.g. `en_core_web_sm`, which don't ship with word vectors and only use context-sensitive tensors. You can always add your own word vectors, or use one of the larger models instead if available.\n",
      "  \"__main__\", mod_spec)\n",
      "/usr/lib/python3.5/runpy.py:193: ModelsWarning: [W007] The model you're using has no word vectors loaded, so the result of the Token.similarity method will be based on the tagger, parser and NER, which may not give useful similarity judgements. This may happen if you're using one of the small models, e.g. `en_core_web_sm`, which don't ship with word vectors and only use context-sensitive tensors. You can always add your own word vectors, or use one of the larger models instead if available.\n",
      "  \"__main__\", mod_spec)\n",
      "/usr/lib/python3.5/runpy.py:193: ModelsWarning: [W007] The model you're using has no word vectors loaded, so the result of the Token.similarity method will be based on the tagger, parser and NER, which may not give useful similarity judgements. This may happen if you're using one of the small models, e.g. `en_core_web_sm`, which don't ship with word vectors and only use context-sensitive tensors. You can always add your own word vectors, or use one of the larger models instead if available.\n",
      "  \"__main__\", mod_spec)\n",
      "/usr/lib/python3.5/runpy.py:193: ModelsWarning: [W007] The model you're using has no word vectors loaded, so the result of the Token.similarity method will be based on the tagger, parser and NER, which may not give useful similarity judgements. This may happen if you're using one of the small models, e.g. `en_core_web_sm`, which don't ship with word vectors and only use context-sensitive tensors. You can always add your own word vectors, or use one of the larger models instead if available.\n",
      "  \"__main__\", mod_spec)\n",
      "/usr/lib/python3.5/runpy.py:193: ModelsWarning: [W007] The model you're using has no word vectors loaded, so the result of the Token.similarity method will be based on the tagger, parser and NER, which may not give useful similarity judgements. This may happen if you're using one of the small models, e.g. `en_core_web_sm`, which don't ship with word vectors and only use context-sensitive tensors. You can always add your own word vectors, or use one of the larger models instead if available.\n",
      "  \"__main__\", mod_spec)\n",
      "/usr/lib/python3.5/runpy.py:193: ModelsWarning: [W007] The model you're using has no word vectors loaded, so the result of the Token.similarity method will be based on the tagger, parser and NER, which may not give useful similarity judgements. This may happen if you're using one of the small models, e.g. `en_core_web_sm`, which don't ship with word vectors and only use context-sensitive tensors. You can always add your own word vectors, or use one of the larger models instead if available.\n",
      "  \"__main__\", mod_spec)\n",
      "/usr/lib/python3.5/runpy.py:193: ModelsWarning: [W007] The model you're using has no word vectors loaded, so the result of the Token.similarity method will be based on the tagger, parser and NER, which may not give useful similarity judgements. This may happen if you're using one of the small models, e.g. `en_core_web_sm`, which don't ship with word vectors and only use context-sensitive tensors. You can always add your own word vectors, or use one of the larger models instead if available.\n",
      "  \"__main__\", mod_spec)\n",
      "/usr/lib/python3.5/runpy.py:193: ModelsWarning: [W007] The model you're using has no word vectors loaded, so the result of the Token.similarity method will be based on the tagger, parser and NER, which may not give useful similarity judgements. This may happen if you're using one of the small models, e.g. `en_core_web_sm`, which don't ship with word vectors and only use context-sensitive tensors. You can always add your own word vectors, or use one of the larger models instead if available.\n",
      "  \"__main__\", mod_spec)\n",
      "/usr/lib/python3.5/runpy.py:193: ModelsWarning: [W007] The model you're using has no word vectors loaded, so the result of the Token.similarity method will be based on the tagger, parser and NER, which may not give useful similarity judgements. This may happen if you're using one of the small models, e.g. `en_core_web_sm`, which don't ship with word vectors and only use context-sensitive tensors. You can always add your own word vectors, or use one of the larger models instead if available.\n",
      "  \"__main__\", mod_spec)\n",
      "/usr/lib/python3.5/runpy.py:193: ModelsWarning: [W007] The model you're using has no word vectors loaded, so the result of the Token.similarity method will be based on the tagger, parser and NER, which may not give useful similarity judgements. This may happen if you're using one of the small models, e.g. `en_core_web_sm`, which don't ship with word vectors and only use context-sensitive tensors. You can always add your own word vectors, or use one of the larger models instead if available.\n",
      "  \"__main__\", mod_spec)\n",
      "/usr/lib/python3.5/runpy.py:193: ModelsWarning: [W007] The model you're using has no word vectors loaded, so the result of the Token.similarity method will be based on the tagger, parser and NER, which may not give useful similarity judgements. This may happen if you're using one of the small models, e.g. `en_core_web_sm`, which don't ship with word vectors and only use context-sensitive tensors. You can always add your own word vectors, or use one of the larger models instead if available.\n",
      "  \"__main__\", mod_spec)\n",
      "/usr/lib/python3.5/runpy.py:193: ModelsWarning: [W007] The model you're using has no word vectors loaded, so the result of the Token.similarity method will be based on the tagger, parser and NER, which may not give useful similarity judgements. This may happen if you're using one of the small models, e.g. `en_core_web_sm`, which don't ship with word vectors and only use context-sensitive tensors. You can always add your own word vectors, or use one of the larger models instead if available.\n",
      "  \"__main__\", mod_spec)\n",
      "/usr/lib/python3.5/runpy.py:193: ModelsWarning: [W007] The model you're using has no word vectors loaded, so the result of the Token.similarity method will be based on the tagger, parser and NER, which may not give useful similarity judgements. This may happen if you're using one of the small models, e.g. `en_core_web_sm`, which don't ship with word vectors and only use context-sensitive tensors. You can always add your own word vectors, or use one of the larger models instead if available.\n",
      "  \"__main__\", mod_spec)\n",
      "/usr/lib/python3.5/runpy.py:193: ModelsWarning: [W007] The model you're using has no word vectors loaded, so the result of the Token.similarity method will be based on the tagger, parser and NER, which may not give useful similarity judgements. This may happen if you're using one of the small models, e.g. `en_core_web_sm`, which don't ship with word vectors and only use context-sensitive tensors. You can always add your own word vectors, or use one of the larger models instead if available.\n",
      "  \"__main__\", mod_spec)\n",
      "/usr/lib/python3.5/runpy.py:193: ModelsWarning: [W007] The model you're using has no word vectors loaded, so the result of the Token.similarity method will be based on the tagger, parser and NER, which may not give useful similarity judgements. This may happen if you're using one of the small models, e.g. `en_core_web_sm`, which don't ship with word vectors and only use context-sensitive tensors. You can always add your own word vectors, or use one of the larger models instead if available.\n",
      "  \"__main__\", mod_spec)\n",
      "/usr/lib/python3.5/runpy.py:193: ModelsWarning: [W007] The model you're using has no word vectors loaded, so the result of the Token.similarity method will be based on the tagger, parser and NER, which may not give useful similarity judgements. This may happen if you're using one of the small models, e.g. `en_core_web_sm`, which don't ship with word vectors and only use context-sensitive tensors. You can always add your own word vectors, or use one of the larger models instead if available.\n",
      "  \"__main__\", mod_spec)\n"
     ]
    },
    {
     "name": "stdout",
     "output_type": "stream",
     "text": [
      "want eat 0.5724454\n",
      "want . -0.01547255\n",
      "to We -0.034209188\n",
      "to did 0.023720885\n",
      "to n't 0.06225885\n",
      "to want 0.07914053\n",
      "to to 1.0\n",
      "to eat 0.06685362\n",
      "to . 0.20728269\n",
      "eat We -0.011708566\n",
      "eat did 0.0140754245\n",
      "eat n't 0.08804651\n",
      "eat want 0.5724454\n",
      "eat to 0.06685362\n",
      "eat eat 1.0\n",
      "eat . 0.19326732\n",
      ". We -0.112583846\n",
      ". did -0.097842164\n",
      ". n't -0.13261506\n",
      ". want -0.01547255\n",
      ". to 0.20728269\n",
      ". eat 0.19326732\n",
      ". . 1.0\n"
     ]
    },
    {
     "name": "stderr",
     "output_type": "stream",
     "text": [
      "/usr/lib/python3.5/runpy.py:193: ModelsWarning: [W007] The model you're using has no word vectors loaded, so the result of the Token.similarity method will be based on the tagger, parser and NER, which may not give useful similarity judgements. This may happen if you're using one of the small models, e.g. `en_core_web_sm`, which don't ship with word vectors and only use context-sensitive tensors. You can always add your own word vectors, or use one of the larger models instead if available.\n",
      "  \"__main__\", mod_spec)\n",
      "/usr/lib/python3.5/runpy.py:193: ModelsWarning: [W007] The model you're using has no word vectors loaded, so the result of the Token.similarity method will be based on the tagger, parser and NER, which may not give useful similarity judgements. This may happen if you're using one of the small models, e.g. `en_core_web_sm`, which don't ship with word vectors and only use context-sensitive tensors. You can always add your own word vectors, or use one of the larger models instead if available.\n",
      "  \"__main__\", mod_spec)\n",
      "/usr/lib/python3.5/runpy.py:193: ModelsWarning: [W007] The model you're using has no word vectors loaded, so the result of the Token.similarity method will be based on the tagger, parser and NER, which may not give useful similarity judgements. This may happen if you're using one of the small models, e.g. `en_core_web_sm`, which don't ship with word vectors and only use context-sensitive tensors. You can always add your own word vectors, or use one of the larger models instead if available.\n",
      "  \"__main__\", mod_spec)\n",
      "/usr/lib/python3.5/runpy.py:193: ModelsWarning: [W007] The model you're using has no word vectors loaded, so the result of the Token.similarity method will be based on the tagger, parser and NER, which may not give useful similarity judgements. This may happen if you're using one of the small models, e.g. `en_core_web_sm`, which don't ship with word vectors and only use context-sensitive tensors. You can always add your own word vectors, or use one of the larger models instead if available.\n",
      "  \"__main__\", mod_spec)\n"
     ]
    }
   ],
   "source": [
    "for token1 in tokens:\n",
    "    for token2 in tokens:\n",
    "        print(token1.text, token2.text, token1.similarity(token2))"
   ]
  },
  {
   "cell_type": "markdown",
   "metadata": {},
   "source": [
    "**Question**\n",
    "Download `en_core_web_md`, which is the medium model for English and try to test the token similarity again.\n",
    "\n",
    "**Hint**\n",
    "Call your object different from nlp, so that you can compare without overwriting the nlp object (maybe nlp_medium is a good idea :)). We call these tokens `new_tokens`."
   ]
  },
  {
   "cell_type": "code",
   "execution_count": 19,
   "metadata": {},
   "outputs": [],
   "source": [
    "nlp_medium = spacy.load('en_core_web_md')"
   ]
  },
  {
   "cell_type": "code",
   "execution_count": 21,
   "metadata": {},
   "outputs": [
    {
     "name": "stdout",
     "output_type": "stream",
     "text": [
      "We didn't want to eat.\n"
     ]
    }
   ],
   "source": [
    "print(raw)\n",
    "#print(len(new_tokens))\n",
    "new_tokens = nlp_medium(raw)"
   ]
  },
  {
   "cell_type": "code",
   "execution_count": 22,
   "metadata": {},
   "outputs": [
    {
     "name": "stdout",
     "output_type": "stream",
     "text": [
      "We We 1.0\n",
      "We did 0.69173646\n",
      "We n't 0.6942249\n",
      "We want 0.72397226\n",
      "We to 0.6098714\n",
      "We eat 0.49724275\n",
      "We . 0.42758408\n",
      "did We 0.69173646\n",
      "did did 1.0\n",
      "did n't 0.80410373\n",
      "did want 0.65793914\n",
      "did to 0.52778155\n",
      "did eat 0.47160104\n",
      "did . 0.35375196\n",
      "n't We 0.6942249\n",
      "n't did 0.80410373\n",
      "n't n't 1.0\n",
      "n't want 0.80974674\n",
      "n't to 0.57629895\n",
      "n't eat 0.517009\n",
      "n't . 0.34257802\n",
      "want We 0.72397226\n",
      "want did 0.65793914\n",
      "want n't 0.80974674\n",
      "want want 1.0\n",
      "want to 0.6864664\n",
      "want eat 0.5250392\n",
      "want . 0.34755716\n",
      "to We 0.6098714\n",
      "to did 0.52778155\n",
      "to n't 0.57629895\n",
      "to want 0.6864664\n",
      "to to 1.0\n",
      "to eat 0.4138872\n",
      "to . 0.35827494\n",
      "eat We 0.49724275\n",
      "eat did 0.47160104\n",
      "eat n't 0.517009\n",
      "eat want 0.5250392\n",
      "eat to 0.4138872\n",
      "eat eat 1.0\n",
      "eat . 0.27974728\n",
      ". We 0.42758408\n",
      ". did 0.35375196\n",
      ". n't 0.34257802\n",
      ". want 0.34755716\n",
      ". to 0.35827494\n",
      ". eat 0.27974728\n",
      ". . 1.0\n"
     ]
    }
   ],
   "source": [
    "for token1 in new_tokens:\n",
    "    for token2 in new_tokens:\n",
    "        print(token1.text, token2.text, token1.similarity(token2))"
   ]
  },
  {
   "cell_type": "code",
   "execution_count": 29,
   "metadata": {},
   "outputs": [
    {
     "name": "stdout",
     "output_type": "stream",
     "text": [
      "[ 1.54157141e-02  1.58162847e-01 -2.09189296e-01 -1.48000717e-01\n",
      "  1.92292836e-02  1.52022853e-01  1.00684287e-02 -4.59917113e-02\n",
      " -5.19261286e-02  2.48431444e+00 -3.23732466e-01  7.03217164e-02\n",
      "  2.87551433e-01  1.11499861e-01 -3.15112829e-01 -5.16908653e-02\n",
      " -1.09751567e-01  9.67278600e-01 -3.28650028e-01  9.63080004e-02\n",
      "  2.25772858e-01  6.71602860e-02  3.80862951e-02  5.82573935e-03\n",
      " -2.26128578e-01  7.15370029e-02 -1.75886258e-01 -2.10741282e-01\n",
      "  1.62428141e-01 -2.70758301e-01 -1.78099707e-01  8.75744373e-02\n",
      " -2.17962284e-02  3.26618589e-02  1.71059415e-01 -6.51314333e-02\n",
      "  2.26513147e-01  1.35602131e-01 -1.07505716e-01 -6.50308281e-03\n",
      " -1.84223562e-01  1.20009948e-02  1.04176272e-02 -1.74822569e-01\n",
      "  4.89668548e-02  4.38821986e-02 -2.09584281e-01  4.87384275e-02\n",
      "  5.36047556e-02  6.00738600e-02 -1.80440709e-01 -2.76702736e-02\n",
      "  1.53272718e-01 -8.46770331e-02  4.07411426e-01 -1.01337001e-01\n",
      " -1.35096863e-01 -7.91867152e-02  5.74515853e-03  6.83657406e-03\n",
      " -3.55541408e-02 -1.35380000e-01 -2.68337093e-02  2.36693040e-01\n",
      "  6.88137114e-02 -1.58591002e-01 -9.17886384e-03  9.02057216e-02\n",
      "  2.26171449e-01  1.89469844e-01  8.31164196e-02  3.23364258e-01\n",
      "  3.29424292e-01 -1.89247727e-01  2.01038852e-01  6.49325177e-02\n",
      "  6.25187159e-02 -1.33870006e-01  4.20960002e-02  1.50317430e-01\n",
      "  3.89138646e-02 -4.77857329e-02 -2.33043000e-01 -1.12685427e-01\n",
      " -6.98455721e-02 -3.08002889e-01  2.20794424e-01 -3.17601144e-01\n",
      "  3.75475973e-01  4.33554277e-02 -2.88279712e-01 -9.81648564e-02\n",
      " -7.77580068e-02  1.59697846e-01  9.30885747e-02  1.14608847e-01\n",
      " -3.31504308e-02 -1.82500705e-01  3.69585752e-02  7.79422894e-02\n",
      " -8.70237127e-02  2.16317430e-01  6.66854307e-02 -4.78064232e-02\n",
      "  9.76745710e-02 -5.64332902e-01  3.20428282e-01 -1.25878215e-01\n",
      " -3.63744237e-02  2.21586853e-01  1.49968281e-01 -2.51140982e-01\n",
      "  1.63389698e-01 -1.25343710e-01  1.84571579e-01 -1.75836965e-01\n",
      "  1.37819707e-01 -1.87230721e-01 -9.63009447e-02 -5.64043298e-02\n",
      "  1.27963006e-01 -2.43735701e-01  6.27460033e-02 -9.18997899e-02\n",
      "  8.28768685e-02 -5.62792942e-02  3.96294259e-02 -2.43470713e-01\n",
      "  5.66354319e-02  1.93242859e-02  3.34515609e-02  4.47185105e-03\n",
      " -1.63301423e-01  2.56957144e-01  6.82604313e-02 -4.92786728e-02\n",
      "  7.42611438e-02 -4.85464297e-02 -3.82404253e-02 -5.16527183e-02\n",
      " -1.81658566e+00  1.19486153e-02  2.92734336e-02 -2.28010025e-02\n",
      "  1.66461438e-01 -1.70427695e-01 -1.96132869e-01  1.48045734e-01\n",
      " -6.13642856e-02 -1.89801291e-01  6.84308559e-02  1.84792295e-01\n",
      "  1.07736573e-01  7.05084354e-02 -5.08598499e-02 -1.39252439e-01\n",
      "  8.29742756e-03 -2.01182857e-01  3.55220474e-02  2.84160040e-02\n",
      " -1.50762871e-01  7.86901265e-02 -2.68610001e-01 -6.85655698e-02\n",
      " -6.10670038e-02 -2.04231422e-02  2.16182858e-01 -1.97286442e-01\n",
      "  1.82594016e-01  4.30951416e-02  1.00384271e-02 -8.68823007e-02\n",
      "  6.37207106e-02 -2.54862458e-01 -2.16296222e-02  1.64900422e-01\n",
      " -4.53457283e-03  1.29345739e-02  2.04514228e-02 -1.45070568e-01\n",
      "  3.70728760e-03 -1.28346384e-01 -2.58524150e-01 -1.17934227e-01\n",
      "  4.80997078e-02 -1.22123003e-01 -3.08104251e-02 -5.99018596e-02\n",
      "  1.49087429e-01  9.70500037e-02  1.37304559e-01 -5.50369956e-02\n",
      " -1.31278142e-01 -1.08872570e-01  9.92438570e-02  1.51707575e-01\n",
      " -2.05908567e-02 -1.59154296e-01  2.31475011e-01  3.21554273e-01\n",
      " -9.20490026e-02 -6.72280043e-02 -1.62190013e-02 -2.75775999e-01\n",
      "  2.68412739e-01  5.89241385e-02  4.24492843e-02  1.36147141e-02\n",
      "  2.96578556e-01  4.87149954e-02  1.69341359e-02 -1.17719293e-01\n",
      " -2.09529534e-01 -1.45889282e-01  9.67281386e-02  2.31301393e-02\n",
      " -6.22948445e-02 -3.03140696e-04 -2.59669870e-01  6.38997108e-02\n",
      "  1.29806578e-01 -8.14587101e-02 -4.52499986e-02  4.45264243e-02\n",
      "  4.01597098e-02  7.32738897e-02 -1.31264716e-01  4.77587841e-02\n",
      " -1.08892426e-01 -9.77049991e-02 -1.91057131e-01 -6.25037104e-02\n",
      "  2.26271003e-01  1.13606095e-01 -3.89230042e-03  5.26971444e-02\n",
      "  5.38670011e-02 -2.44337127e-01 -1.02193713e-01  1.19841300e-01\n",
      "  1.03107020e-01 -3.85612883e-02  2.10672449e-02  2.20730275e-01\n",
      "  1.56313419e-01 -2.33444571e-01 -2.12447137e-01 -4.96628620e-02\n",
      " -4.19484288e-01  4.01864320e-01  3.58978775e-03 -2.99171377e-02\n",
      " -2.44905278e-01 -6.20854727e-04  9.08491462e-02  2.15654135e-01\n",
      "  4.84171472e-02 -1.46504998e-01 -6.66597113e-02 -1.04329986e-02\n",
      "  9.32969339e-03  2.13224292e-01  8.60749707e-02  2.34118532e-02\n",
      "  1.92088574e-01  1.71041396e-02 -1.09960809e-01  1.04793139e-01\n",
      "  3.26484293e-01  3.73371691e-01  1.47446558e-01 -2.21395697e-02\n",
      "  1.19335674e-01 -2.10508570e-01 -1.04773425e-01  8.10098574e-02\n",
      "  1.05817104e-02  1.82548419e-01 -3.27369981e-02  4.14362878e-01\n",
      "  1.44822851e-01 -6.95385709e-02  3.89018580e-02 -7.82871395e-02\n",
      " -1.54505819e-01 -7.90974349e-02  1.72395006e-01 -1.58577710e-01\n",
      "  1.22472286e-01  1.54729128e-01 -9.99604240e-02  9.03814286e-02\n",
      " -2.04988852e-01 -3.94824706e-02  4.94214259e-02 -6.72121495e-02\n",
      " -1.08416982e-01 -6.61607161e-02  2.46936843e-01  9.49648544e-02]\n",
      "[ 2.2669e-02  2.6819e-01 -1.6665e-01 -2.3360e-01  3.0791e-01  9.7166e-02\n",
      "  1.1095e-01  4.2230e-01  9.1264e-02  2.9331e+00 -1.1770e-01 -8.8778e-02\n",
      "  4.2749e-01 -1.0279e-01 -3.2514e-01  1.2988e-01 -1.3386e-01  1.0488e+00\n",
      " -3.2978e-01  1.2886e-01  3.0973e-01  2.0575e-02  2.0039e-01  4.3253e-01\n",
      " -2.9318e-01  1.4213e-01 -2.7235e-01 -1.3762e-01  4.8498e-02 -1.8491e-01\n",
      " -1.3224e-01  9.7864e-02  1.8134e-01  1.5318e-01 -1.0470e-01  1.1942e-01\n",
      "  3.4233e-01  7.5848e-02 -2.0914e-01 -3.8095e-03 -2.3006e-01 -7.3405e-02\n",
      "  1.6130e-01 -5.3330e-02 -5.1853e-02  7.1669e-02 -1.0083e-01 -1.2493e-01\n",
      "  2.9145e-01  9.4568e-03  1.3886e-01 -2.9110e-02 -3.4411e-02  1.5095e-01\n",
      "  3.3011e-01 -2.8009e-01 -1.5836e-01  2.0167e-02 -1.3117e-02  1.1805e-01\n",
      " -6.7994e-02 -1.9187e-01 -1.4116e-01 -5.8238e-03 -3.5551e-02  1.1884e-01\n",
      "  6.3502e-02  2.5381e-01  2.5099e-01  9.0112e-02  1.0669e-01  3.3838e-01\n",
      "  6.6733e-01 -1.2212e-01  4.5076e-01 -2.6220e-02  2.0056e-01 -1.5064e-01\n",
      "  9.1391e-02  2.7882e-01  1.4259e-01  3.8343e-01 -3.6101e-01 -1.2030e-01\n",
      "  1.1404e-01 -5.0215e-01 -3.0909e-01 -2.2249e-01  3.2466e-01  1.8554e-01\n",
      " -2.0349e-01 -1.2997e-02 -1.6698e-01  2.8618e-01 -4.7910e-02  5.2927e-01\n",
      " -3.0210e-01 -1.1084e-01  1.8000e-01  3.1175e-01  7.2513e-02 -4.2824e-02\n",
      " -1.5346e-01  4.8977e-02  6.4368e-02 -8.4844e-01  2.2702e-01 -1.7192e-01\n",
      " -3.2611e-01  2.2896e-01 -6.7211e-02 -4.1694e-01  3.9490e-01 -1.5166e-01\n",
      "  4.6426e-01 -9.1252e-02  1.9994e-01  1.0606e-01 -2.0354e-01 -1.5510e-01\n",
      "  1.7310e-01 -4.2676e-01  1.1386e-01  2.0452e-01  2.4384e-01 -2.5961e-01\n",
      "  1.8406e-01 -3.6326e-01 -1.3283e-01 -1.9128e-01  3.1893e-01  9.7083e-02\n",
      " -2.3000e-01  1.3905e-01  1.3198e-01  4.6230e-02  1.5239e-01 -1.1676e-01\n",
      "  2.1971e-01  1.3581e-01 -1.6634e+00 -4.5813e-02 -4.2196e-02 -8.5938e-02\n",
      "  3.1367e-01 -3.3197e-01 -3.0871e-01  3.6827e-01  1.0740e-01 -1.9325e-01\n",
      " -1.4851e-01  1.6287e-02  1.7937e-01 -1.0430e-01 -2.2967e-02  4.0211e-02\n",
      " -5.6744e-02 -1.7917e-01 -1.2811e-01  6.7979e-02 -2.4782e-01  3.0682e-01\n",
      " -5.4531e-01 -2.0525e-01  1.8474e-02  6.6337e-02  2.8598e-01 -3.0335e-01\n",
      "  3.1240e-02  2.8052e-01 -7.7250e-02  1.9355e-01 -5.4773e-02 -2.8107e-01\n",
      " -2.4078e-01  1.6458e-01 -2.1500e-01  8.8421e-02  1.2587e-01 -1.7386e-01\n",
      "  1.4452e-01  5.8533e-04  1.3714e-01  6.7918e-02 -2.7624e-02 -1.2031e-01\n",
      " -1.4933e-02 -1.1758e-01  1.9230e-01  3.2405e-01  1.7892e-01 -3.0278e-01\n",
      " -8.4658e-02  1.4557e-02  2.8862e-02  1.8155e-01  6.9965e-02 -1.2304e-01\n",
      "  9.4186e-02  4.3488e-01 -2.1007e-01 -5.6919e-02 -2.1869e-02 -2.1861e-01\n",
      "  4.3534e-01 -7.5348e-02 -1.8955e-02  1.2400e-01  2.9976e-01  7.9804e-02\n",
      "  3.2865e-02 -3.0767e-01 -2.5459e-01  4.0193e-02  3.7136e-01 -2.7979e-02\n",
      "  5.5089e-02  4.2845e-02 -4.2364e-01  1.1171e-01  9.1248e-02 -7.8094e-02\n",
      " -2.1271e-02  8.0898e-02  1.1413e-02  2.3437e-02 -1.4338e-01 -1.7987e-01\n",
      " -1.3607e-01 -1.8895e-01 -8.6410e-02  3.6818e-01  9.0645e-02  8.5621e-02\n",
      "  2.1394e-01  1.0281e-01 -1.1159e-01 -3.7553e-01 -5.5474e-01  1.1283e-01\n",
      "  3.7311e-03 -9.0750e-02 -5.6133e-03  4.2166e-01 -9.9803e-02 -7.7291e-02\n",
      " -1.7669e-01 -2.3224e-01 -4.1804e-01  4.3522e-01 -8.0927e-02 -3.5495e-01\n",
      " -3.0174e-01 -6.0349e-02 -8.2020e-02  6.4893e-02  2.0306e-01 -2.3131e-01\n",
      "  2.3542e-02 -3.8933e-02  3.5633e-01  3.1721e-01 -9.2106e-02  5.3143e-02\n",
      "  2.2784e-01  5.5927e-02 -1.5156e-02  3.7974e-01  5.5978e-01  6.6481e-01\n",
      " -1.0906e-01  2.0758e-02 -3.9427e-02 -3.1786e-01 -3.7996e-02  2.2425e-01\n",
      " -4.4461e-02  1.4623e-01  1.6102e-01  5.9668e-01  2.0370e-01 -1.9959e-01\n",
      " -7.8247e-02  1.3255e-01  6.7546e-02 -1.5344e-01  2.9406e-01 -3.0091e-01\n",
      "  7.7368e-02  3.3197e-01 -3.4503e-01  8.7962e-02 -2.7032e-01 -6.0835e-03\n",
      "  2.7218e-01 -3.6510e-01 -1.7032e-01  1.4147e-01  8.8717e-02 -9.8582e-02]\n",
      "[-6.8894e-02  3.8769e-01 -2.6120e-01 -1.3737e-01 -2.1540e-01  1.6583e-01\n",
      " -5.7185e-02 -1.8180e-01 -9.1393e-02  3.0152e+00  8.0077e-03 -1.4678e-01\n",
      "  5.9703e-01  1.3855e-01 -3.8471e-01 -1.8226e-01 -4.8115e-02  1.9229e-01\n",
      " -3.9827e-01 -6.9427e-02  4.4313e-01  3.9526e-02  1.2246e-01 -9.5958e-03\n",
      " -2.7647e-01  5.2025e-02 -2.0317e-01 -2.4843e-01  1.8102e-01 -1.4600e-01\n",
      " -1.8892e-01  2.9503e-01  3.3175e-02  1.7062e-02 -5.0974e-02 -1.0416e-01\n",
      " -8.3443e-02 -3.6962e-02 -3.1562e-01 -2.5156e-01 -7.8766e-02  3.2880e-01\n",
      "  4.7974e-03 -1.7029e-01  2.5234e-01 -4.3896e-02 -3.5150e-01  4.4745e-02\n",
      "  3.0536e-01  6.3232e-03 -1.3202e-01 -3.4639e-03  2.3588e-01  8.0575e-02\n",
      "  3.2261e-01 -1.1584e-01 -7.9779e-02 -2.1162e-01  3.2221e-02 -2.3761e-02\n",
      " -6.0977e-02 -2.4384e-01  9.2764e-02  5.9417e-01  5.0349e-02 -7.6585e-02\n",
      "  2.4472e-02  6.3355e-02  5.2163e-01  1.4607e-01  3.9275e-01  4.0531e-01\n",
      "  1.0030e-01 -4.2093e-02  2.2654e-01  1.2735e-01 -4.0700e-02 -2.1567e-01\n",
      " -7.3999e-02  2.0608e-01  5.2384e-02 -5.3651e-02 -6.8521e-02 -1.9867e-01\n",
      "  3.2769e-02 -2.1590e-01  2.4419e-01 -8.8759e-01  7.9682e-02  1.5560e-01\n",
      " -1.7208e-01 -1.3209e-01 -2.9300e-01  3.0658e-01  6.8035e-01 -1.0776e-01\n",
      "  3.5520e-01 -4.0542e-02  5.6704e-02  2.3509e-01 -1.8616e-01  3.6344e-01\n",
      "  1.1020e-01 -1.9391e-01  1.0941e-01 -6.1226e-01  1.0745e-01 -2.7369e-01\n",
      " -5.7156e-02 -1.4424e-02  6.5230e-02  4.0382e-02  9.9708e-02 -2.0316e-01\n",
      "  2.4752e-01 -3.8636e-01  4.1649e-01 -2.2005e-02  2.8479e-02  3.7521e-02\n",
      "  3.0145e-01 -1.9554e-01  2.1607e-01 -2.1629e-03 -9.1473e-02  1.3047e-01\n",
      " -2.5666e-01 -4.1818e-01  5.3018e-02  1.2377e-01  1.8438e-01  1.3254e-01\n",
      " -1.4962e-01  1.1432e-01  3.2478e-01 -6.9747e-02  1.0825e-01  1.3107e-01\n",
      " -1.8367e-02 -1.2022e-01 -2.0446e+00 -6.3927e-03  1.8149e-01 -5.3651e-02\n",
      "  1.7999e-01  4.5148e-02 -4.9186e-01  7.1751e-02 -1.3357e-01 -1.5676e-01\n",
      "  4.3813e-02  3.5569e-02  9.3550e-02  1.1504e-01 -7.0877e-02 -3.7313e-01\n",
      " -1.6702e-01 -1.7217e-01  2.4716e-01  5.8633e-02 -3.8154e-01  2.6736e-02\n",
      " -3.5032e-01 -1.2290e-01 -3.1388e-01 -8.3798e-02 -1.3860e-01 -1.5093e-01\n",
      "  1.7949e-01 -4.2628e-02 -1.2303e-01 -6.7392e-02 -1.7052e-02 -4.6894e-01\n",
      " -2.7076e-01  1.3046e-02 -3.1676e-02  7.7040e-02  4.4534e-02 -3.4076e-01\n",
      " -1.3180e-01 -1.1474e-01 -4.6655e-01 -6.5947e-03  7.4149e-02 -2.8732e-02\n",
      " -8.3976e-02  1.2192e-01  8.4805e-02  1.9186e-01  2.9073e-01  1.0824e-01\n",
      " -4.8059e-01 -2.4350e-02  8.0575e-02  1.6651e-01  7.0393e-02 -3.4514e-01\n",
      "  1.8124e-01  2.5638e-01 -2.0278e-01 -1.3885e-02 -5.0953e-02 -3.4560e-01\n",
      "  2.5451e-01  7.5560e-02  2.4931e-01 -2.1375e-01  4.2524e-01  3.1741e-01\n",
      "  3.4780e-01  1.1065e-01 -9.8968e-03 -1.2733e-01  8.5349e-02  4.8286e-02\n",
      " -1.8867e-01 -2.0865e-01 -8.5430e-02  1.0498e-02  2.5702e-01  9.8603e-02\n",
      " -1.5663e-01  1.3255e-01 -9.6963e-02  3.7287e-01  4.2068e-02  1.5415e-03\n",
      " -8.6820e-02  6.0504e-02 -2.3958e-01  8.0184e-02  7.4252e-02  1.5825e-01\n",
      " -2.0592e-01 -1.7870e-01  2.6432e-01 -1.2007e-01  5.6193e-02  1.6916e-01\n",
      " -1.1060e-01 -2.9442e-02 -3.8349e-02  3.2298e-01  1.3419e-01 -3.1025e-01\n",
      " -1.3205e-01 -4.5077e-02 -4.5831e-01  4.1710e-01  1.8851e-01 -1.4794e-01\n",
      " -3.8060e-01 -2.0040e-01  4.9388e-02 -2.7280e-01 -9.7210e-02  1.2075e-02\n",
      "  1.0529e-01  1.6312e-01  4.1713e-01  2.0106e-01 -7.5969e-02  1.1092e-01\n",
      "  1.9831e-01  2.8921e-01  1.2260e-01  1.5835e-01  1.3568e-01  4.9098e-01\n",
      "  5.2886e-01  1.9570e-01  2.7019e-01 -1.8661e-01 -2.9612e-01  1.2648e-01\n",
      " -2.0609e-01 -3.0811e-01 -8.7578e-02  3.4066e-01  2.3827e-02  1.0351e-01\n",
      "  1.5046e-01  2.4930e-01 -1.8511e-01 -6.3229e-02  1.4560e-01  2.2438e-01\n",
      "  1.6841e-01  9.1937e-02 -2.3429e-01  1.9559e-01  1.6045e-01  2.0120e-01\n",
      "  3.3907e-01 -2.6314e-01 -1.4529e-01  1.9304e-01  3.7526e-01  1.4579e-01]\n",
      "[-1.3019e-01  2.7764e-01 -2.4159e-01 -1.2290e-01 -9.9673e-02  1.5480e-01\n",
      "  4.5905e-02 -4.8852e-02 -7.0227e-02  2.6683e+00  1.8325e-02 -1.4477e-01\n",
      "  5.4896e-01  1.3912e-01 -5.6630e-01 -7.6259e-02  2.0997e-02  5.3276e-01\n",
      " -3.1074e-01  1.2863e-01  2.1444e-01  1.3455e-01  2.3850e-01  4.8554e-02\n",
      " -3.3880e-01  2.1484e-02 -3.0940e-01 -2.9800e-01  5.4086e-01 -5.3253e-01\n",
      " -2.6099e-01  2.6757e-01 -5.6835e-02 -1.5544e-01  2.7707e-01  8.5732e-02\n",
      "  3.2584e-01  8.8359e-02 -1.0030e-01 -1.3693e-01 -4.1100e-02  2.3295e-01\n",
      " -9.1702e-02  8.1552e-02  2.0786e-01 -3.1941e-02 -2.1681e-01  4.2795e-02\n",
      " -1.1452e-01  5.9274e-02 -2.2558e-01 -1.1495e-01  1.4030e-01 -1.0689e-01\n",
      "  4.1254e-01 -1.0124e-01  2.8840e-02 -4.1875e-01  1.0929e-01 -1.5641e-01\n",
      "  3.9418e-02 -2.8243e-01 -1.4220e-01  4.7574e-01  2.6084e-01 -1.2307e-01\n",
      " -1.7240e-01 -1.0748e-01  3.1673e-01  2.5172e-01  3.6466e-01  3.8725e-01\n",
      "  2.8571e-01 -9.3661e-02  5.5286e-02  2.4270e-01  1.7109e-01 -1.5716e-01\n",
      "  1.4724e-01  3.6599e-01 -6.5697e-02 -2.3486e-01 -1.9004e-01 -4.2001e-02\n",
      " -2.4010e-01 -1.7693e-01  1.4648e-01 -5.4740e-01  7.3240e-01 -1.5878e-01\n",
      " -3.4187e-01 -2.2201e-01 -1.5924e-01  3.1443e-01  2.3653e-01  5.5091e-02\n",
      "  2.8245e-01  1.9587e-02  2.4930e-01  4.4079e-02 -2.2886e-01  3.6507e-01\n",
      " -7.6332e-02 -7.3083e-02  2.3082e-01 -4.7279e-01  2.0098e-02 -1.8732e-01\n",
      " -1.5627e-01  2.9637e-01  8.1997e-02 -1.9479e-02  3.1497e-01 -2.6458e-01\n",
      "  1.7927e-01 -1.1421e-01  1.8280e-01 -1.9653e-01 -1.5288e-01 -2.8553e-03\n",
      " -2.0426e-02 -2.2377e-01 -7.0952e-02 -3.6273e-01  2.5286e-01 -1.7657e-02\n",
      "  7.0154e-02 -5.2035e-01 -6.3060e-02 -6.3401e-02  3.1118e-02  1.7004e-01\n",
      " -1.2248e-01  3.4400e-01  1.6571e-01 -1.5052e-01  5.2269e-02 -1.0966e-01\n",
      " -1.3550e-01 -2.3961e-01 -2.2062e+00  1.4258e-01  1.6897e-01  3.5696e-02\n",
      "  1.3030e-01 -1.0539e-01 -2.0260e-01  1.2489e-01 -1.4080e-02 -2.2252e-01\n",
      "  4.0705e-01  1.0080e-01  3.2245e-02  3.9523e-01 -7.7507e-02 -2.1702e-01\n",
      " -9.8140e-02 -2.0212e-01 -1.9024e-02  1.2406e-02 -3.3449e-01  2.4188e-01\n",
      " -2.9180e-01  4.7731e-02 -2.3640e-01 -4.1121e-02  1.6712e-01 -2.5078e-01\n",
      "  3.0386e-01 -1.5052e-01  2.5404e-02 -1.9863e-01  1.1755e-01 -3.5061e-01\n",
      "  2.6133e-01  3.7007e-01  1.3698e-01  1.1351e-01  1.5074e-01 -1.2460e-01\n",
      " -6.7939e-02  1.2380e-02 -4.2154e-01 -9.1529e-03 -1.0902e-01 -8.6627e-02\n",
      " -5.9834e-02  1.0847e-01  1.3728e-02  4.3898e-02  1.6817e-01  4.3819e-02\n",
      " -2.9907e-01 -1.7329e-01  2.1429e-01  1.3766e-01 -8.8914e-02 -2.2155e-01\n",
      "  3.4939e-01  4.8677e-01 -1.3624e-01 -8.6712e-02  2.7144e-02 -2.4487e-01\n",
      "  4.3639e-02  1.3863e-01  1.2576e-02 -9.1621e-02  3.5802e-01  8.4971e-02\n",
      "  1.9817e-02 -2.0481e-01 -1.5568e-01 -5.2826e-01  6.4368e-02  6.0007e-02\n",
      " -2.4596e-01  1.5001e-01 -6.0509e-01 -1.5379e-01  1.6719e-02  1.5949e-01\n",
      " -9.7624e-02 -7.9510e-02  1.9468e-01  9.8393e-02  1.5924e-01  1.5078e-01\n",
      " -9.1977e-02 -2.6800e-02 -2.1947e-01 -1.9844e-01  5.8255e-01  7.4457e-02\n",
      " -1.8159e-01  1.0575e-01  3.9545e-01 -6.2542e-01 -7.0905e-02  2.9926e-01\n",
      "  2.3098e-01 -5.8532e-02  7.9409e-02  2.1516e-01 -1.5310e-04 -3.5988e-01\n",
      " -2.8740e-01 -2.4583e-02 -3.0688e-01  6.1378e-01 -2.0170e-01 -1.8743e-01\n",
      " -2.2567e-01 -1.1391e-01 -1.3839e-01  6.5526e-02 -3.8524e-01 -2.6101e-01\n",
      "  1.5433e-01  1.9295e-01  1.6614e-02  2.7393e-01  1.5089e-02  1.7114e-01\n",
      "  3.6981e-01  4.4011e-01 -1.3757e-03  1.5895e-01  5.2241e-01  2.1377e-01\n",
      "  9.9801e-02 -7.7740e-02 -2.5710e-02 -4.5929e-01  9.6820e-03 -1.5693e-02\n",
      " -1.2355e-02 -1.5352e-01  4.0929e-02  2.4291e-01 -9.9217e-02 -1.2023e-01\n",
      "  4.8583e-02 -2.2753e-01 -4.0505e-01 -2.3716e-01 -1.1524e-02 -1.5346e-01\n",
      "  6.8119e-02 -3.5336e-02 -3.4307e-01  6.5718e-02 -2.6112e-02  8.3108e-02\n",
      "  2.7713e-01  2.0035e-02 -2.0193e-01 -1.7143e-01  5.5838e-01  1.9698e-01]\n",
      "[ 6.5244e-02  1.4688e-01 -3.0097e-01  6.3255e-02  1.7187e-01 -2.3266e-02\n",
      "  7.3829e-02 -1.1518e-01  1.7731e-03  2.3427e+00 -4.5260e-01 -1.2354e-01\n",
      "  1.2610e-01  1.4873e-01 -2.3729e-01 -1.1958e-01 -2.1996e-01  1.0854e+00\n",
      " -4.2772e-01  2.1940e-01  1.3661e-01  1.0843e-02  1.8656e-01 -1.6096e-01\n",
      " -4.0606e-01  1.8892e-01 -8.3509e-02 -2.7574e-01  4.4344e-01 -2.2960e-01\n",
      " -1.4175e-01  2.2531e-01 -1.7842e-01  1.4938e-01  3.2690e-01 -1.6202e-01\n",
      "  1.2463e-01  1.3052e-01 -1.7357e-01 -1.9690e-01 -1.8508e-01  9.9696e-02\n",
      " -4.1179e-02 -2.4674e-01 -1.7001e-01  8.1267e-02 -1.2484e-01 -2.1696e-02\n",
      " -5.6117e-03  1.1272e-01 -2.9318e-01  9.0980e-02  1.2825e-01 -1.2620e-01\n",
      "  5.6291e-01  2.6231e-02 -3.9514e-01 -2.8217e-01 -2.4504e-02 -1.5187e-02\n",
      " -9.9236e-02 -2.3795e-01 -2.8189e-01  3.3344e-01  4.4689e-01  9.1922e-02\n",
      " -4.6163e-02  2.0074e-01  3.8716e-01  4.9921e-02  5.6651e-02  5.2155e-01\n",
      "  3.2714e-01 -2.4040e-01  2.5465e-01  2.0795e-01  1.5865e-01 -1.0025e-01\n",
      "  1.5763e-01  1.2380e-01 -1.2449e-01 -1.4040e-01 -2.2281e-01 -5.8143e-02\n",
      " -1.6144e-01 -1.1420e-01 -5.0619e-02 -2.2212e-01  9.3237e-01 -3.1557e-01\n",
      " -3.1044e-01 -6.5434e-02 -2.7866e-02  1.3060e-01 -1.7650e-02  3.3281e-02\n",
      " -4.2885e-02 -1.0843e-01 -1.3789e-01  1.3291e-01 -7.0009e-02  9.8926e-02\n",
      "  2.5324e-01 -1.0943e-01  4.2339e-01 -8.2823e-01  2.2329e-01 -1.5430e-01\n",
      " -1.2823e-01  4.6095e-01  8.9724e-02 -3.3414e-01  2.1893e-01  5.1858e-02\n",
      "  3.8989e-01 -1.7439e-01  2.0306e-01 -1.5511e-01 -2.4180e-01 -6.0960e-03\n",
      "  1.2912e-01 -4.2499e-01  1.3974e-02  2.3039e-02  4.5216e-01  1.3259e-01\n",
      "  1.2739e-01 -2.1130e-01  2.6712e-02  1.1979e-01 -2.8607e-02  2.7273e-01\n",
      " -3.4675e-01  1.9665e-01  1.7762e-01 -3.1137e-03 -3.0095e-01 -1.3943e-01\n",
      " -6.9166e-02 -1.8439e-01 -2.1584e+00  4.0876e-02 -1.5023e-01 -4.7458e-02\n",
      "  1.7313e-01 -4.4616e-01  1.4839e-02  1.3607e-01 -1.6742e-01 -2.3277e-01\n",
      "  3.2186e-01  2.6471e-01 -5.8699e-02  1.3828e-01  1.2445e-02  1.2441e-01\n",
      " -1.1624e-02 -2.6598e-01 -2.6136e-01  1.4307e-01 -1.6942e-01  2.7987e-01\n",
      " -2.9704e-01  1.5407e-01  4.3844e-02 -6.9757e-02  3.2021e-01 -3.9471e-01\n",
      "  2.3437e-01  1.0769e-01 -1.9740e-01 -1.5929e-01  2.2427e-01 -1.7583e-01\n",
      "  3.3311e-01  2.3212e-01 -2.2246e-01  1.1788e-01  1.4781e-01  1.7450e-01\n",
      "  1.0295e-01  1.9504e-02 -3.2982e-01 -3.2971e-01  1.1684e-01 -1.7757e-01\n",
      " -2.8836e-01 -2.1117e-01 -1.7828e-02  1.5638e-01  1.8143e-01 -4.0705e-02\n",
      " -4.4660e-02 -4.1015e-01  3.7084e-01  5.9172e-02 -2.0780e-01 -1.7620e-01\n",
      "  3.6280e-01  4.9151e-01  4.9607e-02 -2.9252e-01  1.4678e-02 -5.8060e-01\n",
      "  1.2621e-01  2.1762e-01  3.5766e-02  1.4822e-02  2.3549e-01  1.9240e-01\n",
      " -1.3501e-01 -2.9742e-01 -3.4076e-01 -2.3475e-01  2.2909e-01  1.0250e-01\n",
      " -2.5880e-01 -2.2837e-02 -5.1613e-01 -6.0090e-02  4.9079e-02 -1.0030e-01\n",
      " -2.3926e-02  4.8350e-03  8.2030e-02  5.1716e-02 -2.4241e-02  2.6860e-01\n",
      " -1.9533e-01 -4.6159e-01 -3.6808e-01 -8.8048e-02  1.0599e-01  1.3993e-01\n",
      " -9.5851e-03  4.9020e-02  1.0499e-02 -2.7934e-01  5.9031e-02  4.9224e-01\n",
      "  3.7031e-01  2.9415e-02  1.8522e-01  3.5761e-02  1.6370e-01 -2.0271e-01\n",
      " -3.1356e-01  2.8362e-01 -3.3120e-01  4.9898e-01 -9.3616e-02 -2.6069e-01\n",
      " -2.2846e-01  4.8923e-02 -7.2344e-02  3.1112e-01 -3.6270e-02 -1.8114e-01\n",
      " -1.5598e-01  7.3770e-02  1.9738e-03  2.4537e-01  4.8890e-01  1.5427e-01\n",
      "  2.2229e-01 -2.9098e-02 -1.0988e-01  2.0410e-01  4.1547e-01  5.4258e-01\n",
      " -2.9195e-02 -1.8145e-01 -4.8703e-03 -1.7900e-01 -5.2210e-02 -7.6158e-02\n",
      "  1.4049e-01  3.2202e-01 -6.9210e-02  1.7569e-01 -1.6282e-01 -7.8700e-02\n",
      "  3.7803e-02  1.0602e-01  1.9462e-02 -1.5183e-01  2.4318e-01 -9.1764e-02\n",
      " -1.0361e-01 -4.8352e-03 -2.2713e-02 -3.1638e-02 -3.0936e-01 -2.4920e-01\n",
      "  2.1668e-01 -1.5460e-01 -4.5520e-01 -2.4393e-01  3.5209e-01  2.4132e-01]\n",
      "[ 3.1924e-01  6.3160e-02 -2.7858e-01  2.6120e-01  7.9248e-02 -2.1462e-01\n",
      " -1.0495e-01  1.5495e-01 -3.3530e-02  2.4834e+00 -5.0904e-01  8.7490e-02\n",
      "  2.1426e-01  2.2151e-01 -2.5234e-01 -9.7544e-02 -1.9270e-01  1.3606e+00\n",
      " -1.1592e-01 -1.0383e-01  2.1929e-01  1.1997e-01 -1.1063e-01  1.4212e-01\n",
      " -1.6643e-01  2.1815e-01  4.2086e-03 -7.0012e-02 -2.3532e-01 -2.6518e-01\n",
      "  3.1248e-02  1.6669e-01 -8.9777e-02  2.0059e-01  3.1614e-01 -5.5830e-01\n",
      "  7.5735e-02  2.7635e-01  1.2741e-01 -1.8185e-01 -1.2722e-01  2.4686e-02\n",
      " -7.7233e-02 -4.8998e-01  2.0355e-02  3.9164e-03  1.2150e-01  8.9723e-02\n",
      " -7.8975e-02  8.1443e-02 -9.9087e-02 -5.5621e-02  1.0737e-01 -4.4042e-03\n",
      "  4.8496e-01  1.1717e-01 -1.7329e-02  1.0900e-01 -3.5558e-01  5.1084e-02\n",
      "  1.5714e-01  1.7961e-01 -2.9711e-01  3.3645e-02 -2.5792e-02 -1.3931e-02\n",
      " -2.3000e-01 -4.0306e-02  2.2282e-01 -1.3544e-02  1.1554e-02  3.9110e-01\n",
      "  2.6533e-01 -3.1012e-01  4.0539e-01 -4.2975e-02  2.0811e-02 -3.3033e-01\n",
      "  1.9573e-01 -3.7958e-02  1.0274e-01 -1.3581e-03 -4.4505e-01  7.7886e-02\n",
      "  8.5110e-02 -2.0285e-01 -1.9481e-01  5.6933e-02  5.3105e-01  3.4154e-02\n",
      " -5.6996e-01 -1.8469e-01  9.3403e-02  2.8044e-01 -2.3349e-01  1.0938e-01\n",
      " -1.4288e-02 -2.7400e-01  3.4196e-02 -9.8479e-02  1.3268e-01  1.9437e-01\n",
      "  1.3463e-01 -9.9059e-02  4.0324e-02 -6.6272e-01  3.5710e-01  1.5429e-01\n",
      "  1.8598e-01  8.7542e-02  8.0538e-02 -2.5121e-01  2.4155e-01  1.7830e-01\n",
      "  3.6011e-02 -2.7677e-02  2.1161e-01 -2.9107e-01 -8.3456e-03  1.1317e-01\n",
      "  3.1064e-01 -1.0693e-01 -2.7367e-01 -3.9785e-02  3.9881e-02  3.4462e-02\n",
      " -1.6518e-01  1.6115e-01  6.0826e-02  3.0750e-01 -2.2398e-01  1.4619e-01\n",
      " -2.6610e-01  4.9732e-01 -1.3996e-01 -2.4287e-01  3.9469e-02 -8.4495e-02\n",
      " -2.4315e-01  7.0701e-02 -1.0136e+00 -2.1733e-01 -3.6878e-01 -2.4973e-01\n",
      "  1.7472e-01 -1.1592e-02  6.8561e-02 -9.0411e-02  2.1878e-01 -2.6390e-01\n",
      "  1.1904e-01  1.4285e-01 -1.8707e-01 -1.3474e-01 -1.3232e-01 -2.6553e-01\n",
      "  2.2947e-01 -1.8215e-02  6.7383e-03 -1.0190e-01  1.0053e-01 -1.1270e-01\n",
      " -1.3295e-01  1.5951e-01  1.4906e-01 -9.5578e-02  2.6992e-01  1.1057e-02\n",
      "  5.6568e-02  2.1386e-02  2.0215e-01  4.8589e-04  5.3360e-01 -2.2947e-01\n",
      "  2.9275e-01  1.7378e-01  2.5423e-01 -1.0976e-01  5.8816e-02  1.4616e-02\n",
      " -4.3060e-02  1.0732e-01 -2.8149e-02 -1.9181e-01  1.0250e-01 -6.3892e-02\n",
      "  1.2737e-02 -1.2913e-01  1.5037e-02  2.6562e-01 -1.7049e-02 -6.0716e-02\n",
      " -9.4919e-02  1.7775e-02  1.3221e-01  1.6830e-01 -1.9323e-01 -1.7612e-01\n",
      "  7.5506e-02  1.8939e-01  1.2508e-01 -1.9880e-01 -1.6017e-01 -2.1092e-01\n",
      "  4.6933e-01  4.4747e-02  9.8349e-02  1.1637e-02  2.2281e-01 -1.0837e-02\n",
      " -4.8330e-02 -4.7335e-01 -3.6811e-01 -1.3592e-01 -1.5086e-01  2.5416e-01\n",
      "  6.9531e-02  1.4211e-01 -2.6703e-01 -1.2590e-01  1.2076e-01 -2.6117e-01\n",
      "  3.3024e-02 -3.4398e-02 -1.3968e-01  1.3446e-01 -1.6709e-01  1.5002e-01\n",
      " -1.3724e-01  9.1226e-02 -2.7718e-01  2.0098e-02  2.6919e-01  4.3016e-01\n",
      "  9.4019e-02 -8.5496e-02 -2.5192e-01 -1.1645e-01 -3.9734e-02  4.6738e-03\n",
      "  5.4178e-01 -1.6636e-01  3.4546e-01  9.8501e-02  4.7819e-01 -3.8428e-01\n",
      " -3.2380e-01 -1.4822e-01 -4.7817e-01  1.6704e-01 -6.4505e-02  1.1834e-01\n",
      " -3.4480e-01  9.6891e-02  3.2309e-01  4.1471e-01  1.9463e-01 -2.0891e-01\n",
      " -1.2223e-01 -5.8298e-02 -2.0268e-01  2.9480e-01  4.3397e-02  1.0112e-01\n",
      "  2.7177e-01 -5.2124e-01 -7.3794e-02  4.4808e-02  4.1388e-01  8.8782e-02\n",
      "  6.2255e-01 -7.2391e-02  9.0129e-02  1.5428e-01  2.3163e-02 -1.3028e-01\n",
      "  6.1762e-02  3.3803e-01 -9.1581e-02  2.1039e-01  5.1080e-02  1.9184e-01\n",
      "  1.0444e-01  2.1380e-01 -3.5091e-01 -2.3702e-01  3.8399e-02 -1.0031e-01\n",
      "  1.8359e-01  2.5178e-02 -1.2977e-01  3.7130e-01  1.8888e-01 -4.2738e-03\n",
      " -1.0645e-01 -2.5810e-01 -4.4629e-02  8.2745e-02  9.7801e-02  2.5045e-01]\n",
      "[-1.1216e-01 -2.4393e-01 -8.9555e-02 -2.7334e-01 -2.3460e-01  7.2450e-01\n",
      " -1.3555e-01 -2.2179e-01 -1.2443e-01  2.1582e+00 -7.4218e-01  2.0429e-01\n",
      " -1.6771e-01  3.2534e-01 -2.5833e-01 -8.3299e-02 -2.4797e-01  9.9160e-01\n",
      " -4.6402e-01  3.3211e-01  2.7130e-01  8.7884e-02 -3.9411e-01 -4.3591e-01\n",
      " -4.1899e-01 -3.1220e-01  8.0665e-03 -4.8099e-01  4.0399e-02 -5.4912e-01\n",
      " -5.1648e-01  6.5157e-02  7.2044e-03 -2.2849e-01  3.2267e-01  2.3647e-01\n",
      "  4.6056e-01  1.3271e-01 -2.1545e-01  6.5540e-01 -6.0524e-01 -2.4769e-01\n",
      " -3.7913e-01  1.4196e-01  1.7504e-01  3.7996e-01 -4.1450e-01  3.2476e-01\n",
      "  1.7145e-01  2.6198e-01 -6.3799e-01  9.7533e-02  2.5043e-01 -4.1799e-01\n",
      "  8.9226e-01 -2.1751e-01 -3.4542e-01  9.2076e-02  2.8510e-01  2.2323e-01\n",
      "  1.6446e-01 -2.9845e-01  1.4169e-01 -1.0110e-01  2.4613e-01 -1.1760e+00\n",
      " -5.1133e-02  7.3051e-02  2.0224e-01  3.5731e-01 -1.4099e-01  4.8983e-01\n",
      "  1.7071e-01 -6.7022e-01 -3.8304e-02 -4.4463e-03 -1.8485e-01 -1.3185e-01\n",
      "  1.4671e-01 -1.9228e-01  5.0352e-01 -3.3281e-01 -1.5400e-01 -7.1391e-01\n",
      " -5.5288e-02 -4.6843e-01  1.0256e+00 -9.4011e-02 -2.1789e-01  8.6434e-02\n",
      " -3.4902e-01 -1.0035e-01 -7.8742e-02 -2.4537e-01 -1.6746e-01  3.9918e-01\n",
      " -1.4672e-01 -5.0380e-01  3.0038e-01  6.3296e-02 -2.2725e-01  3.2026e-01\n",
      "  4.1776e-01  2.7121e-01 -4.0005e-01 -6.6390e-01  1.0630e+00  7.6925e-03\n",
      "  1.7235e-01  2.7864e-01  5.4310e-01 -5.1987e-01 -3.0594e-01 -1.1784e-02\n",
      "  2.2686e-01 -4.2782e-01 -1.9480e-01 -5.4189e-01 -2.2199e-01  2.6480e-02\n",
      "  2.3021e-02 -5.3401e-01  2.5069e-01 -4.6099e-01  1.9681e-01 -7.0283e-01\n",
      "  3.9539e-01 -7.5595e-02 -1.3888e-02 -1.8859e-02  1.3111e-01 -3.5158e-01\n",
      "  2.9665e-01  3.5702e-01 -1.2394e-01 -4.2145e-01  2.6368e-01 -4.0416e-02\n",
      " -1.5447e-01 -1.5209e-01 -2.6122e+00 -1.2035e-01  1.2571e-01  2.1148e-01\n",
      "  3.0105e-01 -6.2968e-01 -2.0929e-01  1.9670e-01 -1.7817e-01 -1.9014e-01\n",
      " -8.5347e-02  5.1397e-01  5.4330e-01  3.8379e-02 -1.4296e-02 -3.5519e-01\n",
      "  2.6484e-01 -4.8992e-01  1.0029e-01 -1.2578e-02 -2.8873e-01 -1.8568e-01\n",
      " -3.6598e-01 -1.1325e-01 -4.4622e-02  1.3858e-01  5.2163e-01 -1.9414e-01\n",
      "  2.4428e-01  9.0429e-02  2.0232e-01 -3.9281e-01 -1.5133e-01 -2.9997e-01\n",
      " -5.3110e-01  2.4377e-01  4.8478e-02  6.4421e-02 -1.2659e-01 -2.8381e-01\n",
      "  2.5246e-01 -9.1307e-01 -3.9973e-01  4.8010e-02  1.6520e-01 -2.7328e-01\n",
      " -8.5077e-02  1.7747e-02  4.4367e-01 -3.7073e-01  5.8131e-02 -1.4354e-01\n",
      " -4.5516e-01 -4.8530e-01 -2.5860e-01  3.3500e-01 -1.1930e-02  3.2318e-01\n",
      "  4.9057e-01 -1.1132e-01 -4.1907e-01  2.9378e-01  6.7595e-02 -4.2553e-01\n",
      "  3.8379e-01  1.9934e-01 -1.3492e-01  2.2350e-01  8.5113e-01 -2.7616e-01\n",
      " -4.7012e-02  3.2509e-01 -2.2760e-01 -1.2080e-01 -2.0615e-01 -3.1556e-01\n",
      "  6.0760e-02 -2.4717e-01  1.0083e-01  2.1769e-01  1.7294e-01 -2.5910e-01\n",
      "  1.6860e-02 -2.6883e-01  9.5698e-02  4.9112e-03 -4.1221e-01  1.1609e-01\n",
      " -1.4164e-01 -2.6725e-02 -2.3784e-01 -1.5463e-01  3.3387e-01 -3.0163e-03\n",
      "  1.6741e-01  3.0749e-01  2.0412e-01 -3.6411e-01 -2.5471e-01 -7.9446e-03\n",
      " -3.8732e-02 -1.5794e-02 -3.6701e-01  1.6728e-01  1.6521e-01 -5.8311e-02\n",
      " -5.4580e-02 -3.0163e-01 -8.4269e-01  4.0701e-01 -1.0635e-03  3.5876e-01\n",
      " -5.0147e-02  2.7346e-01  3.6424e-01  7.5421e-01  1.2336e-01  4.6600e-02\n",
      " -1.2852e-01 -1.6011e-01 -3.7007e-01 -2.3430e-01 -5.1762e-03 -1.6918e-01\n",
      "  3.1135e-01  2.5814e-01 -4.5328e-01 -1.6358e-01 -5.4506e-01  4.2417e-01\n",
      "  1.8394e-01 -1.3642e-01  4.8238e-01 -1.7840e-01  5.3407e-02  3.3841e-01\n",
      " -7.6634e-02  8.9373e-01 -7.1969e-02  1.0900e+00  3.8777e-01  8.2860e-02\n",
      " -7.7111e-02 -6.2513e-01  6.1513e-03  2.6769e-01  6.0483e-01 -4.5988e-01\n",
      " -4.4601e-02  5.5852e-01  2.1350e-01  1.0475e-02 -8.8290e-01 -3.2374e-01\n",
      " -3.7131e-01  4.8692e-01  1.1826e-01 -6.0373e-01  6.1680e-01 -3.6204e-02]\n",
      "[ 0.012001   0.20751   -0.12578   -0.59325    0.12525    0.15975\n",
      "  0.13748   -0.33157   -0.13694    1.7893    -0.47094    0.70434\n",
      "  0.26673   -0.089961  -0.18168    0.067226   0.053347   1.5595\n",
      " -0.2541     0.038413  -0.01409    0.056774   0.023434   0.024042\n",
      "  0.31703    0.19025   -0.37505    0.035603   0.1181     0.012032\n",
      " -0.037566  -0.5046    -0.049261   0.092351   0.11031   -0.073062\n",
      "  0.33994    0.28239    0.13413    0.070128  -0.022099  -0.28103\n",
      "  0.49607   -0.48693   -0.090964  -0.1538    -0.38011   -0.014228\n",
      " -0.19392   -0.11068   -0.014088  -0.17906    0.24509   -0.16878\n",
      " -0.15351   -0.13808    0.02151    0.13699    0.0068061 -0.14915\n",
      " -0.38169    0.12727    0.44007    0.32678   -0.46117    0.068687\n",
      "  0.34747    0.18827   -0.31837    0.4447    -0.2095    -0.26987\n",
      "  0.48945    0.15388    0.05295   -0.049831   0.11207    0.14881\n",
      " -0.37003    0.30777   -0.33865    0.045149  -0.18987    0.26634\n",
      " -0.26401   -0.47556    0.68381   -0.30653    0.24606    0.31611\n",
      " -0.071098   0.030417   0.088119   0.045025   0.20125   -0.21618\n",
      " -0.36371   -0.25948   -0.42398   -0.14305   -0.10208    0.21498\n",
      " -0.21924   -0.17935    0.21546    0.13801    0.24504   -0.2559\n",
      "  0.054815   0.21307    0.2564    -0.25673    0.17961   -0.47638\n",
      " -0.25181   -0.0091498 -0.054362  -0.21007    0.12597   -0.40795\n",
      " -0.021164   0.20585    0.18925   -0.0051896 -0.51394    0.28862\n",
      " -0.077748  -0.27676    0.46567   -0.14225   -0.17879   -0.4357\n",
      " -0.32481    0.15034   -0.058367   0.49652    0.20472    0.019866\n",
      "  0.13326    0.12823   -1.0177     0.29007    0.28995    0.029994\n",
      " -0.10763    0.28665   -0.24387    0.22905   -0.26249   -0.069269\n",
      " -0.17889    0.21936    0.15146    0.04567   -0.050497   0.071482\n",
      " -0.1027    -0.080705   0.30296    0.031302   0.26613   -0.0060951\n",
      "  0.10313   -0.39987   -0.043945  -0.057625   0.08702   -0.098152\n",
      "  0.22835   -0.005211   0.038075   0.01591   -0.20622    0.021853\n",
      "  0.0040426 -0.043063  -0.002294  -0.26097   -0.25802   -0.28158\n",
      " -0.23118   -0.010404  -0.30102   -0.4042     0.014653  -0.10445\n",
      "  0.30377   -0.20957    0.3119     0.068272   0.1008     0.010423\n",
      "  0.54011    0.29865    0.12653    0.013761   0.21738   -0.39521\n",
      "  0.066633   0.50327    0.14913   -0.11554    0.010042   0.095698\n",
      "  0.16607   -0.18808    0.055019   0.026715  -0.3164    -0.046583\n",
      " -0.051591   0.023475  -0.11007    0.085642   0.28394    0.040497\n",
      "  0.071986   0.14157   -0.021199   0.44718    0.20088   -0.12964\n",
      " -0.067183   0.47614    0.13394   -0.17287   -0.37324   -0.17285\n",
      "  0.02683   -0.1316     0.09116   -0.46487    0.1274    -0.090159\n",
      " -0.10552    0.068006  -0.13381    0.17056    0.089509  -0.23133\n",
      " -0.27572    0.061534  -0.051646   0.28377    0.25286   -0.24139\n",
      " -0.19905    0.12049   -0.1011     0.27392    0.27843    0.26449\n",
      " -0.18292   -0.048961   0.19198    0.17192    0.33659   -0.20184\n",
      " -0.34305   -0.24553   -0.15399    0.3945     0.22839   -0.25753\n",
      " -0.25675   -0.37332   -0.23884   -0.048816   0.78323    0.18851\n",
      " -0.26477    0.096566   0.062658  -0.30668   -0.43334    0.10006\n",
      "  0.21136    0.039459  -0.11077    0.24421    0.60942   -0.46646\n",
      "  0.086385  -0.39702   -0.23363    0.021307  -0.10778   -0.2281\n",
      "  0.50803    0.11567    0.16165   -0.066737  -0.29556    0.022612\n",
      " -0.28135    0.0635     0.14019    0.13871   -0.36049   -0.035    ]\n"
     ]
    }
   ],
   "source": [
    "print(new_tokens.vector)\n",
    "for token in new_tokens:\n",
    "    print(token.vector)"
   ]
  },
  {
   "cell_type": "code",
   "execution_count": null,
   "metadata": {},
   "outputs": [],
   "source": [
    "print(len(new_tokens[1]))\n",
    "print(new_tokens[1])\n",
    "print(new_tokens[1].vector)\n",
    "print(new_tokens.vector)"
   ]
  },
  {
   "cell_type": "markdown",
   "metadata": {},
   "source": [
    "Tada!!! And here we finish again another lab session. This time meeting some word vectors."
   ]
  }
 ],
 "metadata": {
  "kernelspec": {
   "display_name": "Python 3",
   "language": "python",
   "name": "python3"
  },
  "language_info": {
   "codemirror_mode": {
    "name": "ipython",
    "version": 3
   },
   "file_extension": ".py",
   "mimetype": "text/x-python",
   "name": "python",
   "nbconvert_exporter": "python",
   "pygments_lexer": "ipython3",
   "version": "3.5.3"
  }
 },
 "nbformat": 4,
 "nbformat_minor": 2
}
