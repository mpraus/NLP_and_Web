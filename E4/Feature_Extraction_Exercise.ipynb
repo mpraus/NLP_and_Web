{
 "cells": [
  {
   "cell_type": "markdown",
   "metadata": {},
   "source": [
    "# Feature Extraction"
   ]
  },
  {
   "cell_type": "markdown",
   "metadata": {},
   "source": [
    "Until now, we have seen, how to tokenize a document, extract attributes from its tokens and even how to create a bag of words. In our second lab, we used the `CountVectorizer` from `scikit-learn` in order to create a matrix that counts words in a document. Do you remember how that works? \n",
    "\n",
    "The process of vectorizing a text is performed given the fact that most algorithms are not designed to handle raw text. Therefore, we need to represent each text document in a mathematical form, so that calculations can be done. There are several ways for vectorizing text, the easiest one is the bag of words approach, where we create a vocabulary with all the words in our document collection. The idea is to create a matrix to represent which words of my vocabulary are present in each document."
   ]
  },
  {
   "cell_type": "code",
   "execution_count": 1,
   "metadata": {},
   "outputs": [],
   "source": [
    "import pandas as pd\n",
    "import numpy as np\n",
    "from sklearn.feature_extraction.text import CountVectorizer, TfidfVectorizer\n",
    "from sklearn.model_selection import train_test_split\n",
    "from sklearn import svm\n",
    "from sklearn import naive_bayes"
   ]
  },
  {
   "cell_type": "markdown",
   "metadata": {},
   "source": [
    "**Question**\n",
    "Use the text provided below to create a bag of words using the `CountVectorizer` function as we did in a previous session. \n",
    "\n",
    "**Steps** \n",
    "Print your vocabulary and print the array form of your vectorizer"
   ]
  },
  {
   "cell_type": "code",
   "execution_count": 2,
   "metadata": {},
   "outputs": [],
   "source": [
    "docs = ['Elon Musk wants to build a Gigafactory.',\n",
    "        'UK is too risky after the Brexit for a Gigafactory',\n",
    "        'Tesla wants to build a Gigafactory in Berlin',\n",
    "        'Brexit has made it too risky for Tesla to put a Gigafactory in the UK.']"
   ]
  },
  {
   "cell_type": "code",
   "execution_count": 12,
   "metadata": {},
   "outputs": [
    {
     "name": "stdout",
     "output_type": "stream",
     "text": [
      "['after', 'berlin', 'brexit', 'build', 'elon', 'for', 'gigafactory', 'has', 'in', 'is', 'it', 'made', 'musk', 'put', 'risky', 'tesla', 'the', 'to', 'too', 'uk', 'wants']\n",
      "[[0 0 0 1 1 0 1 0 0 0 0 0 1 0 0 0 0 1 0 0 1]\n",
      " [1 0 1 0 0 1 1 0 0 1 0 0 0 0 1 0 1 0 1 1 0]\n",
      " [0 1 0 1 0 0 1 0 1 0 0 0 0 0 0 1 0 1 0 0 1]\n",
      " [0 0 1 0 0 1 1 1 1 0 1 1 0 1 1 1 1 1 1 1 0]]\n"
     ]
    }
   ],
   "source": [
    "vectorizer = CountVectorizer()\n",
    "bag_of_words = vectorizer.fit_transform(docs)\n",
    "print(vectorizer.get_feature_names())\n",
    "print(bag_of_words.toarray())"
   ]
  },
  {
   "cell_type": "markdown",
   "metadata": {},
   "source": [
    "However we also know that counting is not the only way of representing text with numbers. We can also penalize tokens that occurr very often. Why?\n",
    "\n",
    "Because in general, very frequent token sometimes are not as relevant as tokens that appear less often. For instance, if we want to retrieve documents that are relevant for a query: _The President Donald Trump_ , one idea would be to retrieve all document containing all the words in the query. However, since our search retrieved still many documents, we might want to count the times that query words appear in the selected documents. But, _the_ and _president_ , may still have many occurrences. Therefore, we should focus on documents that contain rather _donald trump_ . But how do we get there? Calculating term frequency–inverse document frequency (tf-idf)."
   ]
  },
  {
   "cell_type": "markdown",
   "metadata": {},
   "source": [
    "**Tf-Idf**: term frequency of a token, multiplied by the inverse document frequency (log[number of documents containing a token]).\n",
    "\n",
    "- Tf: Term frequency: $\\frac{freq(term)}{\\# terms \\in doc} $\n",
    "- Idf: Inverse document frequency: $\\log\\frac{|D|}{\\# d : term \\in doc}$\n",
    "\n",
    "Notice that we calculate the tf-idf for each term in each document. Let's calculate them for _Elon_ and _Gigafactory_ in the first document.\n",
    "\n",
    "**Examples:**\n",
    "- Tf-Idf(Elon) = $\\frac{1}{7}*\\log(\\frac{4}{1}) = 0.14*0.6  = 0.084$\n",
    "- Tf-Idf(Gigafactory) = $\\frac{1}{7}*\\log(\\frac{4}{4}) = 0 $"
   ]
  },
  {
   "cell_type": "markdown",
   "metadata": {},
   "source": [
    "**Question**\n",
    "Use the same data and the `TfidfVectorizer`, create a matrix and explore several attributes as input for the vectorizer. \n",
    "\n",
    "**Steps** \n",
    "Use the `?` to explore the function of the vectorizer and refer to [this link](https://scikit-learn.org/stable/modules/generated/sklearn.feature_extraction.text.TfidfVectorizer.html#sklearn.feature_extraction.text.TfidfVectorizer) for more options about the vectorizer. Increase the range of ngrams and observe the matrix. Can you see any difference?"
   ]
  },
  {
   "cell_type": "code",
   "execution_count": 13,
   "metadata": {},
   "outputs": [
    {
     "name": "stdout",
     "output_type": "stream",
     "text": [
      "['after', 'berlin', 'brexit', 'build', 'elon', 'for', 'gigafactory', 'has', 'in', 'is', 'it', 'made', 'musk', 'put', 'risky', 'tesla', 'the', 'to', 'too', 'uk', 'wants']\n",
      "[[0.         0.         0.         0.39806    0.50488863 0.\n",
      "  0.26347183 0.         0.         0.         0.         0.\n",
      "  0.50488863 0.         0.         0.         0.         0.32226387\n",
      "  0.         0.         0.39806   ]\n",
      " [0.40818453 0.         0.32181737 0.         0.         0.32181737\n",
      "  0.21300762 0.         0.         0.40818453 0.         0.\n",
      "  0.         0.         0.32181737 0.         0.32181737 0.\n",
      "  0.32181737 0.32181737 0.        ]\n",
      " [0.         0.48993129 0.         0.38626746 0.         0.\n",
      "  0.25566647 0.         0.38626746 0.         0.         0.\n",
      "  0.         0.         0.         0.38626746 0.         0.3127168\n",
      "  0.         0.         0.38626746]\n",
      " [0.         0.         0.25376616 0.         0.         0.25376616\n",
      "  0.16796522 0.3218702  0.25376616 0.         0.3218702  0.3218702\n",
      "  0.         0.3218702  0.25376616 0.25376616 0.25376616 0.20544558\n",
      "  0.25376616 0.25376616 0.        ]]\n"
     ]
    }
   ],
   "source": [
    "tf_vectorizer = TfidfVectorizer()\n",
    "tf_words = tf_vectorizer.fit_transform(docs)\n",
    "print(tf_vectorizer.get_feature_names())\n",
    "print(tf_words.toarray())"
   ]
  },
  {
   "cell_type": "markdown",
   "metadata": {},
   "source": [
    "Let's explore these vectorizers with real data. You probably remember our data of reviews on Yelp. Let's use it to compare both vectorizers."
   ]
  },
  {
   "cell_type": "code",
   "execution_count": 19,
   "metadata": {},
   "outputs": [
    {
     "data": {
      "text/html": [
       "<div>\n",
       "<style scoped>\n",
       "    .dataframe tbody tr th:only-of-type {\n",
       "        vertical-align: middle;\n",
       "    }\n",
       "\n",
       "    .dataframe tbody tr th {\n",
       "        vertical-align: top;\n",
       "    }\n",
       "\n",
       "    .dataframe thead th {\n",
       "        text-align: right;\n",
       "    }\n",
       "</style>\n",
       "<table border=\"1\" class=\"dataframe\">\n",
       "  <thead>\n",
       "    <tr style=\"text-align: right;\">\n",
       "      <th></th>\n",
       "      <th>0</th>\n",
       "      <th>1</th>\n",
       "    </tr>\n",
       "  </thead>\n",
       "  <tbody>\n",
       "    <tr>\n",
       "      <th>0</th>\n",
       "      <td>Wow... Loved this place.</td>\n",
       "      <td>1</td>\n",
       "    </tr>\n",
       "    <tr>\n",
       "      <th>1</th>\n",
       "      <td>Crust is not good.</td>\n",
       "      <td>0</td>\n",
       "    </tr>\n",
       "    <tr>\n",
       "      <th>2</th>\n",
       "      <td>Not tasty and the texture was just nasty.</td>\n",
       "      <td>0</td>\n",
       "    </tr>\n",
       "    <tr>\n",
       "      <th>3</th>\n",
       "      <td>Stopped by during the late May bank holiday of...</td>\n",
       "      <td>1</td>\n",
       "    </tr>\n",
       "    <tr>\n",
       "      <th>4</th>\n",
       "      <td>The selection on the menu was great and so wer...</td>\n",
       "      <td>1</td>\n",
       "    </tr>\n",
       "    <tr>\n",
       "      <th>...</th>\n",
       "      <td>...</td>\n",
       "      <td>...</td>\n",
       "    </tr>\n",
       "    <tr>\n",
       "      <th>995</th>\n",
       "      <td>I think food should have flavor and texture an...</td>\n",
       "      <td>0</td>\n",
       "    </tr>\n",
       "    <tr>\n",
       "      <th>996</th>\n",
       "      <td>Appetite instantly gone.</td>\n",
       "      <td>0</td>\n",
       "    </tr>\n",
       "    <tr>\n",
       "      <th>997</th>\n",
       "      <td>Overall I was not impressed and would not go b...</td>\n",
       "      <td>0</td>\n",
       "    </tr>\n",
       "    <tr>\n",
       "      <th>998</th>\n",
       "      <td>The whole experience was underwhelming, and I ...</td>\n",
       "      <td>0</td>\n",
       "    </tr>\n",
       "    <tr>\n",
       "      <th>999</th>\n",
       "      <td>Then, as if I hadn't wasted enough of my life ...</td>\n",
       "      <td>0</td>\n",
       "    </tr>\n",
       "  </tbody>\n",
       "</table>\n",
       "<p>1000 rows × 2 columns</p>\n",
       "</div>"
      ],
      "text/plain": [
       "                                                     0  1\n",
       "0                             Wow... Loved this place.  1\n",
       "1                                   Crust is not good.  0\n",
       "2            Not tasty and the texture was just nasty.  0\n",
       "3    Stopped by during the late May bank holiday of...  1\n",
       "4    The selection on the menu was great and so wer...  1\n",
       "..                                                 ... ..\n",
       "995  I think food should have flavor and texture an...  0\n",
       "996                           Appetite instantly gone.  0\n",
       "997  Overall I was not impressed and would not go b...  0\n",
       "998  The whole experience was underwhelming, and I ...  0\n",
       "999  Then, as if I hadn't wasted enough of my life ...  0\n",
       "\n",
       "[1000 rows x 2 columns]"
      ]
     },
     "metadata": {},
     "output_type": "display_data"
    },
    {
     "name": "stdout",
     "output_type": "stream",
     "text": [
      "['00', '10', '100', '11', '12', '15', '17', '1979', '20', '2007', '23', '30', '30s', '35', '40', '40min', '45', '4ths', '5lb', '70', '85', '90', '99', 'about', 'above', 'absolute', 'absolutely', 'absolutley', 'accident', 'accommodations', 'accomodate', 'accordingly', 'accountant', 'ache', 'acknowledged', 'across', 'actual', 'actually', 'added', 'affordable', 'after', 'afternoon', 'again', 'ago', 'ahead', 'airline', 'airport', 'ala', 'albondigas', 'all', 'allergy', 'almonds', 'almost', 'alone', 'also', 'although', 'always', 'am', 'amazing', 'ambiance', 'ambience', 'amount', 'ample', 'an', 'and', 'andddd', 'angry', 'annoying', 'another', 'anticipated', 'any', 'anymore', 'anyone', 'anything', 'anytime', 'anyway', 'anyways', 'apart', 'apologize', 'apology', 'app', 'appalling', 'apparently', 'appealing', 'appetite', 'appetizer', 'appetizers', 'apple', 'approval', 'are', 'area', 'aren', 'arepas', 'aria', 'around', 'array', 'arrived', 'arrives', 'arriving', 'article', 'as', 'ask', 'asked', 'asking', 'assure', 'at', 'ate', 'atmosphere', 'atrocious', 'attached', 'attack', 'attention', 'attentive', 'attitudes', 'auju', 'authentic', 'average', 'avocado', 'avoid', 'avoided', 'away', 'awesome', 'awful', 'awkward', 'awkwardly', 'ayce', 'az', 'baba', 'baby', 'bachi', 'back', 'bacon', 'bad', 'bagels', 'bakery', 'baklava', 'ball', 'bamboo', 'banana', 'bank', 'bar', 'bare', 'barely', 'bargain', 'bars', 'bartender', 'bartenders', 'baseball', 'based', 'basically', 'batch', 'bathroom', 'bathrooms', 'batter', 'bay', 'bbq', 'be', 'bean', 'beans', 'beat', 'beateous', 'beautiful', 'beautifully', 'beauty', 'because', 'become', 'beef', 'been', 'beer', 'beers', 'before', 'begin', 'behind', 'being', 'believe', 'bellagio', 'bellies', 'belly', 'below', 'besides', 'best', 'better', 'between', 'beyond', 'big', 'bigger', 'biggest', 'bill', 'binge', 'bird', 'biscuit', 'biscuits', 'bisque', 'bit', 'bitches', 'bite', 'bites', 'bits', 'black', 'blah', 'blame', 'bland', 'blandest', 'blanket', 'block', 'bloddy', 'bloodiest', 'bloody', 'blow', 'blown', 'blows', 'blue', 'boba', 'bodes', 'boiled', 'bone', 'book', 'boot', 'boring', 'both', 'bother', 'bottom', 'bouchon', 'bought', 'bowl', 'box', 'boxes', 'boy', 'boyfriend', 'boys', 'bread', 'break', 'breakfast', 'breaks', 'breeze', 'brick', 'bring', 'brings', 'brisket', 'brother', 'brought', 'brownish', 'brunch', 'bruschetta', 'brushfire', 'bucks', 'buffet', 'buffets', 'bug', 'building', 'buldogis', 'bunch', 'burger', 'burgers', 'burned', 'burrittos', 'bus', 'business', 'businesses', 'bussell', 'busy', 'but', 'butter', 'buying', 'by', 'bye', 'caballero', 'caesar', 'cafe', 'café', 'cake', 'cakes', 'calamari', 'call', 'calligraphy', 'callings', 'came', 'camelback', 'can', 'cannoli', 'cannot', 'cant', 'cape', 'capers', 'car', 'carbs', 'care', 'caring', 'carly', 'carpaccio', 'cart', 'cartel', 'case', 'cash', 'cashew', 'cashier', 'casino', 'caterpillar', 'caught', 'cause', 'cavier', 'certainly', 'chai', 'chains', 'changing', 'char', 'charcoal', 'charge', 'charged', 'charming', 'cheap', 'cheated', 'check', 'checked', 'cheek', 'cheese', 'cheeseburger', 'cheesecurds', 'chef', 'chefs', 'chewy', 'chicken', 'chickens', 'chinese', 'chip', 'chipolte', 'chipotle', 'chips', 'chocolate', 'choose', 'choux', 'chow', 'christmas', 'cibo', 'circumstances', 'claimed', 'class', 'classic', 'classics', 'classy', 'clean', 'climbing', 'close', 'closed', 'club', 'clue', 'cocktail', 'cocktails', 'coconut', 'cod', 'coffee', 'cold', 'colder', 'college', 'color', 'combination', 'combo', 'combos', 'come', 'comfortable', 'coming', 'common', 'companions', 'company', 'complain', 'complaints', 'complete', 'completely', 'compliments', 'con', 'concept', 'concern', 'conclusion', 'condiment', 'connisseur', 'connoisseur', 'consider', 'considering', 'consistent', 'constructed', 'contain', 'contained', 'containers', 'continue', 'convenient', 'cook', 'cooked', 'cooking', 'cool', 'corn', 'corporation', 'correct', 'correction', 'cost', 'costco', 'cotta', 'could', 'couldn', 'count', 'couple', 'couples', 'coupons', 'course', 'court', 'courteous', 'cover', 'covered', 'covers', 'cow', 'coziness', 'crab', 'cramming', 'cranberry', 'craving', 'crawfish', 'crazy', 'cream', 'creamy', 'crema', 'crepe', 'crisp', 'crispy', 'crostini', 'croutons', 'crowd', 'crowds', 'crumby', 'crust', 'crusty', 'crystals', 'crêpe', 'cuisine', 'curry', 'customer', 'customers', 'customize', 'cut', 'cute', 'daily', 'damn', 'dark', 'date', 'dates', 'daughter', 'day', 'dead', 'deal', 'dealing', 'decent', 'decide', 'decided', 'decision', 'decor', 'decorated', 'dedicated', 'deep', 'deeply', 'def', 'definately', 'definitely', 'degree', 'del', 'delicate', 'delicioso', 'delicious', 'deliciously', 'delight', 'delightful', 'delights', 'delish', 'deliver', 'delivery', 'denny', 'describing', 'descriptions', 'deserves', 'desired', 'despicable', 'despite', 'dessert', 'desserts', 'deuchebaggery', 'devine', 'did', 'didn', 'die', 'difference', 'different', 'dime', 'dine', 'dining', 'dinner', 'dinners', 'dipping', 'dirt', 'dirty', 'disagree', 'disappoint', 'disappointed', 'disappointing', 'disappointment', 'disapppointment', 'disaster', 'disbelief', 'discount', 'disgrace', 'disgraceful', 'disgust', 'disgusted', 'disgusting', 'dish', 'dishes', 'dispenser', 'disrespected', 'diverse', 'do', 'does', 'dog', 'doing', 'dollars', 'don', 'done', 'dont', 'donut', 'door', 'dos', 'double', 'doubt', 'douchey', 'dough', 'doughy', 'down', 'downright', 'downside', 'downtown', 'drag', 'drastically', 'drawing', 'dreamed', 'drenched', 'dressed', 'dressing', 'dried', 'driest', 'drink', 'drinking', 'drinks', 'dripping', 'drive', 'driving', 'dropped', 'drunk', 'dry', 'duck', 'dude', 'due', 'duo', 'during', 'dusted', 'dylan', 'each', 'easily', 'eat', 'eaten', 'eating', 'eclectic', 'edible', 'edinburgh', 'editing', 'eel', 'eew', 'efficient', 'effort', 'egg', 'eggplant', 'eggs', 'either', 'elegantly', 'elk', 'else', 'elsewhere', 'email', 'employee', 'employees', 'empty', 'end', 'ended', 'english', 'enjoy', 'enjoyable', 'enjoyed', 'enough', 'ensued', 'enthusiastic', 'entire', 'entrees', 'equally', 'especially', 'establishment', 'etc', 'ethic', 'eve', 'even', 'evening', 'event', 'events', 'ever', 'every', 'everyone', 'everything', 'everywhere', 'exactly', 'excalibur', 'exceeding', 'excellent', 'exceptional', 'excuse', 'expanded', 'expect', 'expectations', 'expected', 'expensive', 'experience', 'experienced', 'experiencing', 'expert', 'exquisite', 'extensive', 'extra', 'extraordinary', 'extremely', 'eyed', 'eyes', 'fabulous', 'fact', 'fail', 'fails', 'fair', 'fairly', 'falafels', 'falling', 'familiar', 'family', 'famous', 'fan', 'fancy', 'fantastic', 'far', 'fare', 'fast', 'fat', 'fav', 'favor', 'favorite', 'fear', 'feel', 'feeling', 'feels', 'fell', 'fella', 'fellow', 'felt', 'few', 'fiancé', 'figured', 'filet', 'fill', 'fillet', 'filling', 'final', 'finally', 'find', 'fine', 'finger', 'finish', 'fireball', 'firehouse', 'first', 'fish', 'five', 'flair', 'flat', 'flavor', 'flavored', 'flavorful', 'flavorless', 'flavors', 'flavourful', 'flirting', 'flop', 'flower', 'fluffy', 'fly', 'fo', 'focused', 'folks', 'fondue', 'food', 'foods', 'foot', 'for', 'forever', 'forgetting', 'forth', 'forty', 'forward', 'found', 'four', 'francisco', 'freaking', 'free', 'freezing', 'frenchman', 'fresh', 'fridays', 'fried', 'friend', 'friendly', 'friends', 'fries', 'from', 'front', 'frozen', 'fruit', 'frustrated', 'fry', 'fs', 'fucking', 'full', 'fun', 'funny', 'further', 'furthermore', 'fuzzy', 'ganoush', 'garden', 'garlic', 'gas', 'gave', 'gc', 'gem', 'generic', 'generous', 'genuinely', 'get', 'gets', 'getting', 'giant', 'girlfriend', 'give', 'given', 'giving', 'glad', 'glance', 'glass', 'gloves', 'gluten', 'go', 'goat', 'godfathers', 'going', 'gold', 'golden', 'gone', 'good', 'google', 'gooodd', 'gordon', 'got', 'gotten', 'gourmet', 'grab', 'grain', 'grandmother', 'gratitude', 'gratuity', 'grease', 'greasy', 'great', 'greatest', 'greedy', 'greek', 'green', 'greens', 'greeted', 'grill', 'grilled', 'gringos', 'gristle', 'grocery', 'gross', 'grossed', 'ground', 'group', 'groups', 'grow', 'guacamole', 'guess', 'guest', 'guests', 'guy', 'guys', 'gyro', 'gyros', 'ha', 'had', 'hadn', 'hair', 'half', 'halibut', 'hamburger', 'han', 'hand', 'handed', 'handled', 'handling', 'handmade', 'hands', 'hankering', 'happened', 'happier', 'happy', 'hard', 'hardest', 'hardly', 'has', 'hasn', 'hate', 'hated', 'haunt', 'have', 'haven', 'having', 'hawaiian', 'he', 'head', 'heads', 'healthy', 'heard', 'heart', 'hearts', 'heat', 'heimer', 'held', 'hell', 'hella', 'hello', 'help', 'helped', 'helpful', 'her', 'here', 'hereas', 'hi', 'high', 'highlight', 'highlighted', 'highlights', 'highly', 'hilarious', 'him', 'hip', 'hiro', 'his', 'hit', 'hits', 'hole', 'holiday', 'home', 'homemade', 'honeslty', 'honest', 'honestly', 'honor', 'hooked', 'hope', 'hopefully', 'hopes', 'hoping', 'horrible', 'hospitality', 'host', 'hostess', 'hot', 'hottest', 'hour', 'hours', 'house', 'how', 'however', 'huevos', 'huge', 'human', 'humiliated', 'hummus', 'hunan', 'hungry', 'hurry', 'husband', 'hut', 'ians', 'ice', 'iced', 'idea', 'if', 'ignore', 'ignored', 'im', 'imagination', 'imaginative', 'imagine', 'imagined', 'immediately', 'impeccable', 'impressed', 'impressive', 'in', 'inch', 'included', 'including', 'inconsiderate', 'incredible', 'incredibly', 'indian', 'indicate', 'indoor', 'industry', 'inexpensive', 'inflate', 'informative', 'ingredients', 'insanely', 'inside', 'inspired', 'instantly', 'instead', 'insulted', 'insults', 'interesting', 'interior', 'into', 'inviting', 'ironman', 'is', 'isn', 'it', 'italian', 'item', 'its', 'itself', 'jalapeno', 'jamaican', 'japanese', 'jeff', 'jenni', 'jerk', 'jewel', 'job', 'joey', 'join', 'joint', 'joke', 'joy', 'judge', 'judging', 'juice', 'juries', 'just', 'kabuki', 'kept', 'key', 'khao', 'kid', 'kiddos', 'kids', 'killer', 'kind', 'kitchen', 'know', 'known', 'lack', 'lacked', 'lacking', 'ladies', 'lady', 'large', 'largely', 'larger', 'las', 'last', 'lastly', 'late', 'later', 'latte', 'law', 'lawyers', 'least', 'leather', 'leave', 'leaves', 'left', 'leftover', 'legit', 'legs', 'lemon', 'less', 'let', 'letdown', 'letting', 'lettuce', 'level', 'life', 'light', 'lighter', 'lighting', 'lightly', 'like', 'liked', 'likes', 'liking', 'lil', 'limited', 'lined', 'list', 'listed', 'literally', 'little', 'live', 'lived', 'living', 'll', 'lobster', 'located', 'location', 'long', 'longer', 'look', 'looked', 'looking', 'looks', 'lordy', 'lost', 'lot', 'lots', 'loudly', 'love', 'loved', 'lovely', 'lover', 'lovers', 'loves', 'loving', 'low', 'lox', 'loyal', 'luck', 'luke', 'lukewarm', 'lunch', 'mac', 'macarons', 'made', 'madhouse', 'madison', 'magazine', 'magic', 'main', 'maine', 'mains', 'maintaining', 'make', 'making', 'mall', 'man', 'managed', 'management', 'manager', 'mandalay', 'mango', 'many', 'margaritas', 'maria', 'market', 'marrow', 'martini', 'mary', 'massive', 'may', 'maybe', 'mayo', 'me', 'meal', 'meals', 'mean', 'means', 'meat', 'meatballs', 'meatloaf', 'meats', 'mediocre', 'mediterranean', 'medium', 'meet', 'meh', 'mein', 'mellow', 'melt', 'melted', 'memory', 'mention', 'menu', 'menus', 'mesquite', 'mess', 'metro', 'mexican', 'mgm', 'mid', 'middle', 'might', 'mile', 'military', 'milk', 'milkshake', 'min', 'mind', 'minutes', 'mirage', 'miss', 'missed', 'missing', 'mistake', 'mixed', 'mmmm', 'modern', 'moist', 'mojitos', 'mom', 'money', 'monster', 'months', 'mood', 'moods', 'more', 'mortified', 'most', 'mostly', 'mouth', 'mouthful', 'mouths', 'movies', 'moz', 'mozzarella', 'much', 'muffin', 'multi', 'multiple', 'mushroom', 'mushrooms', 'music', 'mussels', 'must', 'my', 'myself', 'naan', 'nachos', 'name', 'nan', 'nargile', 'nasty', 'nay', 'nearly', 'neat', 'need', 'needed', 'needless', 'needs', 'negligent', 'neighborhood', 'neither', 'never', 'new', 'next', 'nice', 'nicest', 'night', 'nigiri', 'ninja', 'no', 'nobu', 'noca', 'non', 'none', 'noodles', 'north', 'not', 'note', 'nothing', 'now', 'nude', 'number', 'nut', 'nutshell', 'nyc', 'obviously', 'occasional', 'occasions', 'of', 'off', 'offered', 'offers', 'officially', 'oh', 'ohhh', 'oil', 'ok', 'old', 'older', 'olives', 'omelets', 'omg', 'on', 'once', 'one', 'ones', 'onion', 'only', 'opened', 'operation', 'opinion', 'opportunity', 'opposed', 'options', 'or', 'order', 'ordered', 'ordering', 'orders', 'original', 'other', 'others', 'otherwise', 'otto', 'our', 'ourselves', 'out', 'outdoor', 'outrageously', 'outshining', 'outside', 'outstanding', 'outta', 'oven', 'over', 'overall', 'overcooked', 'overhaul', 'overpriced', 'overwhelmed', 'owned', 'owner', 'owners', 'oysters', 'pace', 'pack', 'packed', 'paid', 'palate', 'pale', 'palm', 'pan', 'pancake', 'pancakes', 'panna', 'paper', 'papers', 'par', 'paradise', 'parents', 'part', 'particular', 'parties', 'party', 'passed', 'past', 'pasta', 'pastas', 'pastry', 'patio', 'patron', 'pats', 'patty', 'pay', 'paying', 'peach', 'peanut', 'peanuts', 'pears', 'peas', 'pecan', 'penne', 'people', 'pepper', 'perfect', 'perfection', 'perfectly', 'performed', 'perhaps', 'perpared', 'person', 'personable', 'personally', 'petrified', 'petty', 'phenomenal', 'philadelphia', 'pho', 'phoenix', 'piano', 'picture', 'pictures', 'piece', 'pile', 'pine', 'pineapple', 'pink', 'pissd', 'pita', 'pizza', 'pizzas', 'place', 'placed', 'places', 'plain', 'plantains', 'plastic', 'plate', 'plater', 'platter', 'play', 'playing', 'pleasant', 'please', 'pleased', 'pleasure', 'plethora', 'plus', 'pneumatic', 'point', 'poisoning', 'polite', 'poop', 'poor', 'poorly', 'pop', 'pork', 'portion', 'portions', 'positive', 'possible', 'postinos', 'potato', 'potatoes', 'poured', 'powdered', 'power', 'prefer', 'prepare', 'prepared', 'preparing', 'presentation', 'pretty', 'price', 'priced', 'prices', 'pricey', 'pricing', 'prime', 'privileged', 'probably', 'problem', 'proclaimed', 'professional', 'profiterole', 'profound', 'promise', 'prompt', 'promptly', 'properly', 'pros', 'proven', 'provided', 'provides', 'providing', 'pub', 'public', 'publicly', 'pucks', 'pulled', 'pumpkin', 'puree', 'puréed', 'put', 'putting', 'quaint', 'qualified', 'quality', 'quantity', 'quick', 'quickly', 'quit', 'quite', 'ramsey', 'ranch', 'rancheros', 'rapidly', 'rare', 'rarely', 'raspberry', 'rate', 'rated', 'rather', 'rating', 'ratio', 'rave', 'raving', 'ravoli', 're', 'read', 'readers', 'reading', 'real', 'realized', 'really', 'reason', 'reasonable', 'reasonably', 'reasons', 'recall', 'received', 'receives', 'recent', 'recently', 'recommend', 'recommendation', 'recommended', 'recommending', 'red', 'redeeming', 'reduction', 'refill', 'refrained', 'refreshing', 'refried', 'refused', 'register', 'regular', 'regularly', 'reheated', 'relationship', 'relax', 'relaxed', 'relleno', 'relocated', 'remember', 'reminded', 'reminds', 'replenished', 'requested', 'reservation', 'rest', 'restaraunt', 'restaurant', 'restaurants', 'return', 'returned', 'returning', 'review', 'reviewer', 'reviewing', 'reviews', 'revisiting', 'rge', 'ri', 'rib', 'ribeye', 'rice', 'rich', 'rick', 'ridiculous', 'right', 'rings', 'rinse', 'ripped', 'risotto', 'roast', 'roasted', 'rock', 'roll', 'rolled', 'rolls', 'room', 'rotating', 'round', 'rowdy', 'rubber', 'rude', 'rudely', 'running', 'rushed', 'ryan', 'sad', 'sadly', 'saffron', 'saganaki', 'said', 'salad', 'salads', 'salmon', 'sals', 'salsa', 'salt', 'salty', 'same', 'sample', 'san', 'sandwich', 'sandwiches', 'sangria', 'sashimi', 'sat', 'satifying', 'satisfied', 'satisfying', 'sauce', 'sauces', 'sause', 'saving', 'say', 'saying', 'says', 'scallop', 'scene', 'scottsdale', 'screams', 'screwed', 'seafood', 'seal', 'seasonal', 'seasoned', 'seasoning', 'seat', 'seated', 'seating', 'second', 'section', 'see', 'seemed', 'seems', 'seen', 'selection', 'selections', 'self', 'send', 'sense', 'sergeant', 'seriously', 'serivce', 'serve', 'served', 'server', 'servers', 'serves', 'service', 'services', 'serving', 'set', 'setting', 'sever', 'several', 'sewer', 'sexy', 'shall', 'sharply', 'shawarrrrrrma', 'she', 'shirt', 'shocked', 'shoe', 'shoots', 'shop', 'shopping', 'shops', 'short', 'shots', 'should', 'shouldn', 'show', 'showed', 'shower', 'shrimp', 'sick', 'side', 'sides', 'sign', 'signs', 'silently', 'similar', 'similarly', 'simple', 'simply', 'since', 'single', 'sit', 'sitting', 'six', 'skimp', 'slaw', 'sliced', 'slices', 'slow', 'small', 'smaller', 'smashburger', 'smeared', 'smelled', 'smells', 'smoke', 'smooth', 'smoothies', 'so', 'soggy', 'soi', 'solid', 'solidify', 'some', 'somehow', 'someone', 'somethat', 'something', 'somewhat', 'son', 'songs', 'soon', 'soooo', 'sooooo', 'soooooo', 'sore', 'sorely', 'sorry', 'sound', 'soundtrack', 'soup', 'soups', 'sour', 'southwest', 'space', 'spaghetti', 'special', 'specials', 'speedy', 'spend', 'spends', 'spice', 'spices', 'spicier', 'spicy', 'spinach', 'sporting', 'spot', 'spots', 'spotty', 'spring', 'sprouts', 'staff', 'stale', 'standard', 'star', 'stars', 'started', 'starving', 'station', 'stay', 'stayed', 'staying', 'steak', 'steakhouse', 'steaks', 'steiners', 'step', 'stepped', 'steve', 'sticks', 'still', 'stinks', 'stir', 'stomach', 'stood', 'stop', 'stopped', 'store', 'strange', 'strangers', 'strawberry', 'street', 'stretch', 'strike', 'strings', 'strip', 'struck', 'struggle', 'stuff', 'stuffed', 'stupid', 'style', 'styrofoam', 'sub', 'subpar', 'subway', 'succulent', 'such', 'suck', 'sucked', 'sucker', 'sucks', 'suffers', 'sugar', 'sugary', 'suggest', 'suggestions', 'summarize', 'summary', 'summer', 'sun', 'sunday', 'sunglasses', 'super', 'supposed', 'sure', 'surprise', 'surprised', 'sushi', 'sweet', 'swung', 'table', 'tables', 'taco', 'tacos', 'tailored', 'take', 'takeout', 'talk', 'talking', 'tap', 'tapas', 'tartar', 'tartare', 'taste', 'tasted', 'tasteless', 'tastings', 'tasty', 'tater', 'tea', 'teamwork', 'teeth', 'tell', 'temp', 'ten', 'tender', 'tenders', 'tepid', 'terrible', 'terrific', 'texture', 'thai', 'than', 'thanks', 'that', 'thats', 'the', 'theft', 'their', 'them', 'themselves', 'then', 'there', 'these', 'they', 'thick', 'thin', 'thing', 'things', 'think', 'thinking', 'thinly', 'third', 'thirty', 'this', 'thoroughly', 'those', 'though', 'thought', 'three', 'thrilled', 'thru', 'thumbs', 'thus', 'tigerlilly', 'time', 'times', 'tiny', 'tip', 'tiramisu', 'to', 'toast', 'toasted', 'today', 'together', 'told', 'tolerance', 'tomato', 'tongue', 'tonight', 'too', 'took', 'top', 'topic', 'tops', 'toro', 'total', 'totally', 'tots', 'touch', 'touched', 'tough', 'towards', 'town', 'tracked', 'traditional', 'tragedy', 'transcendant', 'trap', 'treat', 'treated', 'tribute', 'tried', 'trimmed', 'trip', 'trippy', 'trips', 'truffle', 'truly', 'try', 'trying', 'tucson', 'tummy', 'tuna', 'turkey', 'turn', 'tv', 'twice', 'two', 'typical', 'unbelievable', 'unbelievably', 'under', 'undercooked', 'understand', 'underwhelming', 'unexperienced', 'unfortunately', 'unhealthy', 'uninspired', 'unique', 'unless', 'unprofessional', 'unreal', 'unsatisfying', 'until', 'untoasted', 'unwelcome', 'unwrapped', 'up', 'update', 'upgrading', 'uploaded', 'us', 'use', 'used', 'usual', 'vacant', 'vain', 'valley', 'value', 'vanilla', 've', 'veal', 'vegan', 'vegas', 'vegetables', 'vegetarian', 'veggie', 'veggitarian', 'velvet', 'ventilation', 'venture', 'venturing', 'venue', 'verge', 'version', 'very', 'via', 'vibe', 'vinaigrette', 'vinegrette', 'violinists', 'visit', 'visited', 'vodka', 'vomited', 'voodoo', 'voted', 'waaaaaayyyyyyyyyy', 'wagyu', 'wait', 'waited', 'waiter', 'waiting', 'waitress', 'waitresses', 'walked', 'wall', 'walls', 'want', 'wanted', 'wants', 'warm', 'warmer', 'warnings', 'was', 'wash', 'wasn', 'waste', 'wasted', 'wasting', 'watch', 'watched', 'water', 'watered', 'wave', 'way', 'ways', 'wayyy', 'we', 'weak', 'website', 'wedges', 'week', 'weekend', 'weekly', 'weird', 'welcome', 'well', 'went', 'were', 'weren', 'what', 'whatsoever', 'whelm', 'when', 'whenever', 'where', 'whether', 'which', 'while', 'white', 'who', 'whole', 'why', 'wide', 'wienerschnitzel', 'wife', 'wildly', 'will', 'wine', 'wines', 'wings', 'winner', 'wire', 'wish', 'with', 'without', 'witnessed', 'won', 'wonderful', 'wontons', 'word', 'words', 'work', 'worker', 'workers', 'working', 'works', 'world', 'worries', 'worse', 'worst', 'worth', 'would', 'wouldn', 'wound', 'wow', 'wrap', 'wrapped', 'writing', 'wrong', 'ya', 'yama', 'yay', 'yeah', 'year', 'years', 'yellow', 'yellowtail', 'yelpers', 'yet', 'you', 'your', 'yourself', 'yucky', 'yukon', 'yum', 'yummy', 'zero']\n",
      "[[0 0 0 ... 0 0 0]\n",
      " [0 0 0 ... 0 0 0]\n",
      " [0 0 0 ... 0 0 0]\n",
      " ...\n",
      " [0 0 0 ... 0 0 0]\n",
      " [0 0 0 ... 0 0 0]\n",
      " [0 0 0 ... 0 0 0]]\n"
     ]
    }
   ],
   "source": [
    "data = pd.read_csv(\"yelp_polarity.txt\", sep=\"\\t\", header=None)\n",
    "display(data)\n",
    "\n",
    "bag_of_words_doc = vectorizer.fit_transform(data[0])\n",
    "print(vectorizer.get_feature_names())\n",
    "print(bag_of_words_doc.toarray())"
   ]
  },
  {
   "cell_type": "markdown",
   "metadata": {},
   "source": [
    "### Training a classifier\n",
    "\n",
    "In order to train any model, you need to split your data. The reason for this is that you want to test the performance of your classifier at the end. And this can't be done on the same data you train. Therefore, you need to keep a small set of data that you never use until you test. Let's create our train and test sets:"
   ]
  },
  {
   "cell_type": "code",
   "execution_count": 21,
   "metadata": {},
   "outputs": [],
   "source": [
    "text_train, text_test, label_train, label_test = train_test_split(data[0], data[1], \n",
    "                                                                  test_size=0.20, \n",
    "                                                                  random_state=1234, shuffle=True)"
   ]
  },
  {
   "cell_type": "markdown",
   "metadata": {},
   "source": [
    "**Question**\n",
    "Use only the train set to generate again a feature matrix using the `CountVectorizer`. This one will be used to train our classifier\n",
    "\n",
    "**Hint:** Please notice that you need to instantiate again a new vectorizer."
   ]
  },
  {
   "cell_type": "code",
   "execution_count": 23,
   "metadata": {},
   "outputs": [
    {
     "name": "stdout",
     "output_type": "stream",
     "text": [
      "[[0 0 0 ... 0 0 0]\n",
      " [0 0 0 ... 0 0 0]\n",
      " [0 0 0 ... 0 0 0]\n",
      " ...\n",
      " [0 0 0 ... 0 0 0]\n",
      " [0 0 0 ... 0 1 0]\n",
      " [0 0 0 ... 0 1 0]]\n"
     ]
    }
   ],
   "source": [
    "# Here comes your answer\n",
    "vectorizer_data = CountVectorizer()\n",
    "matrix = vectorizer_data.fit_transform(text_train)\n",
    "print(matrix.toarray())"
   ]
  },
  {
   "cell_type": "markdown",
   "metadata": {},
   "source": [
    "Yay!!! Finally we're ready to train our first model. In order to do so, we need to input the train features and their labels. In this case we will use a support vector machine (svm). If you haven't heard anything about SVMs yet, don't worry, this won't be difficult, we will use the one provided by sklearn so you don't have to implement it by yourself. They treat each documents as a vector. \n",
    "\n",
    "Imagine all your documents are sample point in a scatter plot. The job of SVMs is to draw a line (hyperplane) in the middle of two classes so that the hyperplane is the widest gap between both of them. "
   ]
  },
  {
   "cell_type": "markdown",
   "metadata": {},
   "source": [
    "Let's instantiate our classifier"
   ]
  },
  {
   "cell_type": "code",
   "execution_count": null,
   "metadata": {},
   "outputs": [],
   "source": [
    "classifier = svm.LinearSVC()"
   ]
  },
  {
   "cell_type": "markdown",
   "metadata": {},
   "source": [
    "Now it's time to train..."
   ]
  },
  {
   "cell_type": "code",
   "execution_count": null,
   "metadata": {
    "scrolled": true
   },
   "outputs": [],
   "source": [
    "classifier.fit(polarity_bow_matrix, label_train)"
   ]
  },
  {
   "cell_type": "markdown",
   "metadata": {},
   "source": [
    "And after training we can test... But first, we need to convert our test data into numerical features. Now is your turn to test"
   ]
  },
  {
   "cell_type": "markdown",
   "metadata": {},
   "source": [
    "**Question**\n",
    "Vectorize your test set, in the same way we did with the train data. After vectorizing use the method `predict()` and put your test_matrix in the parentesis. This method returns a class prediction for each document in the matrix. \n",
    "\n",
    "Use NumPy to compare the original labels with the ones predicted by our model.\n",
    "\n",
    "**Hint:** Check np.sum and np.equal"
   ]
  },
  {
   "cell_type": "code",
   "execution_count": null,
   "metadata": {},
   "outputs": [],
   "source": [
    "# Here comes your answer"
   ]
  },
  {
   "cell_type": "markdown",
   "metadata": {},
   "source": [
    "## Using word vectors from spaCy"
   ]
  },
  {
   "cell_type": "markdown",
   "metadata": {},
   "source": [
    "spaCy offers pretrained vectors for each token. They come inside the models that we load. However, the small model doesn't include vectors. Let's look at what happen..."
   ]
  },
  {
   "cell_type": "code",
   "execution_count": null,
   "metadata": {},
   "outputs": [],
   "source": [
    "import spacy\n",
    "\n",
    "from spacy.lang.en import English\n",
    "nlp = English()\n",
    "\n",
    "nlp = spacy.load('en_core_web_sm')"
   ]
  },
  {
   "cell_type": "code",
   "execution_count": null,
   "metadata": {},
   "outputs": [],
   "source": [
    "raw = \"We didn't want to eat.\"\n",
    "\n",
    "tokens = nlp(raw)\n",
    "for token in tokens:\n",
    "    print(token.text, token.has_vector, token.vector_norm, token.is_oov) # oov = Out of Vocabulary"
   ]
  },
  {
   "cell_type": "code",
   "execution_count": null,
   "metadata": {},
   "outputs": [],
   "source": [
    "for token1 in tokens:\n",
    "    for token2 in tokens:\n",
    "        print(token1.text, token2.text, token1.similarity(token2))"
   ]
  },
  {
   "cell_type": "markdown",
   "metadata": {},
   "source": [
    "**Question**\n",
    "Download `en_core_web_md`, which is the medium model for English and try to test the token similarity again.\n",
    "\n",
    "**Hint**\n",
    "Call your object different from nlp, so that you can compare without overwriting the nlp object (maybe nlp_medium is a good idea :)). We call these tokens `new_tokens`."
   ]
  },
  {
   "cell_type": "code",
   "execution_count": null,
   "metadata": {},
   "outputs": [],
   "source": [
    "# Here comes your answer\n",
    "# nlp_medium =\n",
    "# new_tokens ="
   ]
  },
  {
   "cell_type": "code",
   "execution_count": null,
   "metadata": {},
   "outputs": [],
   "source": [
    "new_tokens.vector.shape"
   ]
  },
  {
   "cell_type": "code",
   "execution_count": null,
   "metadata": {},
   "outputs": [],
   "source": [
    "print(new_tokens[0].vector)"
   ]
  },
  {
   "cell_type": "markdown",
   "metadata": {},
   "source": [
    "Tada!!! And here we finish again another lab session. This time meeting some word vectors."
   ]
  }
 ],
 "metadata": {
  "kernelspec": {
   "display_name": "Python 3",
   "language": "python",
   "name": "python3"
  },
  "language_info": {
   "codemirror_mode": {
    "name": "ipython",
    "version": 3
   },
   "file_extension": ".py",
   "mimetype": "text/x-python",
   "name": "python",
   "nbconvert_exporter": "python",
   "pygments_lexer": "ipython3",
   "version": "3.5.3"
  }
 },
 "nbformat": 4,
 "nbformat_minor": 2
}
