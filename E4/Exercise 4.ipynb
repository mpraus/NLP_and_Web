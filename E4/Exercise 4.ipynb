{
 "cells": [
  {
   "cell_type": "markdown",
   "metadata": {},
   "source": [
    "# Exercise 4\n",
    "\n",
    "## Task 1\n",
    "\n",
    "Using the files in _rural.txt_ and _science.txt_ , train and test classifiers provided in scikit-learn. The goal of this task is that you explore different features, not only in the classifier, but also in the vectorizer:\n",
    "\n",
    "a) Each file (rural and science) contains senetnce-wise documents. Your job is to create a list of documents and their corresponding label (rural, science). This data structure (up to you which one you want to use) will be used later as input for your vectorizer. E.g. you can think about it as a table, which contains in the first column the sentences of both files and in the second column each class label."
   ]
  },
  {
   "cell_type": "code",
   "execution_count": null,
   "metadata": {},
   "outputs": [],
   "source": []
  },
  {
   "cell_type": "markdown",
   "metadata": {},
   "source": [
    "b) Split the data into train (70%) and test (30%) sets and use the _tf-idf-vectorizer_ provided by scikit-learn and explained in class to train following calssifiers provided also by scikit-learn: _naive_bayes.GaussianNB()_ and _svm.LinearSVC()_ . __Hint:__ Please notice that the Gaussian NB Classifier takes a dense matrix as input and the output of the vectorizer is a sparse matrix. Use *my_matrix.__toarray()__* for this conversion."
   ]
  },
  {
   "cell_type": "code",
   "execution_count": null,
   "metadata": {},
   "outputs": [],
   "source": []
  },
  {
   "cell_type": "markdown",
   "metadata": {},
   "source": [
    "c) Evaluate both classifiers using only the test set, reort accuracy, recall, percision, and f-measure and explain differences in the performance if any."
   ]
  },
  {
   "cell_type": "code",
   "execution_count": null,
   "metadata": {},
   "outputs": [],
   "source": []
  },
  {
   "cell_type": "markdown",
   "metadata": {},
   "source": [
    "## Task 2\n",
    "\n",
    "Using the same splits from __Task 1__:\n",
    "\n",
    "a) Use spaCy to extract vector representations of each document (sentence) in your data."
   ]
  },
  {
   "cell_type": "code",
   "execution_count": null,
   "metadata": {},
   "outputs": [],
   "source": []
  },
  {
   "cell_type": "markdown",
   "metadata": {},
   "source": [
    "b) Train again new instances of both classifiers but this time the input should be only the vector representations obtained from spaCy and the labels."
   ]
  },
  {
   "cell_type": "code",
   "execution_count": null,
   "metadata": {},
   "outputs": [],
   "source": []
  },
  {
   "cell_type": "markdown",
   "metadata": {},
   "source": [
    "c) Report accuracy, recall, precision, and f-measure and explain differences to the results of __tf-idf__."
   ]
  },
  {
   "cell_type": "code",
   "execution_count": null,
   "metadata": {},
   "outputs": [],
   "source": []
  }
 ],
 "metadata": {
  "kernelspec": {
   "display_name": "Python 3",
   "language": "python",
   "name": "python3"
  },
  "language_info": {
   "codemirror_mode": {
    "name": "ipython",
    "version": 3
   },
   "file_extension": ".py",
   "mimetype": "text/x-python",
   "name": "python",
   "nbconvert_exporter": "python",
   "pygments_lexer": "ipython3",
   "version": "3.7.4"
  }
 },
 "nbformat": 4,
 "nbformat_minor": 2
}
