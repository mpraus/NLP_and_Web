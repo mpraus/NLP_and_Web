{
 "cells": [
  {
   "cell_type": "markdown",
   "metadata": {},
   "source": [
    "# Exercise 5\n",
    "\n",
    "Using the files *transition_probabilities.csv* and *ovservation_likelihoods.csv*, compute the likelihood of POS tags for the following word sequence:\n",
    "\n",
    "    I want to race\n",
    "\n",
    "## Task 1\n",
    "\n",
    "Load the given files and:\n",
    "\n",
    "a) Write a function to calculate all possible tag sequences for the given word sentence."
   ]
  },
  {
   "cell_type": "code",
   "execution_count": 35,
   "metadata": {},
   "outputs": [
    {
     "data": {
      "text/html": [
       "<div>\n",
       "<style scoped>\n",
       "    .dataframe tbody tr th:only-of-type {\n",
       "        vertical-align: middle;\n",
       "    }\n",
       "\n",
       "    .dataframe tbody tr th {\n",
       "        vertical-align: top;\n",
       "    }\n",
       "\n",
       "    .dataframe thead th {\n",
       "        text-align: right;\n",
       "    }\n",
       "</style>\n",
       "<table border=\"1\" class=\"dataframe\">\n",
       "  <thead>\n",
       "    <tr style=\"text-align: right;\">\n",
       "      <th></th>\n",
       "      <th>VB</th>\n",
       "      <th>TO</th>\n",
       "      <th>NN</th>\n",
       "      <th>PPSS</th>\n",
       "    </tr>\n",
       "  </thead>\n",
       "  <tbody>\n",
       "    <tr>\n",
       "      <th>&lt;s&gt;</th>\n",
       "      <td>0.0190</td>\n",
       "      <td>0.00430</td>\n",
       "      <td>0.04100</td>\n",
       "      <td>0.06700</td>\n",
       "    </tr>\n",
       "    <tr>\n",
       "      <th>VB</th>\n",
       "      <td>0.0038</td>\n",
       "      <td>0.03500</td>\n",
       "      <td>0.04700</td>\n",
       "      <td>0.00700</td>\n",
       "    </tr>\n",
       "    <tr>\n",
       "      <th>TO</th>\n",
       "      <td>0.8300</td>\n",
       "      <td>0.00000</td>\n",
       "      <td>0.00047</td>\n",
       "      <td>0.00000</td>\n",
       "    </tr>\n",
       "    <tr>\n",
       "      <th>NN</th>\n",
       "      <td>0.0040</td>\n",
       "      <td>0.01600</td>\n",
       "      <td>0.08700</td>\n",
       "      <td>0.00450</td>\n",
       "    </tr>\n",
       "    <tr>\n",
       "      <th>PPSS</th>\n",
       "      <td>0.2300</td>\n",
       "      <td>0.00079</td>\n",
       "      <td>0.00120</td>\n",
       "      <td>0.00014</td>\n",
       "    </tr>\n",
       "  </tbody>\n",
       "</table>\n",
       "</div>"
      ],
      "text/plain": [
       "          VB       TO       NN     PPSS\n",
       "<s>   0.0190  0.00430  0.04100  0.06700\n",
       "VB    0.0038  0.03500  0.04700  0.00700\n",
       "TO    0.8300  0.00000  0.00047  0.00000\n",
       "NN    0.0040  0.01600  0.08700  0.00450\n",
       "PPSS  0.2300  0.00079  0.00120  0.00014"
      ]
     },
     "metadata": {},
     "output_type": "display_data"
    },
    {
     "data": {
      "text/html": [
       "<div>\n",
       "<style scoped>\n",
       "    .dataframe tbody tr th:only-of-type {\n",
       "        vertical-align: middle;\n",
       "    }\n",
       "\n",
       "    .dataframe tbody tr th {\n",
       "        vertical-align: top;\n",
       "    }\n",
       "\n",
       "    .dataframe thead th {\n",
       "        text-align: right;\n",
       "    }\n",
       "</style>\n",
       "<table border=\"1\" class=\"dataframe\">\n",
       "  <thead>\n",
       "    <tr style=\"text-align: right;\">\n",
       "      <th></th>\n",
       "      <th>I</th>\n",
       "      <th>want</th>\n",
       "      <th>to</th>\n",
       "      <th>race</th>\n",
       "    </tr>\n",
       "  </thead>\n",
       "  <tbody>\n",
       "    <tr>\n",
       "      <th>VB</th>\n",
       "      <td>0.00</td>\n",
       "      <td>0.009300</td>\n",
       "      <td>0.00</td>\n",
       "      <td>0.00012</td>\n",
       "    </tr>\n",
       "    <tr>\n",
       "      <th>TO</th>\n",
       "      <td>0.00</td>\n",
       "      <td>0.000000</td>\n",
       "      <td>0.99</td>\n",
       "      <td>0.00000</td>\n",
       "    </tr>\n",
       "    <tr>\n",
       "      <th>NN</th>\n",
       "      <td>0.00</td>\n",
       "      <td>0.000054</td>\n",
       "      <td>0.00</td>\n",
       "      <td>0.00057</td>\n",
       "    </tr>\n",
       "    <tr>\n",
       "      <th>PPSS</th>\n",
       "      <td>0.37</td>\n",
       "      <td>0.000000</td>\n",
       "      <td>0.00</td>\n",
       "      <td>0.00000</td>\n",
       "    </tr>\n",
       "  </tbody>\n",
       "</table>\n",
       "</div>"
      ],
      "text/plain": [
       "         I      want    to     race\n",
       "VB    0.00  0.009300  0.00  0.00012\n",
       "TO    0.00  0.000000  0.99  0.00000\n",
       "NN    0.00  0.000054  0.00  0.00057\n",
       "PPSS  0.37  0.000000  0.00  0.00000"
      ]
     },
     "metadata": {},
     "output_type": "display_data"
    },
    {
     "name": "stdout",
     "output_type": "stream",
     "text": [
      "256\n"
     ]
    }
   ],
   "source": [
    "import pandas as pd\n",
    "import itertools\n",
    "import operator\n",
    "\n",
    "df_obs = pd.read_csv(\"observation_likelihoods.csv\", \",\", index_col=0)\n",
    "df_obs = df_obs.rename(columns=lambda x : x.strip())\n",
    "\n",
    "df_trans = pd.read_csv(\"transisition_probabilities.csv\", \",\", index_col=0)\n",
    "df_trans = df_trans.rename(columns=lambda x : x.strip())\n",
    "sentence = \"I want to race\"\n",
    "display(df_trans)\n",
    "display(df_obs)\n",
    "def possible_tag_seq(probability_df_obs, sentence):\n",
    "    return list(itertools.product(list(probability_df_obs.index), repeat=len(sentence.split())))\n",
    "\n",
    "sequences = possible_tag_seq(df_obs, sentence)\n",
    "print(len(sequences))"
   ]
  },
  {
   "cell_type": "markdown",
   "metadata": {},
   "source": [
    "b) Write a function to select the most probable tag sequence."
   ]
  },
  {
   "cell_type": "code",
   "execution_count": 37,
   "metadata": {},
   "outputs": [
    {
     "name": "stdout",
     "output_type": "stream",
     "text": [
      "(('PPSS', 'VB', 'TO', 'VB'), 1.8299949392339997e-10)\n"
     ]
    }
   ],
   "source": [
    "def most_prob(observation, transition, sequences, sentence):\n",
    "    dic = {}\n",
    "    tokens = sentence.split()  \n",
    "    for sequence in sequences:\n",
    "        val = 1\n",
    "        for i in range(0, len(sequence)):\n",
    "            if i == 0:\n",
    "                val = val * observation.at[sequence[i], tokens[i]] * transition.at['<s>', sequence[i]]\n",
    "            else:\n",
    "                val = val * observation.at[sequence[i], tokens[i]] * transition.at[sequence[i-1], sequence[i]]\n",
    "        dic[sequence] = val\n",
    "    return max(dic.items(), key=operator.itemgetter(1))\n",
    "\n",
    "print(most_prob(df_obs, df_trans, sequences, sentence))"
   ]
  },
  {
   "cell_type": "markdown",
   "metadata": {},
   "source": [
    "c) Discuss your solution."
   ]
  },
  {
   "cell_type": "markdown",
   "metadata": {},
   "source": [
    "The function possible_tag_seq recieves a sentence and a data farme with all possible tags and their probabilities. As the probabilites are not relevant for the task, the function calculates the number of tokens in the sentence by using the split funciton and counting (this only works if the resulting tokens match those of the file). The function then takes all possible POS-Tag  retrieved from the DataFrame and using Itertools calcualtes all possible permutaitons of these POS-Tags with a length equal to the number of tokens by calculating the Cartesian Product.\n",
    "\n",
    "The function most_prob recieves two DataFrames, one cotaining the observation probabilites and the other containing the transformation possilities, as well as a list of all possible POS-Tag sequences and the given sentence. Using this information, the function iterates over all sequences in the passed list and calculates the probability of each on and saves it in a dicitonary. The probablity is calculated by multiplying the observation probabilites of the word with the transformation porbabilities. The function then returns the element in the dicitonary with the highes probability."
   ]
  },
  {
   "cell_type": "markdown",
   "metadata": {},
   "source": [
    "## Task 2\n",
    "\n",
    "Load the given files and follow the algorithm shown in slide 13 of our Lab Session 5 to:\n",
    "\n",
    "a) Compute the initialization step of Viterbi."
   ]
  },
  {
   "cell_type": "code",
   "execution_count": 133,
   "metadata": {},
   "outputs": [
    {
     "data": {
      "text/html": [
       "<div>\n",
       "<style scoped>\n",
       "    .dataframe tbody tr th:only-of-type {\n",
       "        vertical-align: middle;\n",
       "    }\n",
       "\n",
       "    .dataframe tbody tr th {\n",
       "        vertical-align: top;\n",
       "    }\n",
       "\n",
       "    .dataframe thead th {\n",
       "        text-align: right;\n",
       "    }\n",
       "</style>\n",
       "<table border=\"1\" class=\"dataframe\">\n",
       "  <thead>\n",
       "    <tr style=\"text-align: right;\">\n",
       "      <th></th>\n",
       "      <th>I</th>\n",
       "      <th>want</th>\n",
       "      <th>to</th>\n",
       "      <th>race</th>\n",
       "    </tr>\n",
       "  </thead>\n",
       "  <tbody>\n",
       "    <tr>\n",
       "      <th>VB</th>\n",
       "      <td>0</td>\n",
       "      <td>NaN</td>\n",
       "      <td>NaN</td>\n",
       "      <td>NaN</td>\n",
       "    </tr>\n",
       "    <tr>\n",
       "      <th>TO</th>\n",
       "      <td>0</td>\n",
       "      <td>NaN</td>\n",
       "      <td>NaN</td>\n",
       "      <td>NaN</td>\n",
       "    </tr>\n",
       "    <tr>\n",
       "      <th>NN</th>\n",
       "      <td>0</td>\n",
       "      <td>NaN</td>\n",
       "      <td>NaN</td>\n",
       "      <td>NaN</td>\n",
       "    </tr>\n",
       "    <tr>\n",
       "      <th>PPSS</th>\n",
       "      <td>0.02479</td>\n",
       "      <td>NaN</td>\n",
       "      <td>NaN</td>\n",
       "      <td>NaN</td>\n",
       "    </tr>\n",
       "  </tbody>\n",
       "</table>\n",
       "</div>"
      ],
      "text/plain": [
       "            I want   to race\n",
       "VB          0  NaN  NaN  NaN\n",
       "TO          0  NaN  NaN  NaN\n",
       "NN          0  NaN  NaN  NaN\n",
       "PPSS  0.02479  NaN  NaN  NaN"
      ]
     },
     "metadata": {},
     "output_type": "display_data"
    },
    {
     "data": {
      "text/html": [
       "<div>\n",
       "<style scoped>\n",
       "    .dataframe tbody tr th:only-of-type {\n",
       "        vertical-align: middle;\n",
       "    }\n",
       "\n",
       "    .dataframe tbody tr th {\n",
       "        vertical-align: top;\n",
       "    }\n",
       "\n",
       "    .dataframe thead th {\n",
       "        text-align: right;\n",
       "    }\n",
       "</style>\n",
       "<table border=\"1\" class=\"dataframe\">\n",
       "  <thead>\n",
       "    <tr style=\"text-align: right;\">\n",
       "      <th></th>\n",
       "      <th>I</th>\n",
       "      <th>want</th>\n",
       "      <th>to</th>\n",
       "      <th>race</th>\n",
       "    </tr>\n",
       "  </thead>\n",
       "  <tbody>\n",
       "    <tr>\n",
       "      <th>VB</th>\n",
       "      <td>0</td>\n",
       "      <td>NaN</td>\n",
       "      <td>NaN</td>\n",
       "      <td>NaN</td>\n",
       "    </tr>\n",
       "    <tr>\n",
       "      <th>TO</th>\n",
       "      <td>0</td>\n",
       "      <td>NaN</td>\n",
       "      <td>NaN</td>\n",
       "      <td>NaN</td>\n",
       "    </tr>\n",
       "    <tr>\n",
       "      <th>NN</th>\n",
       "      <td>0</td>\n",
       "      <td>NaN</td>\n",
       "      <td>NaN</td>\n",
       "      <td>NaN</td>\n",
       "    </tr>\n",
       "    <tr>\n",
       "      <th>PPSS</th>\n",
       "      <td>0</td>\n",
       "      <td>NaN</td>\n",
       "      <td>NaN</td>\n",
       "      <td>NaN</td>\n",
       "    </tr>\n",
       "  </tbody>\n",
       "</table>\n",
       "</div>"
      ],
      "text/plain": [
       "      I want   to race\n",
       "VB    0  NaN  NaN  NaN\n",
       "TO    0  NaN  NaN  NaN\n",
       "NN    0  NaN  NaN  NaN\n",
       "PPSS  0  NaN  NaN  NaN"
      ]
     },
     "metadata": {},
     "output_type": "display_data"
    }
   ],
   "source": [
    "def initialize_viterbi(df_obs, df_trans, sent):\n",
    "    tokens = sent.split()\n",
    "    df = pd.DataFrame(index=df_trans.columns, columns=df_obs.columns)\n",
    "    df_backpointer = pd.DataFrame(index=df_trans.columns, columns=df_obs.columns)\n",
    "    for s in df_trans.columns:\n",
    "        df.at[s, tokens[0]] = df_obs.at[s, tokens[0]] * df_trans.at['<s>', s]\n",
    "        df_backpointer.at[s, tokens[0]] = 0\n",
    "    df.set_index(df_obs.columns)\n",
    "    return df, df_backpointer\n",
    "viterbi_df, backpointer_df = initialize_viterbi(df_obs, df_trans, sentence)\n",
    "display(viterbi_df, backpointer_df)"
   ]
  },
  {
   "cell_type": "markdown",
   "metadata": {},
   "source": [
    "b) Compute the recursion step of Viterbi."
   ]
  },
  {
   "cell_type": "code",
   "execution_count": 139,
   "metadata": {},
   "outputs": [
    {
     "name": "stdout",
     "output_type": "stream",
     "text": [
      "I       2.479000e-02\n",
      "want    5.302581e-05\n",
      "to      1.837344e-06\n",
      "race    1.829995e-10\n",
      "dtype: float64\n",
      "(            I         want           to         race\n",
      "VB          0  5.30258e-05            0  1.82999e-10\n",
      "TO          0            0  1.83734e-06            0\n",
      "NN          0  1.60639e-09            0  4.92225e-13\n",
      "PPSS  0.02479            0            0            0,       I    want    to  race\n",
      "VB    0  [PPSS]  [VB]  [TO]\n",
      "TO    0  [PPSS]  [VB]  [TO]\n",
      "NN    0  [PPSS]  [VB]  [TO]\n",
      "PPSS  0  [PPSS]  [VB]  [TO])\n"
     ]
    }
   ],
   "source": [
    "def viterbi_rec(df, backpointer_df, df_obs, df_trans, sentence):\n",
    "    tokens = sentence.split()\n",
    "    for t in range(1, len(tokens)):\n",
    "        for s in df_trans.columns:\n",
    "            df.at[s, tokens[t]] = max(df[tokens[t-1]]) *  df_obs.at[s, tokens[t]] * df_trans.at[df[df[tokens[t-1]]==(df[tokens[t-1]].max())].index[0], s]\n",
    "            backpointer_df.at[s, tokens[t]] = list(df[df[tokens[t-1]]==df[tokens[t-1]].max()].index)\n",
    "    print(df.max())\n",
    "    return df, backpointer_df\n",
    "print(viterbi_rec(viterbi_df, backpointer_df, df_obs, df_trans, sentence))"
   ]
  },
  {
   "cell_type": "markdown",
   "metadata": {},
   "source": [
    "c) Compute termination step of Viterbi."
   ]
  },
  {
   "cell_type": "code",
   "execution_count": null,
   "metadata": {},
   "outputs": [],
   "source": []
  }
 ],
 "metadata": {
  "kernelspec": {
   "display_name": "Python 3",
   "language": "python",
   "name": "python3"
  },
  "language_info": {
   "codemirror_mode": {
    "name": "ipython",
    "version": 3
   },
   "file_extension": ".py",
   "mimetype": "text/x-python",
   "name": "python",
   "nbconvert_exporter": "python",
   "pygments_lexer": "ipython3",
   "version": "3.8.0"
  }
 },
 "nbformat": 4,
 "nbformat_minor": 2
}
