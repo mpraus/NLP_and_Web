{
 "cells": [
  {
   "cell_type": "markdown",
   "metadata": {},
   "source": [
    "# Exercise 5\n",
    "\n",
    "Using the files *transition_probabilities.csv* and *ovservation_likelihoods.csv*, compute the likelihood of POS tags for the following word sequence:\n",
    "\n",
    "    I want to race\n",
    "\n",
    "## Task 1\n",
    "\n",
    "Load the given files and:\n",
    "\n",
    "a) Write a function to calculate all possible tag sequences for the given word sentence."
   ]
  },
  {
   "cell_type": "code",
   "execution_count": 95,
   "metadata": {},
   "outputs": [
    {
     "name": "stdout",
     "output_type": "stream",
     "text": [
      "[('VB', 'VB', 'VB', 'VB'), ('VB', 'VB', 'VB', 'TO'), ('VB', 'VB', 'VB', 'NN'), ('VB', 'VB', 'VB', 'PPSS'), ('VB', 'VB', 'TO', 'TO'), ('VB', 'VB', 'TO', 'NN'), ('VB', 'VB', 'TO', 'PPSS'), ('VB', 'VB', 'NN', 'NN'), ('VB', 'VB', 'NN', 'PPSS'), ('VB', 'VB', 'PPSS', 'PPSS'), ('VB', 'TO', 'TO', 'TO'), ('VB', 'TO', 'TO', 'NN'), ('VB', 'TO', 'TO', 'PPSS'), ('VB', 'TO', 'NN', 'NN'), ('VB', 'TO', 'NN', 'PPSS'), ('VB', 'TO', 'PPSS', 'PPSS'), ('VB', 'NN', 'NN', 'NN'), ('VB', 'NN', 'NN', 'PPSS'), ('VB', 'NN', 'PPSS', 'PPSS'), ('VB', 'PPSS', 'PPSS', 'PPSS'), ('TO', 'TO', 'TO', 'TO'), ('TO', 'TO', 'TO', 'NN'), ('TO', 'TO', 'TO', 'PPSS'), ('TO', 'TO', 'NN', 'NN'), ('TO', 'TO', 'NN', 'PPSS'), ('TO', 'TO', 'PPSS', 'PPSS'), ('TO', 'NN', 'NN', 'NN'), ('TO', 'NN', 'NN', 'PPSS'), ('TO', 'NN', 'PPSS', 'PPSS'), ('TO', 'PPSS', 'PPSS', 'PPSS'), ('NN', 'NN', 'NN', 'NN'), ('NN', 'NN', 'NN', 'PPSS'), ('NN', 'NN', 'PPSS', 'PPSS'), ('NN', 'PPSS', 'PPSS', 'PPSS'), ('PPSS', 'PPSS', 'PPSS', 'PPSS')]\n"
     ]
    }
   ],
   "source": [
    "import pandas as pd\n",
    "import itertools\n",
    "\n",
    "df_obs = pd.read_csv(\"observation_likelihoods.csv\", \",\", index_col=0)\n",
    "df_obs = df_obs.rename(columns=lambda x : x.strip())\n",
    "\n",
    "df_trans = pd.read_csv(\"transisition_probabilities.csv\", \",\", index_col=0)\n",
    "df_trans = df_trans.rename(columns=lambda x : x.strip())\n",
    "sentence = \"I want to race\"\n",
    "\n",
    "def possible_tag_seq(probability_df_obs, sentence):\n",
    "    return list(itertools.combinations_with_replacement(list(probability_df_obs.index), len(sentence.split())))\n",
    "\n",
    "print(possible_tag_seq(df_obs, sentence))\n"
   ]
  },
  {
   "cell_type": "markdown",
   "metadata": {},
   "source": [
    "b) Write a function to select the most probable tag sequence."
   ]
  },
  {
   "cell_type": "code",
   "execution_count": 90,
   "metadata": {},
   "outputs": [
    {
     "data": {
      "text/plain": [
       "Index(['I', 'want', 'to', 'race'], dtype='object')"
      ]
     },
     "metadata": {},
     "output_type": "display_data"
    },
    {
     "name": "stdout",
     "output_type": "stream",
     "text": [
      "['PPSS', 'VB', 'TO', 'NN']\n"
     ]
    }
   ],
   "source": [
    "def most_prob(dataframe, sentence):\n",
    "    seq = []\n",
    "    tokens = sentence.split()\n",
    "    for token in tokens:\n",
    "        seq.append(dataframe.nlargest(1, token).index[0])\n",
    "    return seq\n",
    "display(df.columns)\n",
    "print(most_prob(df, sentence))"
   ]
  },
  {
   "cell_type": "markdown",
   "metadata": {},
   "source": [
    "c) Discuss your solution."
   ]
  },
  {
   "cell_type": "markdown",
   "metadata": {},
   "source": [
    "The function possible_tag_seq recieves a sentence and a data farme with all possible tags and their probabilities. As the probabilites are not relevant for the task, the function calculates the number of tokens in the sentence by using the split funciton and counting (this only works if the resulting tokens match those of the file). The function then takes all possible POs-Tag  retrieved from the DataFrame and using Itertools calcualtes all possible permutaitons of these POS-Tags with a length equal to the number of tokens.\n",
    "\n",
    "The function most_prob simply looks at which POS-Tag is most probable using the passed dataframe and the pandas function nlargest for each token and chooses that one. By doing so, the most probable sequence is determined."
   ]
  },
  {
   "cell_type": "markdown",
   "metadata": {},
   "source": [
    "## Task 2\n",
    "\n",
    "Load the given files and follow the algorithm shown in slide 13 of our Lab Session 5 to:\n",
    "\n",
    "a) Compute the initialization step of Viterbi."
   ]
  },
  {
   "cell_type": "code",
   "execution_count": null,
   "metadata": {},
   "outputs": [],
   "source": []
  },
  {
   "cell_type": "markdown",
   "metadata": {},
   "source": [
    "b) Compute the recursion step of Viterbi."
   ]
  },
  {
   "cell_type": "code",
   "execution_count": null,
   "metadata": {},
   "outputs": [],
   "source": []
  },
  {
   "cell_type": "markdown",
   "metadata": {},
   "source": [
    "c) Compute termination step of Viterbi."
   ]
  },
  {
   "cell_type": "code",
   "execution_count": null,
   "metadata": {},
   "outputs": [],
   "source": []
  }
 ],
 "metadata": {
  "kernelspec": {
   "display_name": "Python 3",
   "language": "python",
   "name": "python3"
  },
  "language_info": {
   "codemirror_mode": {
    "name": "ipython",
    "version": 3
   },
   "file_extension": ".py",
   "mimetype": "text/x-python",
   "name": "python",
   "nbconvert_exporter": "python",
   "pygments_lexer": "ipython3",
   "version": "3.7.4"
  }
 },
 "nbformat": 4,
 "nbformat_minor": 2
}
