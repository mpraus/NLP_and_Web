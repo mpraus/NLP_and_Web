{
 "cells": [
  {
   "cell_type": "code",
   "execution_count": 3,
   "metadata": {},
   "outputs": [],
   "source": [
    "import requests\n",
    "from scrapy.selector import Selector"
   ]
  },
  {
   "cell_type": "code",
   "execution_count": 4,
   "metadata": {},
   "outputs": [],
   "source": [
    "response = requests.get(\"https://www.fragespiel.com/quiz/training.html\")"
   ]
  },
  {
   "cell_type": "code",
   "execution_count": 5,
   "metadata": {},
   "outputs": [
    {
     "name": "stdout",
     "output_type": "stream",
     "text": [
      "{'11': 'Astronomie', '6': 'Biologie', '26': '- Pflanzen', '24': '- Tier', '5': 'Chemie', '39': 'DDR', '4': 'Erotik', '34': 'Film & TV', '8': 'Geographie', '3': 'Geschichte', '30': 'Kunst', '13': 'Literatur', '35': '- Mythen & Sagen', '36': 'Mathematik', '23': 'Medizin', '2': 'Mode & Lifestyle', '33': 'Musik', '32': 'Philosophie', '12': 'Physik', '10': 'Politik', '17': 'Religon', '1': 'Sport', '20': '- Fußball', '37': 'Technik', '19': '- Computer', '7': 'Verschiedenes', '31': '- Bauwerke', '16': '- Deutschland', '9': '- Film & Musik', '15': '- Österreich', '25': '- Speisen & Getränke', '14': '- Wissenschaft', '18': 'Wirtschaft'}\n"
     ]
    }
   ],
   "source": [
    "# getting categories using scrapy\n",
    "cat_str = Selector(text=response.text).xpath('//select[@name=\"kat[]\"]/option/text()').getall()\n",
    "cat_id = Selector(text=response.text).xpath('//select[@name=\"kat[]\"]/option/@value').getall()\n",
    "categories = { k:x for (k, x) in zip(cat_id, cat_str)}\n",
    "print(categories)"
   ]
  },
  {
   "cell_type": "code",
   "execution_count": 6,
   "metadata": {},
   "outputs": [],
   "source": [
    "levels = { 0: \"sehr leicht\", 1: \"leicht\", 2: \"mittel\", 3:\"schwer\", 4:\"sehr schwer\"}"
   ]
  },
  {
   "cell_type": "code",
   "execution_count": 7,
   "metadata": {},
   "outputs": [],
   "source": [
    "import json \n",
    "\n",
    "def get_questions(category, level):\n",
    "    data = {\"play\":True, \"kat[]\":[category], \"level[]\":[level], \"anzahl\":300}\n",
    "    response = requests.post(\"https://www.fragespiel.com/quiz/training.html\", data=data)\n",
    "    js_questions = Selector(text=response.text).xpath('//script[3]/text()').get()\n",
    "    json_questions = js_questions.split(\"json\\' : \\'\")[1].split(\"\\',\")[0]\n",
    "    return json.loads(json_questions)"
   ]
  },
  {
   "cell_type": "code",
   "execution_count": 12,
   "metadata": {
    "scrolled": true
   },
   "outputs": [
    {
     "name": "stdout",
     "output_type": "stream",
     "text": [
      "Astronomie  --  sehr leicht  --  23\n",
      "Astronomie  --  leicht  --  27\n",
      "Astronomie  --  mittel  --  35\n",
      "Astronomie  --  schwer  --  34\n",
      "Astronomie  --  sehr schwer  --  0\n",
      "Biologie  --  sehr leicht  --  125\n",
      "Biologie  --  leicht  --  203\n",
      "Biologie  --  mittel  --  188\n",
      "Biologie  --  schwer  --  121\n",
      "Biologie  --  sehr schwer  --  20\n",
      "- Pflanzen  --  sehr leicht  --  10\n",
      "- Pflanzen  --  leicht  --  13\n",
      "- Pflanzen  --  mittel  --  20\n",
      "- Pflanzen  --  schwer  --  7\n",
      "- Pflanzen  --  sehr schwer  --  1\n",
      "- Tier  --  sehr leicht  --  41\n",
      "- Tier  --  leicht  --  32\n",
      "- Tier  --  mittel  --  24\n",
      "- Tier  --  schwer  --  17\n",
      "- Tier  --  sehr schwer  --  3\n",
      "Chemie  --  sehr leicht  --  76\n",
      "Chemie  --  leicht  --  165\n",
      "Chemie  --  mittel  --  196\n",
      "Chemie  --  schwer  --  118\n",
      "Chemie  --  sehr schwer  --  15\n",
      "DDR  --  sehr leicht  --  4\n",
      "DDR  --  leicht  --  25\n",
      "DDR  --  mittel  --  80\n",
      "DDR  --  schwer  --  81\n",
      "DDR  --  sehr schwer  --  20\n",
      "Erotik  --  sehr leicht  --  18\n",
      "Erotik  --  leicht  --  28\n",
      "Erotik  --  mittel  --  17\n",
      "Erotik  --  schwer  --  12\n",
      "Erotik  --  sehr schwer  --  4\n",
      "Film & TV  --  sehr leicht  --  27\n",
      "Film & TV  --  leicht  --  21\n",
      "Film & TV  --  mittel  --  21\n",
      "Film & TV  --  schwer  --  11\n",
      "Film & TV  --  sehr schwer  --  2\n",
      "Geographie  --  sehr leicht  --  425\n",
      "Geographie  --  leicht  --  557\n",
      "Geographie  --  mittel  --  534\n",
      "Geographie  --  schwer  --  315\n",
      "Geographie  --  sehr schwer  --  28\n",
      "Geschichte  --  sehr leicht  --  114\n",
      "Geschichte  --  leicht  --  200\n",
      "Geschichte  --  mittel  --  206\n",
      "Geschichte  --  schwer  --  167\n",
      "Geschichte  --  sehr schwer  --  28\n",
      "Kunst  --  sehr leicht  --  11\n",
      "Kunst  --  leicht  --  13\n",
      "Kunst  --  mittel  --  13\n",
      "Kunst  --  schwer  --  11\n",
      "Kunst  --  sehr schwer  --  3\n",
      "Literatur  --  sehr leicht  --  81\n",
      "Literatur  --  leicht  --  93\n",
      "Literatur  --  mittel  --  115\n",
      "Literatur  --  schwer  --  83\n",
      "Literatur  --  sehr schwer  --  10\n",
      "- Mythen & Sagen  --  sehr leicht  --  13\n",
      "- Mythen & Sagen  --  leicht  --  11\n",
      "- Mythen & Sagen  --  mittel  --  12\n",
      "- Mythen & Sagen  --  schwer  --  5\n",
      "- Mythen & Sagen  --  sehr schwer  --  0\n",
      "Mathematik  --  sehr leicht  --  24\n",
      "Mathematik  --  leicht  --  36\n",
      "Mathematik  --  mittel  --  42\n",
      "Mathematik  --  schwer  --  13\n",
      "Mathematik  --  sehr schwer  --  3\n",
      "Medizin  --  sehr leicht  --  37\n",
      "Medizin  --  leicht  --  33\n",
      "Medizin  --  mittel  --  26\n",
      "Medizin  --  schwer  --  28\n",
      "Medizin  --  sehr schwer  --  4\n",
      "Mode & Lifestyle  --  sehr leicht  --  19\n",
      "Mode & Lifestyle  --  leicht  --  24\n",
      "Mode & Lifestyle  --  mittel  --  23\n",
      "Mode & Lifestyle  --  schwer  --  13\n",
      "Mode & Lifestyle  --  sehr schwer  --  5\n",
      "Musik  --  sehr leicht  --  26\n",
      "Musik  --  leicht  --  31\n",
      "Musik  --  mittel  --  24\n",
      "Musik  --  schwer  --  29\n",
      "Musik  --  sehr schwer  --  10\n",
      "Philosophie  --  sehr leicht  --  3\n",
      "Philosophie  --  leicht  --  8\n",
      "Philosophie  --  mittel  --  20\n",
      "Philosophie  --  schwer  --  16\n",
      "Philosophie  --  sehr schwer  --  8\n",
      "Physik  --  sehr leicht  --  90\n",
      "Physik  --  leicht  --  183\n",
      "Physik  --  mittel  --  183\n",
      "Physik  --  schwer  --  132\n",
      "Physik  --  sehr schwer  --  18\n",
      "Politik  --  sehr leicht  --  56\n",
      "Politik  --  leicht  --  158\n",
      "Politik  --  mittel  --  176\n",
      "Politik  --  schwer  --  181\n",
      "Politik  --  sehr schwer  --  30\n",
      "Religon  --  sehr leicht  --  118\n",
      "Religon  --  leicht  --  176\n",
      "Religon  --  mittel  --  160\n",
      "Religon  --  schwer  --  123\n",
      "Religon  --  sehr schwer  --  20\n",
      "Sport  --  sehr leicht  --  128\n",
      "Sport  --  leicht  --  258\n",
      "Sport  --  mittel  --  320\n",
      "Sport  --  schwer  --  298\n",
      "Sport  --  sehr schwer  --  44\n",
      "- Fußball  --  sehr leicht  --  84\n",
      "- Fußball  --  leicht  --  221\n",
      "- Fußball  --  mittel  --  161\n",
      "- Fußball  --  schwer  --  139\n",
      "- Fußball  --  sehr schwer  --  12\n",
      "Technik  --  sehr leicht  --  7\n",
      "Technik  --  leicht  --  11\n",
      "Technik  --  mittel  --  11\n",
      "Technik  --  schwer  --  11\n",
      "Technik  --  sehr schwer  --  2\n",
      "- Computer  --  sehr leicht  --  63\n",
      "- Computer  --  leicht  --  65\n",
      "- Computer  --  mittel  --  33\n",
      "- Computer  --  schwer  --  25\n",
      "- Computer  --  sehr schwer  --  3\n",
      "Verschiedenes  --  sehr leicht  --  271\n",
      "Verschiedenes  --  leicht  --  212\n",
      "Verschiedenes  --  mittel  --  167\n",
      "Verschiedenes  --  schwer  --  103\n",
      "Verschiedenes  --  sehr schwer  --  24\n",
      "- Bauwerke  --  sehr leicht  --  16\n",
      "- Bauwerke  --  leicht  --  16\n",
      "- Bauwerke  --  mittel  --  10\n",
      "- Bauwerke  --  schwer  --  4\n",
      "- Bauwerke  --  sehr schwer  --  0\n",
      "- Deutschland  --  sehr leicht  --  144\n",
      "- Deutschland  --  leicht  --  408\n",
      "- Deutschland  --  mittel  --  640\n",
      "- Deutschland  --  schwer  --  571\n",
      "- Deutschland  --  sehr schwer  --  68\n",
      "- Film & Musik  --  sehr leicht  --  146\n",
      "- Film & Musik  --  leicht  --  239\n",
      "- Film & Musik  --  mittel  --  267\n",
      "- Film & Musik  --  schwer  --  226\n",
      "- Film & Musik  --  sehr schwer  --  34\n",
      "- Österreich  --  sehr leicht  --  31\n",
      "- Österreich  --  leicht  --  25\n",
      "- Österreich  --  mittel  --  25\n",
      "- Österreich  --  schwer  --  14\n",
      "- Österreich  --  sehr schwer  --  2\n",
      "- Speisen & Getränke  --  sehr leicht  --  36\n",
      "- Speisen & Getränke  --  leicht  --  22\n",
      "- Speisen & Getränke  --  mittel  --  12\n",
      "- Speisen & Getränke  --  schwer  --  9\n",
      "- Speisen & Getränke  --  sehr schwer  --  1\n",
      "- Wissenschaft  --  sehr leicht  --  58\n",
      "- Wissenschaft  --  leicht  --  92\n",
      "- Wissenschaft  --  mittel  --  92\n",
      "- Wissenschaft  --  schwer  --  98\n",
      "- Wissenschaft  --  sehr schwer  --  20\n",
      "Wirtschaft  --  sehr leicht  --  99\n",
      "Wirtschaft  --  leicht  --  123\n",
      "Wirtschaft  --  mittel  --  172\n",
      "Wirtschaft  --  schwer  --  170\n",
      "Wirtschaft  --  sehr schwer  --  14\n"
     ]
    }
   ],
   "source": [
    "questions = {\"questions\":[]}\n",
    "for cat in categories:\n",
    "    for level in levels:\n",
    "        got_new_questions = True\n",
    "        qids = []\n",
    "        retries = 5\n",
    "        while got_new_questions:\n",
    "            qs = get_questions(cat, level)\n",
    "            new_questions = []\n",
    "            for q in qs[\"questions\"]:\n",
    "                # Skip question if it is already known\n",
    "                if not q['id'] in qids:\n",
    "                    # add category and level info\n",
    "                    q[\"category\"] = cat\n",
    "                    q[\"level\"] = level\n",
    "                    # remove weird number\n",
    "                    q[\"a\"] = q[\"a\"][0]\n",
    "                    q[\"b\"] = q[\"b\"][0]\n",
    "                    q[\"c\"] = q[\"c\"][0]\n",
    "                    q[\"d\"] = q[\"d\"][0]\n",
    "                    new_questions.append(q)\n",
    "            questions[\"questions\"] = questions[\"questions\"] + new_questions\n",
    "            qids += [q['id'] for q in new_questions]\n",
    "            # if there are less than 150 questions, we dont need to request more than once\n",
    "            if len(qids) < 150:\n",
    "                got_new_questions = False\n",
    "            else:\n",
    "                got_new_questions = len(new_questions) > 0 or retries > 0\n",
    "                if len(new_questions) == 0:\n",
    "                    retries -= 1\n",
    "        print(categories[cat], \" -- \", levels[level], \" -- \", len(qids))"
   ]
  },
  {
   "cell_type": "code",
   "execution_count": 17,
   "metadata": {},
   "outputs": [
    {
     "name": "stdout",
     "output_type": "stream",
     "text": [
      "13819\n"
     ]
    }
   ],
   "source": [
    "questions = questions[\"questions\"]\n",
    "print(len(questions))"
   ]
  },
  {
   "cell_type": "code",
   "execution_count": 18,
   "metadata": {},
   "outputs": [
    {
     "name": "stdout",
     "output_type": "stream",
     "text": [
      "13819\n",
      "12764\n",
      "deleted 357.0 from Sport\n",
      "deleted 4.0 from Mode & Lifestyle\n",
      "deleted 81.0 from Geschichte\n",
      "deleted 11.0 from Chemie\n",
      "deleted 40.0 from Biologie\n",
      "deleted 105.0 from Verschiedenes\n",
      "deleted 57.0 from Geographie\n",
      "deleted 11.0 from - Film & Musik\n",
      "deleted 13.0 from Politik\n",
      "deleted 3.0 from Astronomie\n",
      "deleted 36.0 from Physik\n",
      "deleted 10.0 from Literatur\n",
      "deleted 37.0 from - Wissenschaft\n",
      "deleted 7.0 from - Österreich\n",
      "deleted 226.0 from - Deutschland\n",
      "deleted 10.0 from Religon\n",
      "deleted 2.0 from Wirtschaft\n",
      "deleted 5.0 from - Computer\n",
      "deleted 10.0 from - Fußball\n",
      "deleted 3.0 from Medizin\n",
      "deleted 13.0 from - Speisen & Getränke\n",
      "deleted 1.0 from Kunst\n",
      "deleted 10.0 from Musik\n",
      "deleted 3.0 from Mathematik\n"
     ]
    }
   ],
   "source": [
    "# There are duplicates, remove them from the category with highest amount of questions\n",
    "import numpy as np\n",
    "\n",
    "# category frequency\n",
    "cats_dict = {}\n",
    "for q in questions:\n",
    "  if q['category'] in cats_dict:\n",
    "    cats_dict[q['category']] += 1\n",
    "  else:\n",
    "    cats_dict[q['category']] = 1\n",
    "\n",
    "\n",
    "unique_ids = {}\n",
    "\n",
    "deleted_cats = np.zeros(max([int(c) for c in categories.keys()]))\n",
    "\n",
    "for i,q in enumerate(questions):\n",
    "  qid = q[\"id\"]\n",
    "  if qid in unique_ids:\n",
    "    # found a duplicate, check which duplicate to remove based on category frequency\n",
    "    other_i = unique_ids[qid]\n",
    "    if cats_dict[q[\"category\"]] < cats_dict[questions[other_i][\"category\"]]:\n",
    "      unique_ids[qid] = i \n",
    "      deleted_cats[int(questions[other_i][\"category\"])] += 1\n",
    "      cats_dict[questions[other_i][\"category\"]] -= 1\n",
    "    else:\n",
    "      unique_ids[qid] = other_i\n",
    "      deleted_cats[int(q[\"category\"])] += 1\n",
    "      cats_dict[q[\"category\"]] -= 1\n",
    "  else:\n",
    "    unique_ids[qid] = i\n",
    "\n",
    "for i,n in enumerate(deleted_cats):\n",
    "  if n > 0:\n",
    "    print(\"deleted\", n, \"from\", categories[str(i)])\n",
    "questions = [questions[i] for i in unique_ids.values()]"
   ]
  },
  {
   "cell_type": "code",
   "execution_count": 19,
   "metadata": {},
   "outputs": [
    {
     "name": "stdout",
     "output_type": "stream",
     "text": [
      "12764\n"
     ]
    }
   ],
   "source": [
    "print(len(questions))"
   ]
  },
  {
   "cell_type": "code",
   "execution_count": 30,
   "metadata": {},
   "outputs": [],
   "source": [
    "# Replace HTML entities with unicode\n",
    "import html\n",
    "for q in questions:\n",
    "    for s in [\"title\",\"a\",\"b\",\"c\",\"d\"]:\n",
    "        q[s] = html.unescape(q[s])\n"
   ]
  },
  {
   "cell_type": "code",
   "execution_count": 31,
   "metadata": {},
   "outputs": [],
   "source": [
    "with open('questions.json', 'w', encoding='utf8') as f:\n",
    "    json.dump(questions, f, indent=2, ensure_ascii=False)"
   ]
  },
  {
   "cell_type": "markdown",
   "metadata": {},
   "source": [
    "Check if the same request produces different answers when there are more than 150 questions"
   ]
  },
  {
   "cell_type": "code",
   "execution_count": 17,
   "metadata": {},
   "outputs": [
    {
     "name": "stdout",
     "output_type": "stream",
     "text": [
      "The number of intersecting elements is:  130\n"
     ]
    }
   ],
   "source": [
    "test_cat = 18\n",
    "test_lvl = 2\n",
    "qs1 = get_questions(test_cat, test_lvl)\n",
    "ids1 = [q['id'] for q in qs1['questions']]\n",
    "qs2 = get_questions(test_cat, test_lvl)\n",
    "ids2 = [q['id'] for q in qs2['questions']]\n",
    "print('The number of intersecting elements is: ',len(set(ids1) & set(ids2)))"
   ]
  },
  {
   "cell_type": "code",
   "execution_count": null,
   "metadata": {},
   "outputs": [],
   "source": []
  },
  {
   "cell_type": "markdown",
   "metadata": {},
   "source": [
    "That is good because now we can just pull random requests until we get no new questions"
   ]
  },
  {
   "cell_type": "code",
   "execution_count": null,
   "metadata": {},
   "outputs": [],
   "source": []
  }
 ],
 "metadata": {
  "kernelspec": {
   "display_name": "Python 3",
   "language": "python",
   "name": "python3"
  },
  "language_info": {
   "codemirror_mode": {
    "name": "ipython",
    "version": 3
   },
   "file_extension": ".py",
   "mimetype": "text/x-python",
   "name": "python",
   "nbconvert_exporter": "python",
   "pygments_lexer": "ipython3",
   "version": "3.5.3"
  }
 },
 "nbformat": 4,
 "nbformat_minor": 2
}
